{
 "cells": [
  {
   "cell_type": "code",
   "execution_count": 1,
   "metadata": {},
   "outputs": [],
   "source": [
    "import warnings\n",
    "warnings.filterwarnings('ignore') # 実行に影響のない　warninig　を非表示にします. 非推奨."
   ]
  },
  {
   "cell_type": "markdown",
   "metadata": {},
   "source": [
    "# Chapter4: アンサンブル学習"
   ]
  },
  {
   "cell_type": "markdown",
   "metadata": {},
   "source": [
    "この章では, アンサンブル学習についての解説および簡単な実装を行う."
   ]
  },
  {
   "cell_type": "markdown",
   "metadata": {},
   "source": [
    "## 4.1 アンサンブル学習とは"
   ]
  },
  {
   "cell_type": "markdown",
   "metadata": {},
   "source": [
    "アンサンブル学習とは, 弱学習器（性能は高くない分類器や回帰モデル）を複数構築し, それらを組み合わせることで予測精度を上げることを目指す学習手法の総称である.\n",
    "\n",
    "「 三人寄れば文殊の知恵 」ということわざを体現したような手法となっている."
   ]
  },
  {
   "cell_type": "markdown",
   "metadata": {},
   "source": [
    "## 4.2 アンサンブル学習の代表的手法の紹介"
   ]
  },
  {
   "cell_type": "markdown",
   "metadata": {},
   "source": [
    "アンサンブル学習には, 主に以下のような種類の方法がある. <br><br>\n",
    "\n",
    "* **[バギング](#1.3)** : 個々の弱学習器の学習を**並列的に**行う手法 <br><br>\n",
    "\n",
    " * バギングをベースにした代表的なアルゴリズムに[ランダムフォレスト](#1.3.1)がある. <br><br>\n",
    "\n",
    "* **[ブースティング](#1.4)** : 個々の弱学習器の学習を**直列的に**行う手法 <br><br>\n",
    "\n",
    " * ブースティングをベースにした代表的なアルゴリズムに[勾配ブースティング決定木](#1.4.1)がある. "
   ]
  },
  {
   "cell_type": "markdown",
   "metadata": {},
   "source": [
    "## 4.3 バギング\n",
    "<a id=\"4.3\"></a>"
   ]
  },
  {
   "cell_type": "markdown",
   "metadata": {},
   "source": [
    "バギングとは, **ブーストラップ法により得られたデータセット用いて, 個々の弱学習器を並列的に学習させていく手法**である.<br>\n",
    "そうして学習された弱学習器の出力の多数決（分類の場合）や平均（回帰の場合）を最終的な予測結果とする. <br><br>\n",
    "**※ブーストラップ法**<br>\n",
    "元の学習データから一部のデータを復元抽出（一度抽出したサンプルが再び抽出の対象となる方法）して, 別のデータセットを作るという操作を繰り返して, 新たなデータセットを複数作ること\n",
    "<br><br>\n",
    "並列する学習器の内容が全て同じでは, 多数決や平均を取る意味が無い. <br>\n",
    "それぞれの学習器に個性を持たせるために, ブーストラップ法で得た内容が少しずつ異なるデータセットを用いて学習する.\n"
   ]
  },
  {
   "cell_type": "markdown",
   "metadata": {},
   "source": [
    "### 4.3.1 ランダムフォレスト（RF）\n",
    "<a id=\"4.3.1\"></a>"
   ]
  },
  {
   "cell_type": "markdown",
   "metadata": {},
   "source": [
    "ランダムフォレストとは, **決定木を弱学習器としたアンサンブル学習手法で, バギングを改良した手法**である.\n",
    "<br><br>\n",
    "ブーストラップ法の適用に加えて, 使用する特徴量をランダムに選択して各決定木を作成するという工夫を行うことで, 作成される決定木間の相関が低くなり, 通常のバギングよりも, **多様な決定木の作成を実現**している.\n"
   ]
  },
  {
   "cell_type": "markdown",
   "metadata": {},
   "source": [
    "### 4.3.2 ランダムフォレストの使用例\n",
    "<a id=\"4.3.2\"></a>"
   ]
  },
  {
   "cell_type": "markdown",
   "metadata": {},
   "source": [
    "### 4.3.2.1 データセットの準備"
   ]
  },
  {
   "cell_type": "markdown",
   "metadata": {},
   "source": [
    "今回はペンギンデータセットを用いる.\n",
    "<br>\n",
    "タスクは３種類のペンギンを分類することである.（ヒゲペンギン・ジェンツーペンギン・アデリーペンギン）\n",
    "![](./figs/peng.png)\n",
    "今回使用する説明変数は以下の5つとする\n",
    "* bill_length_mm（くちばしの長さ）\n",
    "* bill_depth_mm（くちばしの高さ）\n",
    "* flipper_length_mm（翼の長さ）\n",
    "* body_mass_g（体重）\n",
    "* year（観測年）"
   ]
  },
  {
   "cell_type": "code",
   "execution_count": null,
   "metadata": {},
   "outputs": [],
   "source": [
    "!pip install palmerpenguins"
   ]
  },
  {
   "cell_type": "code",
   "execution_count": 2,
   "metadata": {},
   "outputs": [
    {
     "data": {
      "text/html": [
       "<div>\n",
       "<style scoped>\n",
       "    .dataframe tbody tr th:only-of-type {\n",
       "        vertical-align: middle;\n",
       "    }\n",
       "\n",
       "    .dataframe tbody tr th {\n",
       "        vertical-align: top;\n",
       "    }\n",
       "\n",
       "    .dataframe thead th {\n",
       "        text-align: right;\n",
       "    }\n",
       "</style>\n",
       "<table border=\"1\" class=\"dataframe\">\n",
       "  <thead>\n",
       "    <tr style=\"text-align: right;\">\n",
       "      <th></th>\n",
       "      <th>species</th>\n",
       "      <th>bill_length_mm</th>\n",
       "      <th>bill_depth_mm</th>\n",
       "      <th>flipper_length_mm</th>\n",
       "      <th>body_mass_g</th>\n",
       "      <th>year</th>\n",
       "    </tr>\n",
       "  </thead>\n",
       "  <tbody>\n",
       "    <tr>\n",
       "      <th>0</th>\n",
       "      <td>Adelie</td>\n",
       "      <td>39.1</td>\n",
       "      <td>18.7</td>\n",
       "      <td>181.0</td>\n",
       "      <td>3750.0</td>\n",
       "      <td>2007</td>\n",
       "    </tr>\n",
       "    <tr>\n",
       "      <th>1</th>\n",
       "      <td>Adelie</td>\n",
       "      <td>39.5</td>\n",
       "      <td>17.4</td>\n",
       "      <td>186.0</td>\n",
       "      <td>3800.0</td>\n",
       "      <td>2007</td>\n",
       "    </tr>\n",
       "    <tr>\n",
       "      <th>2</th>\n",
       "      <td>Adelie</td>\n",
       "      <td>40.3</td>\n",
       "      <td>18.0</td>\n",
       "      <td>195.0</td>\n",
       "      <td>3250.0</td>\n",
       "      <td>2007</td>\n",
       "    </tr>\n",
       "    <tr>\n",
       "      <th>3</th>\n",
       "      <td>Adelie</td>\n",
       "      <td>NaN</td>\n",
       "      <td>NaN</td>\n",
       "      <td>NaN</td>\n",
       "      <td>NaN</td>\n",
       "      <td>2007</td>\n",
       "    </tr>\n",
       "    <tr>\n",
       "      <th>4</th>\n",
       "      <td>Adelie</td>\n",
       "      <td>36.7</td>\n",
       "      <td>19.3</td>\n",
       "      <td>193.0</td>\n",
       "      <td>3450.0</td>\n",
       "      <td>2007</td>\n",
       "    </tr>\n",
       "    <tr>\n",
       "      <th>...</th>\n",
       "      <td>...</td>\n",
       "      <td>...</td>\n",
       "      <td>...</td>\n",
       "      <td>...</td>\n",
       "      <td>...</td>\n",
       "      <td>...</td>\n",
       "    </tr>\n",
       "    <tr>\n",
       "      <th>339</th>\n",
       "      <td>Chinstrap</td>\n",
       "      <td>55.8</td>\n",
       "      <td>19.8</td>\n",
       "      <td>207.0</td>\n",
       "      <td>4000.0</td>\n",
       "      <td>2009</td>\n",
       "    </tr>\n",
       "    <tr>\n",
       "      <th>340</th>\n",
       "      <td>Chinstrap</td>\n",
       "      <td>43.5</td>\n",
       "      <td>18.1</td>\n",
       "      <td>202.0</td>\n",
       "      <td>3400.0</td>\n",
       "      <td>2009</td>\n",
       "    </tr>\n",
       "    <tr>\n",
       "      <th>341</th>\n",
       "      <td>Chinstrap</td>\n",
       "      <td>49.6</td>\n",
       "      <td>18.2</td>\n",
       "      <td>193.0</td>\n",
       "      <td>3775.0</td>\n",
       "      <td>2009</td>\n",
       "    </tr>\n",
       "    <tr>\n",
       "      <th>342</th>\n",
       "      <td>Chinstrap</td>\n",
       "      <td>50.8</td>\n",
       "      <td>19.0</td>\n",
       "      <td>210.0</td>\n",
       "      <td>4100.0</td>\n",
       "      <td>2009</td>\n",
       "    </tr>\n",
       "    <tr>\n",
       "      <th>343</th>\n",
       "      <td>Chinstrap</td>\n",
       "      <td>50.2</td>\n",
       "      <td>18.7</td>\n",
       "      <td>198.0</td>\n",
       "      <td>3775.0</td>\n",
       "      <td>2009</td>\n",
       "    </tr>\n",
       "  </tbody>\n",
       "</table>\n",
       "<p>344 rows × 6 columns</p>\n",
       "</div>"
      ],
      "text/plain": [
       "       species  bill_length_mm  bill_depth_mm  flipper_length_mm  body_mass_g   \n",
       "0       Adelie            39.1           18.7              181.0       3750.0  \\\n",
       "1       Adelie            39.5           17.4              186.0       3800.0   \n",
       "2       Adelie            40.3           18.0              195.0       3250.0   \n",
       "3       Adelie             NaN            NaN                NaN          NaN   \n",
       "4       Adelie            36.7           19.3              193.0       3450.0   \n",
       "..         ...             ...            ...                ...          ...   \n",
       "339  Chinstrap            55.8           19.8              207.0       4000.0   \n",
       "340  Chinstrap            43.5           18.1              202.0       3400.0   \n",
       "341  Chinstrap            49.6           18.2              193.0       3775.0   \n",
       "342  Chinstrap            50.8           19.0              210.0       4100.0   \n",
       "343  Chinstrap            50.2           18.7              198.0       3775.0   \n",
       "\n",
       "     year  \n",
       "0    2007  \n",
       "1    2007  \n",
       "2    2007  \n",
       "3    2007  \n",
       "4    2007  \n",
       "..    ...  \n",
       "339  2009  \n",
       "340  2009  \n",
       "341  2009  \n",
       "342  2009  \n",
       "343  2009  \n",
       "\n",
       "[344 rows x 6 columns]"
      ]
     },
     "execution_count": 2,
     "metadata": {},
     "output_type": "execute_result"
    }
   ],
   "source": [
    "import pandas as pd\n",
    "import numpy as np\n",
    "from palmerpenguins import load_penguins\n",
    "# ペンギンデータセットの読み込み\n",
    "penguin = load_penguins()\n",
    "\n",
    "# 使用する説明変数の指定\n",
    "usecols = [\n",
    "  'species',\n",
    "  'bill_length_mm',\n",
    "  'bill_depth_mm',\n",
    "  'flipper_length_mm',\n",
    "  'body_mass_g',\n",
    "  'year'\n",
    "]\n",
    "df1 = penguin[usecols].copy()\n",
    "df1"
   ]
  },
  {
   "cell_type": "markdown",
   "metadata": {},
   "source": [
    "### 4.3.2.2 前処理"
   ]
  },
  {
   "cell_type": "code",
   "execution_count": 3,
   "metadata": {},
   "outputs": [
    {
     "data": {
      "text/html": [
       "<div>\n",
       "<style scoped>\n",
       "    .dataframe tbody tr th:only-of-type {\n",
       "        vertical-align: middle;\n",
       "    }\n",
       "\n",
       "    .dataframe tbody tr th {\n",
       "        vertical-align: top;\n",
       "    }\n",
       "\n",
       "    .dataframe thead th {\n",
       "        text-align: right;\n",
       "    }\n",
       "</style>\n",
       "<table border=\"1\" class=\"dataframe\">\n",
       "  <thead>\n",
       "    <tr style=\"text-align: right;\">\n",
       "      <th></th>\n",
       "      <th>species</th>\n",
       "      <th>bill_length_mm</th>\n",
       "      <th>bill_depth_mm</th>\n",
       "      <th>flipper_length_mm</th>\n",
       "      <th>body_mass_g</th>\n",
       "      <th>year</th>\n",
       "    </tr>\n",
       "  </thead>\n",
       "  <tbody>\n",
       "    <tr>\n",
       "      <th>0</th>\n",
       "      <td>Adelie</td>\n",
       "      <td>39.1</td>\n",
       "      <td>18.7</td>\n",
       "      <td>181.0</td>\n",
       "      <td>3750.0</td>\n",
       "      <td>2007</td>\n",
       "    </tr>\n",
       "    <tr>\n",
       "      <th>1</th>\n",
       "      <td>Adelie</td>\n",
       "      <td>39.5</td>\n",
       "      <td>17.4</td>\n",
       "      <td>186.0</td>\n",
       "      <td>3800.0</td>\n",
       "      <td>2007</td>\n",
       "    </tr>\n",
       "    <tr>\n",
       "      <th>2</th>\n",
       "      <td>Adelie</td>\n",
       "      <td>40.3</td>\n",
       "      <td>18.0</td>\n",
       "      <td>195.0</td>\n",
       "      <td>3250.0</td>\n",
       "      <td>2007</td>\n",
       "    </tr>\n",
       "    <tr>\n",
       "      <th>4</th>\n",
       "      <td>Adelie</td>\n",
       "      <td>36.7</td>\n",
       "      <td>19.3</td>\n",
       "      <td>193.0</td>\n",
       "      <td>3450.0</td>\n",
       "      <td>2007</td>\n",
       "    </tr>\n",
       "    <tr>\n",
       "      <th>5</th>\n",
       "      <td>Adelie</td>\n",
       "      <td>39.3</td>\n",
       "      <td>20.6</td>\n",
       "      <td>190.0</td>\n",
       "      <td>3650.0</td>\n",
       "      <td>2007</td>\n",
       "    </tr>\n",
       "    <tr>\n",
       "      <th>...</th>\n",
       "      <td>...</td>\n",
       "      <td>...</td>\n",
       "      <td>...</td>\n",
       "      <td>...</td>\n",
       "      <td>...</td>\n",
       "      <td>...</td>\n",
       "    </tr>\n",
       "    <tr>\n",
       "      <th>339</th>\n",
       "      <td>Chinstrap</td>\n",
       "      <td>55.8</td>\n",
       "      <td>19.8</td>\n",
       "      <td>207.0</td>\n",
       "      <td>4000.0</td>\n",
       "      <td>2009</td>\n",
       "    </tr>\n",
       "    <tr>\n",
       "      <th>340</th>\n",
       "      <td>Chinstrap</td>\n",
       "      <td>43.5</td>\n",
       "      <td>18.1</td>\n",
       "      <td>202.0</td>\n",
       "      <td>3400.0</td>\n",
       "      <td>2009</td>\n",
       "    </tr>\n",
       "    <tr>\n",
       "      <th>341</th>\n",
       "      <td>Chinstrap</td>\n",
       "      <td>49.6</td>\n",
       "      <td>18.2</td>\n",
       "      <td>193.0</td>\n",
       "      <td>3775.0</td>\n",
       "      <td>2009</td>\n",
       "    </tr>\n",
       "    <tr>\n",
       "      <th>342</th>\n",
       "      <td>Chinstrap</td>\n",
       "      <td>50.8</td>\n",
       "      <td>19.0</td>\n",
       "      <td>210.0</td>\n",
       "      <td>4100.0</td>\n",
       "      <td>2009</td>\n",
       "    </tr>\n",
       "    <tr>\n",
       "      <th>343</th>\n",
       "      <td>Chinstrap</td>\n",
       "      <td>50.2</td>\n",
       "      <td>18.7</td>\n",
       "      <td>198.0</td>\n",
       "      <td>3775.0</td>\n",
       "      <td>2009</td>\n",
       "    </tr>\n",
       "  </tbody>\n",
       "</table>\n",
       "<p>342 rows × 6 columns</p>\n",
       "</div>"
      ],
      "text/plain": [
       "       species  bill_length_mm  bill_depth_mm  flipper_length_mm  body_mass_g   \n",
       "0       Adelie            39.1           18.7              181.0       3750.0  \\\n",
       "1       Adelie            39.5           17.4              186.0       3800.0   \n",
       "2       Adelie            40.3           18.0              195.0       3250.0   \n",
       "4       Adelie            36.7           19.3              193.0       3450.0   \n",
       "5       Adelie            39.3           20.6              190.0       3650.0   \n",
       "..         ...             ...            ...                ...          ...   \n",
       "339  Chinstrap            55.8           19.8              207.0       4000.0   \n",
       "340  Chinstrap            43.5           18.1              202.0       3400.0   \n",
       "341  Chinstrap            49.6           18.2              193.0       3775.0   \n",
       "342  Chinstrap            50.8           19.0              210.0       4100.0   \n",
       "343  Chinstrap            50.2           18.7              198.0       3775.0   \n",
       "\n",
       "     year  \n",
       "0    2007  \n",
       "1    2007  \n",
       "2    2007  \n",
       "4    2007  \n",
       "5    2007  \n",
       "..    ...  \n",
       "339  2009  \n",
       "340  2009  \n",
       "341  2009  \n",
       "342  2009  \n",
       "343  2009  \n",
       "\n",
       "[342 rows x 6 columns]"
      ]
     },
     "execution_count": 3,
     "metadata": {},
     "output_type": "execute_result"
    }
   ],
   "source": [
    "# 欠損値のあるデータを削除\n",
    "df2=df1.dropna()\n",
    "df2"
   ]
  },
  {
   "cell_type": "code",
   "execution_count": 4,
   "metadata": {},
   "outputs": [],
   "source": [
    "from sklearn.model_selection import train_test_split\n",
    "from sklearn.preprocessing import LabelEncoder\n",
    "\n",
    "# 目的変数を数値に変換\n",
    "species_le = LabelEncoder()\n",
    "df3=df2.copy()\n",
    "df3['species'] = species_le.fit_transform(df2['species'])\n",
    "\n",
    "# 目的変数\n",
    "y=df3[\"species\"]\n",
    "\n",
    "# 説明変数\n",
    "X=df3.drop(\"species\", axis=1)\n",
    "\n",
    "# 学習データとテストデータを分割\n",
    "X_train, X_test, y_train, y_test = train_test_split(X, y, random_state=0, stratify=y)"
   ]
  },
  {
   "cell_type": "markdown",
   "metadata": {},
   "source": [
    "### 4.3.2.3 モデルの定義・学習"
   ]
  },
  {
   "cell_type": "code",
   "execution_count": 5,
   "metadata": {},
   "outputs": [
    {
     "data": {
      "text/html": [
       "<style>#sk-container-id-1 {color: black;}#sk-container-id-1 pre{padding: 0;}#sk-container-id-1 div.sk-toggleable {background-color: white;}#sk-container-id-1 label.sk-toggleable__label {cursor: pointer;display: block;width: 100%;margin-bottom: 0;padding: 0.3em;box-sizing: border-box;text-align: center;}#sk-container-id-1 label.sk-toggleable__label-arrow:before {content: \"▸\";float: left;margin-right: 0.25em;color: #696969;}#sk-container-id-1 label.sk-toggleable__label-arrow:hover:before {color: black;}#sk-container-id-1 div.sk-estimator:hover label.sk-toggleable__label-arrow:before {color: black;}#sk-container-id-1 div.sk-toggleable__content {max-height: 0;max-width: 0;overflow: hidden;text-align: left;background-color: #f0f8ff;}#sk-container-id-1 div.sk-toggleable__content pre {margin: 0.2em;color: black;border-radius: 0.25em;background-color: #f0f8ff;}#sk-container-id-1 input.sk-toggleable__control:checked~div.sk-toggleable__content {max-height: 200px;max-width: 100%;overflow: auto;}#sk-container-id-1 input.sk-toggleable__control:checked~label.sk-toggleable__label-arrow:before {content: \"▾\";}#sk-container-id-1 div.sk-estimator input.sk-toggleable__control:checked~label.sk-toggleable__label {background-color: #d4ebff;}#sk-container-id-1 div.sk-label input.sk-toggleable__control:checked~label.sk-toggleable__label {background-color: #d4ebff;}#sk-container-id-1 input.sk-hidden--visually {border: 0;clip: rect(1px 1px 1px 1px);clip: rect(1px, 1px, 1px, 1px);height: 1px;margin: -1px;overflow: hidden;padding: 0;position: absolute;width: 1px;}#sk-container-id-1 div.sk-estimator {font-family: monospace;background-color: #f0f8ff;border: 1px dotted black;border-radius: 0.25em;box-sizing: border-box;margin-bottom: 0.5em;}#sk-container-id-1 div.sk-estimator:hover {background-color: #d4ebff;}#sk-container-id-1 div.sk-parallel-item::after {content: \"\";width: 100%;border-bottom: 1px solid gray;flex-grow: 1;}#sk-container-id-1 div.sk-label:hover label.sk-toggleable__label {background-color: #d4ebff;}#sk-container-id-1 div.sk-serial::before {content: \"\";position: absolute;border-left: 1px solid gray;box-sizing: border-box;top: 0;bottom: 0;left: 50%;z-index: 0;}#sk-container-id-1 div.sk-serial {display: flex;flex-direction: column;align-items: center;background-color: white;padding-right: 0.2em;padding-left: 0.2em;position: relative;}#sk-container-id-1 div.sk-item {position: relative;z-index: 1;}#sk-container-id-1 div.sk-parallel {display: flex;align-items: stretch;justify-content: center;background-color: white;position: relative;}#sk-container-id-1 div.sk-item::before, #sk-container-id-1 div.sk-parallel-item::before {content: \"\";position: absolute;border-left: 1px solid gray;box-sizing: border-box;top: 0;bottom: 0;left: 50%;z-index: -1;}#sk-container-id-1 div.sk-parallel-item {display: flex;flex-direction: column;z-index: 1;position: relative;background-color: white;}#sk-container-id-1 div.sk-parallel-item:first-child::after {align-self: flex-end;width: 50%;}#sk-container-id-1 div.sk-parallel-item:last-child::after {align-self: flex-start;width: 50%;}#sk-container-id-1 div.sk-parallel-item:only-child::after {width: 0;}#sk-container-id-1 div.sk-dashed-wrapped {border: 1px dashed gray;margin: 0 0.4em 0.5em 0.4em;box-sizing: border-box;padding-bottom: 0.4em;background-color: white;}#sk-container-id-1 div.sk-label label {font-family: monospace;font-weight: bold;display: inline-block;line-height: 1.2em;}#sk-container-id-1 div.sk-label-container {text-align: center;}#sk-container-id-1 div.sk-container {/* jupyter's `normalize.less` sets `[hidden] { display: none; }` but bootstrap.min.css set `[hidden] { display: none !important; }` so we also need the `!important` here to be able to override the default hidden behavior on the sphinx rendered scikit-learn.org. See: https://github.com/scikit-learn/scikit-learn/issues/21755 */display: inline-block !important;position: relative;}#sk-container-id-1 div.sk-text-repr-fallback {display: none;}</style><div id=\"sk-container-id-1\" class=\"sk-top-container\"><div class=\"sk-text-repr-fallback\"><pre>RandomForestClassifier(max_depth=3)</pre><b>In a Jupyter environment, please rerun this cell to show the HTML representation or trust the notebook. <br />On GitHub, the HTML representation is unable to render, please try loading this page with nbviewer.org.</b></div><div class=\"sk-container\" hidden><div class=\"sk-item\"><div class=\"sk-estimator sk-toggleable\"><input class=\"sk-toggleable__control sk-hidden--visually\" id=\"sk-estimator-id-1\" type=\"checkbox\" checked><label for=\"sk-estimator-id-1\" class=\"sk-toggleable__label sk-toggleable__label-arrow\">RandomForestClassifier</label><div class=\"sk-toggleable__content\"><pre>RandomForestClassifier(max_depth=3)</pre></div></div></div></div></div>"
      ],
      "text/plain": [
       "RandomForestClassifier(max_depth=3)"
      ]
     },
     "execution_count": 5,
     "metadata": {},
     "output_type": "execute_result"
    }
   ],
   "source": [
    "from sklearn.ensemble import RandomForestClassifier\n",
    "\n",
    "# 弱学習機（決定木）の個数を100個, 木の最大の深さを3に設定\n",
    "model = RandomForestClassifier(n_estimators=100,max_depth=3)\n",
    "\n",
    "# 学習\n",
    "model.fit(X_train, y_train)"
   ]
  },
  {
   "cell_type": "markdown",
   "metadata": {},
   "source": [
    "### 4.3.2.4 学習結果の確認"
   ]
  },
  {
   "cell_type": "code",
   "execution_count": 6,
   "metadata": {},
   "outputs": [
    {
     "name": "stdout",
     "output_type": "stream",
     "text": [
      "0.9651162790697675\n"
     ]
    }
   ],
   "source": [
    "from sklearn import metrics\n",
    "y_pred = model.predict(X_test)\n",
    "print(metrics.accuracy_score(y_test, y_pred))"
   ]
  },
  {
   "cell_type": "markdown",
   "metadata": {},
   "source": [
    "以下のコードを実行すると, 作成された各決定木を可視化することができます.\n",
    "<br>\n",
    "ただし, コードを実行し, 画像を生成するには,「Graphviz」というソフトウェアを別途インストールする必要がある."
   ]
  },
  {
   "cell_type": "code",
   "execution_count": 6,
   "metadata": {},
   "outputs": [
    {
     "data": {
      "text/plain": [
       "'\\n#決定木を可視化するツールを使用\\nimport dtreeviz\\n\\nestimators = model.estimators_\\nviz1 = dtreeviz.model(\\n    estimators[0],X,y,\\n    target_name=\\'species\\',\\n    feature_names=df3.columns[1:].to_list(),\\n    class_names=penguin[\"species\"].unique().tolist(),\\n)\\n\\nviz2 = dtreeviz.model(\\n    estimators[1],X,y,\\n    target_name=\\'species\\',\\n    feature_names=df3.columns[1:].to_list(),\\n    class_names=penguin[\"species\"].unique().tolist(),\\n)\\n'"
      ]
     },
     "execution_count": 6,
     "metadata": {},
     "output_type": "execute_result"
    }
   ],
   "source": [
    "\"\"\"\n",
    "#決定木を可視化するツールを使用\n",
    "import dtreeviz\n",
    "\n",
    "estimators = model.estimators_\n",
    "viz1 = dtreeviz.model(\n",
    "    estimators[0],X,y,\n",
    "    target_name='species',\n",
    "    feature_names=df3.columns[1:].to_list(),\n",
    "    class_names=penguin[\"species\"].unique().tolist(),\n",
    ")\n",
    "\n",
    "viz2 = dtreeviz.model(\n",
    "    estimators[1],X,y,\n",
    "    target_name='species',\n",
    "    feature_names=df3.columns[1:].to_list(),\n",
    "    class_names=penguin[\"species\"].unique().tolist(),\n",
    ")\n",
    "\"\"\""
   ]
  },
  {
   "cell_type": "code",
   "execution_count": 7,
   "metadata": {},
   "outputs": [
    {
     "data": {
      "text/plain": [
       "'\\n# 複数の決定木のうち, 1つ目の決定木を可視化\\nviz1.view()\\n'"
      ]
     },
     "execution_count": 7,
     "metadata": {},
     "output_type": "execute_result"
    }
   ],
   "source": [
    "\"\"\"\n",
    "# 複数の決定木のうち, 1つ目の決定木を可視化\n",
    "viz1.view()\n",
    "\"\"\""
   ]
  },
  {
   "cell_type": "code",
   "execution_count": 8,
   "metadata": {},
   "outputs": [
    {
     "data": {
      "text/plain": [
       "'\\n# 複数の決定木のうち, 2つ目の決定木を可視化\\nviz2.view()\\n'"
      ]
     },
     "execution_count": 8,
     "metadata": {},
     "output_type": "execute_result"
    }
   ],
   "source": [
    "\"\"\"\n",
    "# 複数の決定木のうち, 2つ目の決定木を可視化\n",
    "viz2.view()\n",
    "\"\"\""
   ]
  },
  {
   "cell_type": "markdown",
   "metadata": {},
   "source": [
    "<br>\n",
    "以上のコードを実行した結果, 表示される画像を以下に示す.\n",
    "\n",
    "複数の決定木のうち, 1つ目の決定木を可視化\n",
    "\n",
    "\n",
    "![](./figs/view_tree.png)\n",
    "<br><br>\n",
    "\n",
    "複数の決定木のうち, 2つ目の決定木を可視化\n",
    "![](./figs/view_tree2.png)\n",
    "\n"
   ]
  },
  {
   "cell_type": "markdown",
   "metadata": {},
   "source": [
    "これらのグラフを見ることで, それぞれの決定木がどのような基準で予測結果を出しているかを理解することができる.\n",
    "<br>\n",
    "また, それぞれ異なる決定木が作成されていることも確認することができる."
   ]
  },
  {
   "cell_type": "markdown",
   "metadata": {},
   "source": [
    "## 4.4 ブースティング\n",
    "<a id=\"4.4\"></a>"
   ]
  },
  {
   "cell_type": "markdown",
   "metadata": {},
   "source": [
    "ブースティングとは, 個々の弱学習器を直列的に学習させていく手法である. 前の弱学習器の結果を参考にし, 予測値を補正するように次の弱学習器を学習させていく.<br>\n"
   ]
  },
  {
   "cell_type": "markdown",
   "metadata": {},
   "source": [
    "### 4.4.1 勾配ブースティング決定木（GBDT）\n",
    "<a id=\"4.4.1\"></a>"
   ]
  },
  {
   "cell_type": "markdown",
   "metadata": {},
   "source": [
    "勾配ブースティング決定木は, 決定木を弱学習器としたアンサンブル学習手法で, 誤差を逐次的に修正していくブースティングの一種である. \n",
    "\n",
    "この手法では, 最初の決定木が作成された後, その決定木が生じさせる誤差に対して次の決定木を訓練し, 誤差を小さくするように予測を更新していく. このプロセスを繰り返すことで, 性能が向上し, 過学習を抑えることが可能になる. 最終的な予測は, 各決定木の予測を重み付けした和として計算される."
   ]
  },
  {
   "cell_type": "markdown",
   "metadata": {},
   "source": [
    "### 4.4.2 勾配ブースティング決定木の使用例"
   ]
  },
  {
   "cell_type": "markdown",
   "metadata": {},
   "source": [
    "[ランダムフォレストの使用例](#4.3.2)と同じ前処理をしたペンギンデータを使用して, 精度の比較を行ってみる."
   ]
  },
  {
   "cell_type": "markdown",
   "metadata": {},
   "source": [
    "### 4.4.2.1 モデルの定義・学習"
   ]
  },
  {
   "cell_type": "markdown",
   "metadata": {},
   "source": [
    "勾配ブースティング決定木を扱えるフレームワークとして, LightGBMを使用する"
   ]
  },
  {
   "cell_type": "code",
   "execution_count": null,
   "metadata": {},
   "outputs": [],
   "source": [
    "!pip install lightgbm"
   ]
  },
  {
   "cell_type": "code",
   "execution_count": 7,
   "metadata": {},
   "outputs": [
    {
     "name": "stdout",
     "output_type": "stream",
     "text": [
      "[LightGBM] [Warning] Auto-choosing col-wise multi-threading, the overhead of testing was 0.000114 seconds.\n",
      "You can set `force_col_wise=true` to remove the overhead.\n",
      "[LightGBM] [Info] Total Bins 225\n",
      "[LightGBM] [Info] Number of data points in the train set: 256, number of used features: 5\n",
      "[LightGBM] [Info] Start training from score -0.817790\n",
      "[LightGBM] [Info] Start training from score -1.613352\n",
      "[LightGBM] [Info] Start training from score -1.023389\n",
      "[LightGBM] [Warning] No further splits with positive gain, best gain: -inf\n",
      "[LightGBM] [Warning] No further splits with positive gain, best gain: -inf\n",
      "[LightGBM] [Warning] No further splits with positive gain, best gain: -inf\n",
      "[LightGBM] [Warning] No further splits with positive gain, best gain: -inf\n",
      "[LightGBM] [Warning] No further splits with positive gain, best gain: -inf\n",
      "[LightGBM] [Warning] No further splits with positive gain, best gain: -inf\n",
      "[LightGBM] [Warning] No further splits with positive gain, best gain: -inf\n",
      "[LightGBM] [Warning] No further splits with positive gain, best gain: -inf\n",
      "[LightGBM] [Warning] No further splits with positive gain, best gain: -inf\n",
      "[LightGBM] [Warning] No further splits with positive gain, best gain: -inf\n",
      "[LightGBM] [Warning] No further splits with positive gain, best gain: -inf\n",
      "[LightGBM] [Warning] No further splits with positive gain, best gain: -inf\n",
      "[LightGBM] [Warning] No further splits with positive gain, best gain: -inf\n",
      "[LightGBM] [Warning] No further splits with positive gain, best gain: -inf\n",
      "[LightGBM] [Warning] No further splits with positive gain, best gain: -inf\n",
      "[LightGBM] [Warning] No further splits with positive gain, best gain: -inf\n",
      "[LightGBM] [Warning] No further splits with positive gain, best gain: -inf\n",
      "[LightGBM] [Warning] No further splits with positive gain, best gain: -inf\n",
      "[LightGBM] [Warning] No further splits with positive gain, best gain: -inf\n",
      "[LightGBM] [Warning] No further splits with positive gain, best gain: -inf\n",
      "[LightGBM] [Warning] No further splits with positive gain, best gain: -inf\n",
      "[LightGBM] [Warning] No further splits with positive gain, best gain: -inf\n",
      "[LightGBM] [Warning] No further splits with positive gain, best gain: -inf\n",
      "[LightGBM] [Warning] No further splits with positive gain, best gain: -inf\n",
      "[LightGBM] [Warning] No further splits with positive gain, best gain: -inf\n",
      "[LightGBM] [Warning] No further splits with positive gain, best gain: -inf\n",
      "[LightGBM] [Warning] No further splits with positive gain, best gain: -inf\n",
      "[LightGBM] [Warning] No further splits with positive gain, best gain: -inf\n",
      "[LightGBM] [Warning] No further splits with positive gain, best gain: -inf\n",
      "[LightGBM] [Warning] No further splits with positive gain, best gain: -inf\n",
      "[LightGBM] [Warning] No further splits with positive gain, best gain: -inf\n",
      "[LightGBM] [Warning] No further splits with positive gain, best gain: -inf\n",
      "[LightGBM] [Warning] No further splits with positive gain, best gain: -inf\n",
      "[LightGBM] [Warning] No further splits with positive gain, best gain: -inf\n",
      "[LightGBM] [Warning] No further splits with positive gain, best gain: -inf\n",
      "[LightGBM] [Warning] No further splits with positive gain, best gain: -inf\n",
      "[LightGBM] [Warning] No further splits with positive gain, best gain: -inf\n",
      "[LightGBM] [Warning] No further splits with positive gain, best gain: -inf\n",
      "[LightGBM] [Warning] No further splits with positive gain, best gain: -inf\n",
      "[LightGBM] [Warning] No further splits with positive gain, best gain: -inf\n",
      "[LightGBM] [Warning] No further splits with positive gain, best gain: -inf\n",
      "[LightGBM] [Warning] No further splits with positive gain, best gain: -inf\n",
      "[LightGBM] [Warning] No further splits with positive gain, best gain: -inf\n",
      "[LightGBM] [Warning] No further splits with positive gain, best gain: -inf\n",
      "[LightGBM] [Warning] No further splits with positive gain, best gain: -inf\n",
      "[LightGBM] [Warning] No further splits with positive gain, best gain: -inf\n",
      "[LightGBM] [Warning] No further splits with positive gain, best gain: -inf\n",
      "[LightGBM] [Warning] No further splits with positive gain, best gain: -inf\n",
      "[LightGBM] [Warning] No further splits with positive gain, best gain: -inf\n",
      "[LightGBM] [Warning] No further splits with positive gain, best gain: -inf\n",
      "[LightGBM] [Warning] No further splits with positive gain, best gain: -inf\n",
      "[LightGBM] [Warning] No further splits with positive gain, best gain: -inf\n",
      "[LightGBM] [Warning] No further splits with positive gain, best gain: -inf\n",
      "[LightGBM] [Warning] No further splits with positive gain, best gain: -inf\n",
      "[LightGBM] [Warning] No further splits with positive gain, best gain: -inf\n",
      "[LightGBM] [Warning] No further splits with positive gain, best gain: -inf\n",
      "[LightGBM] [Warning] No further splits with positive gain, best gain: -inf\n",
      "[LightGBM] [Warning] No further splits with positive gain, best gain: -inf\n",
      "[LightGBM] [Warning] No further splits with positive gain, best gain: -inf\n",
      "[LightGBM] [Warning] No further splits with positive gain, best gain: -inf\n",
      "[LightGBM] [Warning] No further splits with positive gain, best gain: -inf\n",
      "[LightGBM] [Warning] No further splits with positive gain, best gain: -inf\n",
      "[LightGBM] [Warning] No further splits with positive gain, best gain: -inf\n",
      "[LightGBM] [Warning] No further splits with positive gain, best gain: -inf\n",
      "[LightGBM] [Warning] No further splits with positive gain, best gain: -inf\n",
      "[LightGBM] [Warning] No further splits with positive gain, best gain: -inf\n",
      "[LightGBM] [Warning] No further splits with positive gain, best gain: -inf\n",
      "[LightGBM] [Warning] No further splits with positive gain, best gain: -inf\n",
      "[LightGBM] [Warning] No further splits with positive gain, best gain: -inf\n",
      "[LightGBM] [Warning] No further splits with positive gain, best gain: -inf\n",
      "[LightGBM] [Warning] No further splits with positive gain, best gain: -inf\n",
      "[LightGBM] [Warning] No further splits with positive gain, best gain: -inf\n",
      "[LightGBM] [Warning] No further splits with positive gain, best gain: -inf\n",
      "[LightGBM] [Warning] No further splits with positive gain, best gain: -inf\n",
      "[LightGBM] [Warning] No further splits with positive gain, best gain: -inf\n",
      "[LightGBM] [Warning] No further splits with positive gain, best gain: -inf\n",
      "[LightGBM] [Warning] No further splits with positive gain, best gain: -inf\n",
      "[LightGBM] [Warning] No further splits with positive gain, best gain: -inf\n",
      "[LightGBM] [Warning] No further splits with positive gain, best gain: -inf\n",
      "[LightGBM] [Warning] No further splits with positive gain, best gain: -inf\n",
      "[LightGBM] [Warning] No further splits with positive gain, best gain: -inf\n",
      "[LightGBM] [Warning] No further splits with positive gain, best gain: -inf\n",
      "[LightGBM] [Warning] No further splits with positive gain, best gain: -inf\n",
      "[LightGBM] [Warning] No further splits with positive gain, best gain: -inf\n",
      "[LightGBM] [Warning] No further splits with positive gain, best gain: -inf\n",
      "[LightGBM] [Warning] No further splits with positive gain, best gain: -inf\n",
      "[LightGBM] [Warning] No further splits with positive gain, best gain: -inf\n",
      "[LightGBM] [Warning] No further splits with positive gain, best gain: -inf\n",
      "[LightGBM] [Warning] No further splits with positive gain, best gain: -inf\n",
      "[LightGBM] [Warning] No further splits with positive gain, best gain: -inf\n",
      "[LightGBM] [Warning] No further splits with positive gain, best gain: -inf\n",
      "[LightGBM] [Warning] No further splits with positive gain, best gain: -inf\n",
      "[LightGBM] [Warning] No further splits with positive gain, best gain: -inf\n",
      "[LightGBM] [Warning] No further splits with positive gain, best gain: -inf\n",
      "[LightGBM] [Warning] No further splits with positive gain, best gain: -inf\n",
      "[LightGBM] [Warning] No further splits with positive gain, best gain: -inf\n",
      "[LightGBM] [Warning] No further splits with positive gain, best gain: -inf\n",
      "[LightGBM] [Warning] No further splits with positive gain, best gain: -inf\n",
      "[LightGBM] [Warning] No further splits with positive gain, best gain: -inf\n",
      "[LightGBM] [Warning] No further splits with positive gain, best gain: -inf\n",
      "[LightGBM] [Warning] No further splits with positive gain, best gain: -inf\n",
      "[LightGBM] [Warning] No further splits with positive gain, best gain: -inf\n",
      "[LightGBM] [Warning] No further splits with positive gain, best gain: -inf\n",
      "[LightGBM] [Warning] No further splits with positive gain, best gain: -inf\n",
      "[LightGBM] [Warning] No further splits with positive gain, best gain: -inf\n",
      "[LightGBM] [Warning] No further splits with positive gain, best gain: -inf\n",
      "[LightGBM] [Warning] No further splits with positive gain, best gain: -inf\n",
      "[LightGBM] [Warning] No further splits with positive gain, best gain: -inf\n",
      "[LightGBM] [Warning] No further splits with positive gain, best gain: -inf\n",
      "[LightGBM] [Warning] No further splits with positive gain, best gain: -inf\n",
      "[LightGBM] [Warning] No further splits with positive gain, best gain: -inf\n",
      "[LightGBM] [Warning] No further splits with positive gain, best gain: -inf\n",
      "[LightGBM] [Warning] No further splits with positive gain, best gain: -inf\n",
      "[LightGBM] [Warning] No further splits with positive gain, best gain: -inf\n",
      "[LightGBM] [Warning] No further splits with positive gain, best gain: -inf\n",
      "[LightGBM] [Warning] No further splits with positive gain, best gain: -inf\n",
      "[LightGBM] [Warning] No further splits with positive gain, best gain: -inf\n",
      "[LightGBM] [Warning] No further splits with positive gain, best gain: -inf\n",
      "[LightGBM] [Warning] No further splits with positive gain, best gain: -inf\n",
      "[LightGBM] [Warning] No further splits with positive gain, best gain: -inf\n",
      "[LightGBM] [Warning] No further splits with positive gain, best gain: -inf\n",
      "[LightGBM] [Warning] No further splits with positive gain, best gain: -inf\n",
      "[LightGBM] [Warning] No further splits with positive gain, best gain: -inf\n",
      "[LightGBM] [Warning] No further splits with positive gain, best gain: -inf\n",
      "[LightGBM] [Warning] No further splits with positive gain, best gain: -inf\n",
      "[LightGBM] [Warning] No further splits with positive gain, best gain: -inf\n",
      "[LightGBM] [Warning] No further splits with positive gain, best gain: -inf\n",
      "[LightGBM] [Warning] No further splits with positive gain, best gain: -inf\n",
      "[LightGBM] [Warning] No further splits with positive gain, best gain: -inf\n",
      "[LightGBM] [Warning] No further splits with positive gain, best gain: -inf\n",
      "[LightGBM] [Warning] No further splits with positive gain, best gain: -inf\n",
      "[LightGBM] [Warning] No further splits with positive gain, best gain: -inf\n",
      "[LightGBM] [Warning] No further splits with positive gain, best gain: -inf\n",
      "[LightGBM] [Warning] No further splits with positive gain, best gain: -inf\n",
      "[LightGBM] [Warning] No further splits with positive gain, best gain: -inf\n",
      "[LightGBM] [Warning] No further splits with positive gain, best gain: -inf\n",
      "[LightGBM] [Warning] No further splits with positive gain, best gain: -inf\n",
      "[LightGBM] [Warning] No further splits with positive gain, best gain: -inf\n",
      "[LightGBM] [Warning] No further splits with positive gain, best gain: -inf\n",
      "[LightGBM] [Warning] No further splits with positive gain, best gain: -inf\n",
      "[LightGBM] [Warning] No further splits with positive gain, best gain: -inf\n",
      "[LightGBM] [Warning] No further splits with positive gain, best gain: -inf\n",
      "[LightGBM] [Warning] No further splits with positive gain, best gain: -inf\n",
      "[LightGBM] [Warning] No further splits with positive gain, best gain: -inf\n",
      "[LightGBM] [Warning] No further splits with positive gain, best gain: -inf\n",
      "[LightGBM] [Warning] No further splits with positive gain, best gain: -inf\n",
      "[LightGBM] [Warning] No further splits with positive gain, best gain: -inf\n",
      "[LightGBM] [Warning] No further splits with positive gain, best gain: -inf\n",
      "[LightGBM] [Warning] No further splits with positive gain, best gain: -inf\n",
      "[LightGBM] [Warning] No further splits with positive gain, best gain: -inf\n",
      "[LightGBM] [Warning] No further splits with positive gain, best gain: -inf\n",
      "[LightGBM] [Warning] No further splits with positive gain, best gain: -inf\n",
      "[LightGBM] [Warning] No further splits with positive gain, best gain: -inf\n",
      "[LightGBM] [Warning] No further splits with positive gain, best gain: -inf\n",
      "[LightGBM] [Warning] No further splits with positive gain, best gain: -inf\n",
      "[LightGBM] [Warning] No further splits with positive gain, best gain: -inf\n",
      "[LightGBM] [Warning] No further splits with positive gain, best gain: -inf\n",
      "[LightGBM] [Warning] No further splits with positive gain, best gain: -inf\n",
      "[LightGBM] [Warning] No further splits with positive gain, best gain: -inf\n",
      "[LightGBM] [Warning] No further splits with positive gain, best gain: -inf\n",
      "[LightGBM] [Warning] No further splits with positive gain, best gain: -inf\n",
      "[LightGBM] [Warning] No further splits with positive gain, best gain: -inf\n",
      "[LightGBM] [Warning] No further splits with positive gain, best gain: -inf\n",
      "[LightGBM] [Warning] No further splits with positive gain, best gain: -inf\n",
      "[LightGBM] [Warning] No further splits with positive gain, best gain: -inf\n",
      "[LightGBM] [Warning] No further splits with positive gain, best gain: -inf\n",
      "[LightGBM] [Warning] No further splits with positive gain, best gain: -inf\n",
      "[LightGBM] [Warning] No further splits with positive gain, best gain: -inf\n",
      "[LightGBM] [Warning] No further splits with positive gain, best gain: -inf\n",
      "[LightGBM] [Warning] No further splits with positive gain, best gain: -inf\n",
      "[LightGBM] [Warning] No further splits with positive gain, best gain: -inf\n",
      "[LightGBM] [Warning] No further splits with positive gain, best gain: -inf\n",
      "[LightGBM] [Warning] No further splits with positive gain, best gain: -inf\n",
      "[LightGBM] [Warning] No further splits with positive gain, best gain: -inf\n",
      "[LightGBM] [Warning] No further splits with positive gain, best gain: -inf\n",
      "[LightGBM] [Warning] No further splits with positive gain, best gain: -inf\n",
      "[LightGBM] [Warning] No further splits with positive gain, best gain: -inf\n",
      "[LightGBM] [Warning] No further splits with positive gain, best gain: -inf\n",
      "[LightGBM] [Warning] No further splits with positive gain, best gain: -inf\n",
      "[LightGBM] [Warning] No further splits with positive gain, best gain: -inf\n",
      "[LightGBM] [Warning] No further splits with positive gain, best gain: -inf\n",
      "[LightGBM] [Warning] No further splits with positive gain, best gain: -inf\n",
      "[LightGBM] [Warning] No further splits with positive gain, best gain: -inf\n",
      "[LightGBM] [Warning] No further splits with positive gain, best gain: -inf\n",
      "[LightGBM] [Warning] No further splits with positive gain, best gain: -inf\n",
      "[LightGBM] [Warning] No further splits with positive gain, best gain: -inf\n",
      "[LightGBM] [Warning] No further splits with positive gain, best gain: -inf\n",
      "[LightGBM] [Warning] No further splits with positive gain, best gain: -inf\n",
      "[LightGBM] [Warning] No further splits with positive gain, best gain: -inf\n",
      "[LightGBM] [Warning] No further splits with positive gain, best gain: -inf\n",
      "[LightGBM] [Warning] No further splits with positive gain, best gain: -inf\n",
      "[LightGBM] [Warning] No further splits with positive gain, best gain: -inf\n",
      "[LightGBM] [Warning] No further splits with positive gain, best gain: -inf\n",
      "[LightGBM] [Warning] No further splits with positive gain, best gain: -inf\n",
      "[LightGBM] [Warning] No further splits with positive gain, best gain: -inf\n",
      "[LightGBM] [Warning] No further splits with positive gain, best gain: -inf\n",
      "[LightGBM] [Warning] No further splits with positive gain, best gain: -inf\n",
      "[LightGBM] [Warning] No further splits with positive gain, best gain: -inf\n",
      "[LightGBM] [Warning] No further splits with positive gain, best gain: -inf\n",
      "[LightGBM] [Warning] No further splits with positive gain, best gain: -inf\n",
      "[LightGBM] [Warning] No further splits with positive gain, best gain: -inf\n",
      "[LightGBM] [Warning] No further splits with positive gain, best gain: -inf\n",
      "[LightGBM] [Warning] No further splits with positive gain, best gain: -inf\n",
      "[LightGBM] [Warning] No further splits with positive gain, best gain: -inf\n",
      "[LightGBM] [Warning] No further splits with positive gain, best gain: -inf\n",
      "[LightGBM] [Warning] No further splits with positive gain, best gain: -inf\n",
      "[LightGBM] [Warning] No further splits with positive gain, best gain: -inf\n",
      "[LightGBM] [Warning] No further splits with positive gain, best gain: -inf\n",
      "[LightGBM] [Warning] No further splits with positive gain, best gain: -inf\n",
      "[LightGBM] [Warning] No further splits with positive gain, best gain: -inf\n",
      "[LightGBM] [Warning] No further splits with positive gain, best gain: -inf\n",
      "[LightGBM] [Warning] No further splits with positive gain, best gain: -inf\n",
      "[LightGBM] [Warning] No further splits with positive gain, best gain: -inf\n",
      "[LightGBM] [Warning] No further splits with positive gain, best gain: -inf\n",
      "[LightGBM] [Warning] No further splits with positive gain, best gain: -inf\n",
      "[LightGBM] [Warning] No further splits with positive gain, best gain: -inf\n",
      "[LightGBM] [Warning] No further splits with positive gain, best gain: -inf\n",
      "[LightGBM] [Warning] No further splits with positive gain, best gain: -inf\n",
      "[LightGBM] [Warning] No further splits with positive gain, best gain: -inf\n",
      "[LightGBM] [Warning] No further splits with positive gain, best gain: -inf\n",
      "[LightGBM] [Warning] No further splits with positive gain, best gain: -inf\n",
      "[LightGBM] [Warning] No further splits with positive gain, best gain: -inf\n",
      "[LightGBM] [Warning] No further splits with positive gain, best gain: -inf\n",
      "[LightGBM] [Warning] No further splits with positive gain, best gain: -inf\n",
      "[LightGBM] [Warning] No further splits with positive gain, best gain: -inf\n",
      "[LightGBM] [Warning] No further splits with positive gain, best gain: -inf\n",
      "[LightGBM] [Warning] No further splits with positive gain, best gain: -inf\n",
      "[LightGBM] [Warning] No further splits with positive gain, best gain: -inf\n",
      "[LightGBM] [Warning] No further splits with positive gain, best gain: -inf\n",
      "[LightGBM] [Warning] No further splits with positive gain, best gain: -inf\n",
      "[LightGBM] [Warning] No further splits with positive gain, best gain: -inf\n",
      "[LightGBM] [Warning] No further splits with positive gain, best gain: -inf\n",
      "[LightGBM] [Warning] No further splits with positive gain, best gain: -inf\n",
      "[LightGBM] [Warning] No further splits with positive gain, best gain: -inf\n",
      "[LightGBM] [Warning] No further splits with positive gain, best gain: -inf\n",
      "[LightGBM] [Warning] No further splits with positive gain, best gain: -inf\n",
      "[LightGBM] [Warning] No further splits with positive gain, best gain: -inf\n",
      "[LightGBM] [Warning] No further splits with positive gain, best gain: -inf\n",
      "[LightGBM] [Warning] No further splits with positive gain, best gain: -inf\n",
      "[LightGBM] [Warning] No further splits with positive gain, best gain: -inf\n",
      "[LightGBM] [Warning] No further splits with positive gain, best gain: -inf\n",
      "[LightGBM] [Warning] No further splits with positive gain, best gain: -inf\n",
      "[LightGBM] [Warning] No further splits with positive gain, best gain: -inf\n",
      "[LightGBM] [Warning] No further splits with positive gain, best gain: -inf\n",
      "[LightGBM] [Warning] No further splits with positive gain, best gain: -inf\n",
      "[LightGBM] [Warning] No further splits with positive gain, best gain: -inf\n",
      "[LightGBM] [Warning] No further splits with positive gain, best gain: -inf\n",
      "[LightGBM] [Warning] No further splits with positive gain, best gain: -inf\n",
      "[LightGBM] [Warning] No further splits with positive gain, best gain: -inf\n",
      "[LightGBM] [Warning] No further splits with positive gain, best gain: -inf\n",
      "[LightGBM] [Warning] No further splits with positive gain, best gain: -inf\n",
      "[LightGBM] [Warning] No further splits with positive gain, best gain: -inf\n",
      "[LightGBM] [Warning] No further splits with positive gain, best gain: -inf\n",
      "[LightGBM] [Warning] No further splits with positive gain, best gain: -inf\n",
      "[LightGBM] [Warning] No further splits with positive gain, best gain: -inf\n",
      "[LightGBM] [Warning] No further splits with positive gain, best gain: -inf\n",
      "[LightGBM] [Warning] No further splits with positive gain, best gain: -inf\n",
      "[LightGBM] [Warning] No further splits with positive gain, best gain: -inf\n",
      "[LightGBM] [Warning] No further splits with positive gain, best gain: -inf\n",
      "[LightGBM] [Warning] No further splits with positive gain, best gain: -inf\n",
      "[LightGBM] [Warning] No further splits with positive gain, best gain: -inf\n",
      "[LightGBM] [Warning] No further splits with positive gain, best gain: -inf\n",
      "[LightGBM] [Warning] No further splits with positive gain, best gain: -inf\n",
      "[LightGBM] [Warning] No further splits with positive gain, best gain: -inf\n",
      "[LightGBM] [Warning] No further splits with positive gain, best gain: -inf\n",
      "[LightGBM] [Warning] No further splits with positive gain, best gain: -inf\n",
      "[LightGBM] [Warning] No further splits with positive gain, best gain: -inf\n",
      "[LightGBM] [Warning] No further splits with positive gain, best gain: -inf\n",
      "[LightGBM] [Warning] No further splits with positive gain, best gain: -inf\n",
      "[LightGBM] [Warning] No further splits with positive gain, best gain: -inf\n",
      "[LightGBM] [Warning] No further splits with positive gain, best gain: -inf\n",
      "[LightGBM] [Warning] No further splits with positive gain, best gain: -inf\n",
      "[LightGBM] [Warning] No further splits with positive gain, best gain: -inf\n",
      "[LightGBM] [Warning] No further splits with positive gain, best gain: -inf\n",
      "[LightGBM] [Warning] No further splits with positive gain, best gain: -inf\n",
      "[LightGBM] [Warning] No further splits with positive gain, best gain: -inf\n",
      "[LightGBM] [Warning] No further splits with positive gain, best gain: -inf\n",
      "[LightGBM] [Warning] No further splits with positive gain, best gain: -inf\n",
      "[LightGBM] [Warning] No further splits with positive gain, best gain: -inf\n",
      "[LightGBM] [Warning] No further splits with positive gain, best gain: -inf\n",
      "[LightGBM] [Warning] No further splits with positive gain, best gain: -inf\n",
      "[LightGBM] [Warning] No further splits with positive gain, best gain: -inf\n",
      "[LightGBM] [Warning] No further splits with positive gain, best gain: -inf\n",
      "[LightGBM] [Warning] No further splits with positive gain, best gain: -inf\n",
      "[LightGBM] [Warning] No further splits with positive gain, best gain: -inf\n",
      "[LightGBM] [Warning] No further splits with positive gain, best gain: -inf\n",
      "[LightGBM] [Warning] No further splits with positive gain, best gain: -inf\n",
      "[LightGBM] [Warning] No further splits with positive gain, best gain: -inf\n",
      "[LightGBM] [Warning] No further splits with positive gain, best gain: -inf\n",
      "[LightGBM] [Warning] No further splits with positive gain, best gain: -inf\n",
      "[LightGBM] [Warning] No further splits with positive gain, best gain: -inf\n",
      "[LightGBM] [Warning] No further splits with positive gain, best gain: -inf\n",
      "[LightGBM] [Warning] No further splits with positive gain, best gain: -inf\n",
      "[LightGBM] [Warning] No further splits with positive gain, best gain: -inf\n"
     ]
    }
   ],
   "source": [
    "import lightgbm as lgb\n",
    "\n",
    "params = {\n",
    "    \"objective\": \"multiclass\",\n",
    "    \"metrics\": \"multi_error\",\n",
    "    \"max_depth\":3,\n",
    "    \"num_class\": 3,\n",
    "}\n",
    "\n",
    "train_set = lgb.Dataset(X_train, y_train)\n",
    "model2 = lgb.train(params, train_set)\n",
    "\n",
    "y_pred = model2.predict(X_test)"
   ]
  },
  {
   "cell_type": "code",
   "execution_count": 8,
   "metadata": {},
   "outputs": [
    {
     "name": "stdout",
     "output_type": "stream",
     "text": [
      "accuracy: 0.9767441860465116\n"
     ]
    }
   ],
   "source": [
    "# テストデータで予測\n",
    "y_pred = model2.predict(X_test, num_iteration=model2.best_iteration)\n",
    "y_pred_max = np.argmax(y_pred, axis=1)\n",
    "\n",
    "# Accuracy の計算\n",
    "accuracy = sum(y_test == y_pred_max) / len(y_test)\n",
    "print('accuracy:', accuracy)"
   ]
  },
  {
   "cell_type": "markdown",
   "metadata": {},
   "source": [
    "## 4.5 フルスクラッチコーディング"
   ]
  },
  {
   "cell_type": "markdown",
   "metadata": {},
   "source": [
    "### 4.5.1 浅い決定木の実装"
   ]
  },
  {
   "cell_type": "markdown",
   "metadata": {},
   "source": [
    "まずは最も単純な深さ1の決定木を作成してみよう．<br>\n",
    "ジニ係数をもとにデータを二つに分ける基準を見つける．"
   ]
  },
  {
   "cell_type": "markdown",
   "metadata": {},
   "source": [
    "ジニ係数とは，データのラベルがどれだけ統一されているかを示している．<br>\n",
    "そして，データ集合内でラベルが同じものが多いほど，ジニ係数は小さくなる．<br>\n",
    "極端な例を考えると，同じラベルが付いたデータのみのデータ集合のジニ係数は0である．<br>"
   ]
  },
  {
   "cell_type": "markdown",
   "metadata": {},
   "source": [
    "あるデータ集合におけるジニ係数の計算は以下の式で表される．<br>\n",
    "$ Gini=1-\\sum^{K}_{k=1}p(k)^2$\n",
    "- $K$はクラスの数\n",
    "- $p(k)$はデータ集合内のクラス$k$の割合\n",
    "<br>\n",
    "<br>\n",
    "実用上は，データ集合を二つに分割し，分割後の二つのデータ集合についてジニ係数を求める．そして，その期待値が小さいものをより良い分割条件であると定義する．"
   ]
  },
  {
   "cell_type": "markdown",
   "metadata": {},
   "source": [
    "### 課題１.ジニ係数を求める関数を作成せよ"
   ]
  },
  {
   "cell_type": "markdown",
   "metadata": {},
   "source": [
    "下記の関数を埋めることでジニ係数を求める関数を作成せよ．"
   ]
  },
  {
   "cell_type": "code",
   "execution_count": 9,
   "metadata": {},
   "outputs": [],
   "source": [
    "#ジニ係数の計算を行う関数\n",
    "def gini_score(data, target, feat_idx, threshold):\n",
    "    \n",
    "    gini = 0\n",
    "    sample_num = len(target)\n",
    "    \n",
    "    #閾値をもとにデータを分ける\n",
    "    div_target = [target[data[:, feat_idx] >= threshold], target[data[:, feat_idx] < threshold]]\n",
    "    \n",
    "    #閾値で分けたデータをもとにジニ係数を計算\n",
    "    #(演習)プログラムを補完し，ジニ係数が計算できるようにせよ．\n",
    "    for group in div_target:\n",
    "        score = 0\n",
    "        classes = np.unique(group)\n",
    "        for cls in classes:\n",
    "            p = np.sum(group == cls)/len(group)\n",
    "            score += p * p\n",
    "        gini += (1- score) * (len(group)/sample_num)\n",
    "    \n",
    "    return gini"
   ]
  },
  {
   "cell_type": "code",
   "execution_count": 10,
   "metadata": {},
   "outputs": [],
   "source": [
    "import pandas as pd\n",
    "from sklearn.datasets import load_iris\n",
    "from sklearn.model_selection import train_test_split\n",
    "import matplotlib.pyplot as plt\n",
    "from sklearn import metrics\n",
    "import numpy as np\n",
    "\n",
    "# irisデータセットの読み込み\n",
    "data = load_iris()\n",
    "X = pd.DataFrame(data.data, columns=data.feature_names)\n",
    "y = pd.DataFrame(data.target, columns=['Species'])\n",
    "df = pd.concat([X, y], axis=1)\n",
    "# 品種 setosa、versicolorを抽出\n",
    "df = df[(df['Species']==0) | (df['Species']==1)]\n",
    "# 説明変数\n",
    "X = df.iloc[:, [2,3]].values\n",
    "# 目的変数\n",
    "y = df.iloc[:, 4].values"
   ]
  },
  {
   "cell_type": "markdown",
   "metadata": {},
   "source": [
    "下のセルを実行して、関数が正しくできているか確認しよう．\n",
    "データが線で完全に分類できているほど関数の値は小さくなることがわかる．"
   ]
  },
  {
   "cell_type": "code",
   "execution_count": 11,
   "metadata": {},
   "outputs": [
    {
     "name": "stdout",
     "output_type": "stream",
     "text": [
      "0.019607843137254926\n"
     ]
    },
    {
     "data": {
      "text/plain": [
       "<matplotlib.collections.PathCollection at 0x1c11b709bb0>"
      ]
     },
     "execution_count": 11,
     "metadata": {},
     "output_type": "execute_result"
    },
    {
     "data": {
      "image/png": "[encoded data removed]",
      "text/plain": [
       "<Figure size 432x288 with 1 Axes>"
      ]
     },
     "metadata": {
      "needs_background": "light"
     },
     "output_type": "display_data"
    }
   ],
   "source": [
    "#データを分割する基準（数値を変更してみるとよい）\n",
    "feat_idx=0\n",
    "threshold=3.1\n",
    "\n",
    "#関数の実行\n",
    "print(gini_score(X, y, feat_idx, threshold))\n",
    "\n",
    "#データ分割を図示する\n",
    "if feat_idx==0:\n",
    "    plt.vlines(x=threshold,ymin=int(min(X[:, 0]))-1,ymax=int(min(X[:, 0]))+1)\n",
    "else:\n",
    "    plt.hlines(y=threshold,xmin=int(min(X[:, 1]))-1,xmax=int(min(X[:, 1]))+1)\n",
    "plt.scatter(X[:, 0][y==0], X[:, 1][y==0], color='lightskyblue', label=data.target_names[0])\n",
    "plt.scatter(X[:, 0][y==1], X[:, 1][y==1], color='sandybrown', label=data.target_names[1])"
   ]
  },
  {
   "cell_type": "markdown",
   "metadata": {},
   "source": [
    "### 課題2.ジニ係数をもとにベストなデータ分割を行う関数を作成せよ"
   ]
  },
  {
   "cell_type": "markdown",
   "metadata": {},
   "source": [
    "決定木ではジニ係数をもとに最良のデータ分割を行う．下記の関数の穴埋めを行うことでデータ分割が行えるようにせよ．"
   ]
  },
  {
   "cell_type": "code",
   "execution_count": 12,
   "metadata": {},
   "outputs": [],
   "source": [
    "import numpy as np\n",
    "from sklearn.datasets import load_iris\n",
    "from sklearn.model_selection import train_test_split\n",
    "import pandas as pd\n",
    "\n",
    "\n",
    "#最もよいデータの分類方法をジニ係数をもとに決定する\n",
    "def search_best_split(data, target):   \n",
    "    features = data.shape[1]\n",
    "    best_thrs = None\n",
    "    best_f = None\n",
    "    gini = None\n",
    "    gini_min = 1\n",
    "    \n",
    "    #すべての特徴量で探索\n",
    "    for feat_idx in range(features):\n",
    "        values = sorted(list(set(data[:, feat_idx])))\n",
    "        values = [(values[i]+values[i-1])/2 for i in range(1,len(values))]\n",
    "        #すべてのデータ点の値を閾値として探索\n",
    "        for val in values:\n",
    "            gini = gini_score(data, target, feat_idx, val)\n",
    "            \n",
    "            #より良いジニ係数であれば更新\n",
    "            if gini_min > gini:\n",
    "                gini_min = gini\n",
    "                best_thrs = val\n",
    "                best_f = feat_idx\n",
    "                \n",
    "    return gini_min, best_thrs, best_f       \n",
    "\n",
    "#決定木のメイン処理\n",
    "class DecisionTreeNode(object):\n",
    "    def __init__(self, data, target):\n",
    "        self.left = None\n",
    "        self.right = None\n",
    "        self.data = data\n",
    "        self.target = target\n",
    "        self.threshold = None\n",
    "        self.feature = None\n",
    "        self.gini_min = None\n",
    "   \n",
    "    def split(self):\n",
    "        #最もよいデータの分割基準を探索\n",
    "        self.gini_min, self.threshold, self.feature = search_best_split(self.data, self.target)\n",
    "        \n",
    "        #決定した基準をもとにデータを二つに分割する\n",
    "        idx_left = self.data[:, self.feature] >= self.threshold\n",
    "        idx_right = self.data[:, self.feature] < self.threshold\n",
    "        \n",
    "        #分割したそれぞれの条件に対して，どのラベルを付与するか決定\n",
    "        #分割後のデータ集合で最も数の多いクラスに分類\n",
    "        self.left = np.argmax(np.bincount(self.target[idx_left]))\n",
    "        self.right = np.argmax(np.bincount(self.target[idx_right]))\n",
    " \n",
    "    def predict(self, data):\n",
    "        #条件を基に学習した結果を返す\n",
    "        if data[self.feature] > self.threshold:\n",
    "            return self.left\n",
    "        else:\n",
    "            return self.right\n",
    "\n",
    "#決定木の根を表現\n",
    "class my_DecisionTreeClassifier(object):\n",
    "    def __init__(self):\n",
    "        self.tree = None\n",
    "   \n",
    "    def fit(self, data, target):\n",
    "        self.tree = DecisionTreeNode(data, target)\n",
    "        self.tree.split()\n",
    "   \n",
    "    def predict(self, data):\n",
    "        pred = []\n",
    "        for s in data:\n",
    "            pred.append(self.tree.predict(s))\n",
    "        return np.array(pred)"
   ]
  },
  {
   "cell_type": "markdown",
   "metadata": {},
   "source": [
    "では，実際に決定木を用いて分類を行ってみよう"
   ]
  },
  {
   "cell_type": "code",
   "execution_count": 13,
   "metadata": {},
   "outputs": [
    {
     "name": "stdout",
     "output_type": "stream",
     "text": [
      "[0 1 0 1 1 1 0 1 1 1 1 1 1 0 0 0 0 0 0 0 0 1 0 1 0]\n",
      "1.0\n"
     ]
    },
    {
     "data": {
      "image/png": "[encoded data removed]",
      "text/plain": [
       "<Figure size 432x288 with 1 Axes>"
      ]
     },
     "metadata": {
      "needs_background": "light"
     },
     "output_type": "display_data"
    }
   ],
   "source": [
    "import pandas as pd\n",
    "from sklearn.datasets import load_iris\n",
    "from sklearn.model_selection import train_test_split\n",
    "import matplotlib.pyplot as plt\n",
    "from sklearn import metrics\n",
    "\n",
    "# irisデータセットの読み込み\n",
    "data = load_iris()\n",
    "X = pd.DataFrame(data.data, columns=data.feature_names)\n",
    "y = pd.DataFrame(data.target, columns=['Species'])\n",
    "df = pd.concat([X, y], axis=1)\n",
    "# 品種 setosa、versicolorを抽出\n",
    "df = df[(df['Species']==0) | (df['Species']==1)]\n",
    "# 説明変数\n",
    "X = df.iloc[:, [2,3]].values\n",
    "# 目的変数\n",
    "y = df.iloc[:, 4].values\n",
    "# 学習データと検証データを分割\n",
    "X_train, X_test, y_train, y_test = train_test_split(X, y, random_state=0)\n",
    "\n",
    "#決定木を呼び出し，学習を行う\n",
    "clf = my_DecisionTreeClassifier()\n",
    "clf.fit(X_train,y_train)\n",
    "\n",
    "#学習結果を基に線を引く\n",
    "if clf.tree.feature==0:\n",
    "    plt.vlines(x=clf.tree.threshold,ymin=int(min(X[:, 0]))-1,ymax=int(min(X[:, 0]))+1)\n",
    "else:\n",
    "    plt.hlines(y=clf.tree.threshold,xmin=int(min(X[:, 1]))-1,xmax=int(min(X[:, 1]))+1)\n",
    "plt.scatter(X[:, 0][y==0], X[:, 1][y==0], color='lightskyblue', label=data.target_names[0])\n",
    "plt.scatter(X[:, 0][y==1], X[:, 1][y==1], color='sandybrown', label=data.target_names[1])\n",
    "\n",
    "#予測結果の確認\n",
    "y_pred=clf.predict(X_test)\n",
    "print(y_pred)\n",
    "#正解率の計算\n",
    "print(metrics.accuracy_score(y_test, y_pred))"
   ]
  },
  {
   "cell_type": "markdown",
   "metadata": {},
   "source": [
    "1本の線で二つのデータが分類できていれば，もっとも単純な決定木は完成である．<br>\n",
    "今回のデータの場合は非常に単純なため，おそらく完全な分類に成功するはずだ．"
   ]
  },
  {
   "cell_type": "markdown",
   "metadata": {},
   "source": [
    "### 4.5.2 一般的な決定木の実装"
   ]
  },
  {
   "cell_type": "markdown",
   "metadata": {},
   "source": [
    "基本的には，浅い決定木と仕組みは同じである．<br>\n",
    "ただし，先ほどのプログラムと違い，複数の分岐を行うには浅い決定木を複数積み上げた構造となっていることに注意する必要がある．<br>\n",
    "つまり，条件で分岐させた後，特定のラベルを割り当てるのではなく，別の決定木の予測結果を割り当てる．\n",
    "\n",
    "### 課題3.DecisionTreeNodeを完成させ，決定木を実装せよ[オプション課題]\n",
    "DecisionTreeNodeのleft,rightには特定のラベルを割り当てていたが，この部分を新しいDecisionTreeNodeを割り当てるように変更すればよい．<br>\n",
    "関数の再起呼び出しを利用するため少し難易度は高いが，ぜひ挑戦してみてほしい．"
   ]
  },
  {
   "cell_type": "code",
   "execution_count": 14,
   "metadata": {},
   "outputs": [],
   "source": [
    "import numpy as np\n",
    "from sklearn.datasets import load_iris\n",
    "from sklearn.model_selection import train_test_split\n",
    "import pandas as pd\n",
    "from sklearn.datasets import make_moons\n",
    "#ジニ係数の計算を行う\n",
    "def gini_score(data, target, feat_idx, threshold):\n",
    "    \n",
    "    gini = 0\n",
    "    sample_num = len(target)\n",
    "    \n",
    "    #閾値をもとにデータを分ける\n",
    "    div_target = [target[data[:, feat_idx] >= threshold], target[data[:, feat_idx] < threshold]]\n",
    "    \n",
    "    #閾値で分けたデータをもとにジニ係数を計算\n",
    "    #(演習)プログラムを補完し，ジニ係数が計算できるようにせよ．\n",
    "    for group in div_target:\n",
    "        score = 0\n",
    "        classes = np.unique(group)\n",
    "        for cls in classes:\n",
    "            p = np.sum(group == cls)/len(group)\n",
    "            score += p * p\n",
    "        gini += (1- score) * (len(group)/sample_num)\n",
    "    \n",
    "    return gini\n",
    "\n",
    "#最もよいデータの分類方法をジニ係数をもとに決定する\n",
    "def search_best_split(data, target):   \n",
    "    features = data.shape[1]\n",
    "    best_thrs = None\n",
    "    best_f = None\n",
    "    gini = None\n",
    "    gini_min = 1\n",
    "    \n",
    "    #すべての特徴量で探索\n",
    "    for feat_idx in range(features):\n",
    "        values = sorted(list(set(data[:, feat_idx])))\n",
    "        values = [(values[i]+values[i-1])/2 for i in range(1,len(values))]\n",
    "        #すべてのデータ点の値を閾値として探索\n",
    "        for val in values:\n",
    "            gini = gini_score(data, target, feat_idx, val)\n",
    "            \n",
    "            #より良いジニ係数であれば更新\n",
    "            if gini_min > gini:\n",
    "                gini_min = gini\n",
    "                best_thrs = val\n",
    "                best_f = feat_idx\n",
    "    return gini_min, best_thrs, best_f         \n",
    "\n",
    "#決定木のメイン処理\n",
    "class DecisionTreeNode(object):\n",
    "    def __init__(self, data, target,depth,max_depth,is_leaf=False):\n",
    "        self.left = None\n",
    "        self.right = None\n",
    "        self.data = data\n",
    "        self.target = target\n",
    "        self.threshold = None\n",
    "        self.feature = None\n",
    "        self.gini_min = None\n",
    "        \n",
    "        #深さの管理用\n",
    "        self.max_depth = max_depth\n",
    "        self.depth = depth\n",
    "        self.is_leaf = is_leaf\n",
    "        self.label = np.argmax(np.bincount(target))\n",
    "    def split(self):\n",
    "        #同じラベルのデータしか含まれないなら分割を終了\n",
    "        if len(self.target)==max(np.bincount(self.target)):\n",
    "            self.leaf=True\n",
    "            \n",
    "        #最もよいデータの分割基準を探索\n",
    "        self.gini_min, self.threshold, self.feature = search_best_split(self.data, self.target)\n",
    "        #決定した基準をもとにデータを二つに分割する\n",
    "        idx_left = self.data[:, self.feature] >= self.threshold\n",
    "        idx_right = self.data[:, self.feature] < self.threshold\n",
    "        \n",
    "        #深さが最大に達するか、分割の必要がない場合は終了\n",
    "        if self.depth==self.max_depth-1 or self.gini_min==0:\n",
    "            #分割したそれぞれの条件に対して，どのラベルを付与するか決定\n",
    "            #分割後のデータ集合で最も数の多いクラスに分類\n",
    "            self.left = DecisionTreeNode(self.data[idx_left],  self.target[idx_left],self.depth+1, self.max_depth,True)\n",
    "            self.right = DecisionTreeNode(self.data[idx_right],  self.target[idx_right],self.depth+1, self.max_depth,True)\n",
    "        #分岐を続ける\n",
    "        else:\n",
    "            self.left = DecisionTreeNode(self.data[idx_left],  self.target[idx_left],self.depth+1, self.max_depth)\n",
    "            if len(set(self.target[idx_left]))>1:\n",
    "                self.left.split()\n",
    "            else:\n",
    "                self.left.is_leaf = True\n",
    "            \n",
    "            self.right = DecisionTreeNode(self.data[idx_right],  self.target[idx_right],self.depth+1, self.max_depth)\n",
    "            if len(set(self.target[idx_right]))>1:\n",
    "                self.right.split()\n",
    "            else:\n",
    "                self.right.is_leaf = True\n",
    "            \n",
    "    def predict(self, data):\n",
    "        #葉に到達した場合\n",
    "        if self.is_leaf:\n",
    "            return self.label\n",
    "        \n",
    "        #条件を基に学習した結果を返す\n",
    "        if data[self.feature] >= self.threshold:\n",
    "            return self.left.predict(data)\n",
    "        else:\n",
    "            return self.right.predict(data)\n",
    "\n",
    "#決定木の根を表現\n",
    "class my_DecisionTreeClassifier(object):\n",
    "    def __init__(self,max_depth):\n",
    "        self.tree = None\n",
    "        \n",
    "        #深さを表すパラメータ\n",
    "        self.max_depth = max_depth\n",
    "        \n",
    "    def fit(self, data, target):\n",
    "        #最初の深さは0\n",
    "        initial_depth = 0\n",
    "        self.tree = DecisionTreeNode(data,target,initial_depth,self.max_depth)\n",
    "        self.tree.split()\n",
    "   \n",
    "    def predict(self, data):\n",
    "        pred = []\n",
    "        for s in data:\n",
    "            pred.append(self.tree.predict(s))\n",
    "        return np.array(pred)"
   ]
  },
  {
   "cell_type": "code",
   "execution_count": 15,
   "metadata": {},
   "outputs": [
    {
     "name": "stdout",
     "output_type": "stream",
     "text": [
      "Classification accuracy: 1.0\n",
      "Classification accuracy: 0.98\n"
     ]
    }
   ],
   "source": [
    "moon = make_moons(n_samples=200, noise=0.1, random_state=0)\n",
    "X = moon[0]\n",
    "y = moon[1]\n",
    "\n",
    "# 学習データと検証データを分割\n",
    "X_train, X_test, y_train, y_test = train_test_split(X, y, random_state=0)\n",
    "clf = my_DecisionTreeClassifier(max_depth=8)\n",
    "clf.fit(X_train, y_train)\n",
    "\n",
    "#学習データに対する予測\n",
    "y_pred = clf.predict(X_train)\n",
    "score = sum(y_pred == y_train)/float(len(y_train))\n",
    "print('Classification accuracy: {}'.format(score))\n",
    "\n",
    "#テストデータに対する予測\n",
    "y_pred = clf.predict(X_test)\n",
    "score = sum(y_pred == y_test)/float(len(y_test))\n",
    "print('Classification accuracy: {}'.format(score))"
   ]
  },
  {
   "cell_type": "code",
   "execution_count": 16,
   "metadata": {},
   "outputs": [
    {
     "data": {
      "image/png": "[encoded data removed]",
      "text/plain": [
       "<Figure size 864x576 with 1 Axes>"
      ]
     },
     "metadata": {
      "needs_background": "light"
     },
     "output_type": "display_data"
    }
   ],
   "source": [
    "import matplotlib.pyplot as plt # グラフ等の描画用モジュール\n",
    "from matplotlib.colors import ListedColormap # 描画時のカラー指定に使用\n",
    "# 学習結果の可視化\n",
    "def plot_decision_boundary(model, x, t):\n",
    "    # サンプルデータのプロット\n",
    "    plt.plot(x[:, 0][t==0], x[:, 1][t==0], 'bo')\n",
    "    plt.plot(x[:, 0][t==1], x[:, 1][t==1], 'r^')\n",
    "    plt.xlabel('x') # x 軸方向に x を表示\n",
    "    plt.ylabel('y', rotation=0) # y 軸方向に y を表示\n",
    "    \n",
    "    # 描画範囲の設定\n",
    "    x1_min, x1_max = x[:, 0].min()-1, x[:, 0].max()+1\n",
    "    x2_min, x2_max = x[:, 1].min()-1, x[:, 1].max()+1\n",
    "    \n",
    "    # 用意した間隔を使用してグリッドを作成\n",
    "    _x, _y = np.meshgrid(np.arange(x1_min, x1_max, 0.01),\n",
    "                                   np.arange(x2_min, x2_max, 0.01))\n",
    "    \n",
    "    # 多次元配列の結合\n",
    "    xy = np.array([_x.ravel(), _y.ravel()]).T\n",
    "    # 予測結果を算出し、分類境界線を図示\n",
    "    y_pred = model.predict(xy).reshape(_x.shape)\n",
    "    custom_cmap = ListedColormap(['mediumblue', 'orangered'])\n",
    "    plt.contourf(_x, _y, y_pred, cmap=custom_cmap, alpha=0.2)\n",
    "\n",
    "plt.figure(figsize=(12, 8))\n",
    "plot_decision_boundary(clf, X_train, y_train)"
   ]
  },
  {
   "cell_type": "markdown",
   "metadata": {},
   "source": [
    "これで決定木の実装が完了した．\n",
    "ここで作成したクラスを利用して，ランダムフォレストの実装を行っていく．"
   ]
  },
  {
   "cell_type": "markdown",
   "metadata": {},
   "source": [
    "### 4.5.3 ランダムフォレストの実装"
   ]
  },
  {
   "cell_type": "markdown",
   "metadata": {},
   "source": [
    "### 課題4.my_RandomForestClassifierを完成させ，ランダムフォレストを実装せよ．\n",
    "ランダムフォレストでは，異なるデータ集合を用いた決定木を用意して予測を行う．<br>\n",
    "今回は以下のようなランダムフォレストを構成する．\n",
    "1. ブートストラップを利用して，異なるデータ集合を作成\n",
    "2. それぞれのデータ集合を使用して複数の決定木を学習する\n",
    "3. すべての決定木の結果の多数決を予測結果とする\n",
    "\n",
    "もしフルスクラッチで決定木の実装ができていない場合は，scikit-learnの決定木を利用することとする．\n",
    "ブートストラップでは単純に全データ集合からランダムにサンプリングを行う処理を実現すればよい．"
   ]
  },
  {
   "cell_type": "code",
   "execution_count": 17,
   "metadata": {},
   "outputs": [],
   "source": [
    "import numpy as np\n",
    "from sklearn.datasets import load_iris\n",
    "from sklearn.model_selection import train_test_split\n",
    "from sklearn.tree import DecisionTreeClassifier\n",
    "import pandas as pd\n",
    "import random\n",
    "\n",
    "#決定木をフルスクラッチで実装した場合は先に実行しておく\n",
    "\n",
    "#ランダムフォレストのフルスクラッチ\n",
    "class my_RandomForestClassifier(object):\n",
    "    def __init__(self,tree_num,sample_num,max_depth):\n",
    "        self.trees = []\n",
    "        self.datas = []\n",
    "        self.tree_num = tree_num\n",
    "        self.sample_num = sample_num\n",
    "        self.max_depth = max_depth\n",
    "        \n",
    "    def fit(self, data, target):\n",
    "        for _ in range(self.tree_num):\n",
    "            sample_idx = [random.randint(0,len(data)-1) for _ in range(self.sample_num)]\n",
    "            sample_data = data[sample_idx]\n",
    "            sample_target = target[sample_idx]\n",
    "            tree = DecisionTreeClassifier(max_depth=self.max_depth)\n",
    "            #もしフルスクラッチを完成させていたら，コメントアウト\n",
    "            #tree = my_DecisionTreeClassifier(self.max_depth)\n",
    "            tree.fit(sample_data,sample_target)\n",
    "            self.trees.append(tree)\n",
    "            self.datas.append([sample_data,sample_target])\n",
    "            \n",
    "    def predict(self, data):\n",
    "        results=[]\n",
    "        for tree in self.trees:\n",
    "            results.append(tree.predict(data))\n",
    "        pred = []\n",
    "        for counter in list(zip(*results)):\n",
    "            pred.append(np.argmax(np.bincount(counter)))\n",
    "        return np.array(pred)"
   ]
  },
  {
   "cell_type": "code",
   "execution_count": 18,
   "metadata": {},
   "outputs": [
    {
     "name": "stdout",
     "output_type": "stream",
     "text": [
      "Classification accuracy: 0.9266666666666666\n",
      "Classification accuracy: 0.96\n"
     ]
    }
   ],
   "source": [
    "moon = make_moons(n_samples=200, noise=0.1, random_state=0)\n",
    "X = moon[0]\n",
    "y = moon[1]\n",
    "\n",
    "# 学習データと検証データを分割\n",
    "X_train, X_test, y_train, y_test = train_test_split(X, y, random_state=0)\n",
    "clf = my_RandomForestClassifier(tree_num=8,sample_num=len(X_train)//2,max_depth=2)\n",
    "clf.fit(X_train, y_train)\n",
    "\n",
    "#学習データに対する予測\n",
    "y_pred = clf.predict(X_train)\n",
    "score = sum(y_pred == y_train)/float(len(y_train))\n",
    "print('Classification accuracy: {}'.format(score))\n",
    "\n",
    "#テストデータに対する予測\n",
    "y_pred = clf.predict(X_test)\n",
    "score = sum(y_pred == y_test)/float(len(y_test))\n",
    "print('Classification accuracy: {}'.format(score))"
   ]
  },
  {
   "cell_type": "code",
   "execution_count": 19,
   "metadata": {},
   "outputs": [
    {
     "data": {
      "image/png": "[encoded data removed]",
      "text/plain": [
       "<Figure size 864x576 with 8 Axes>"
      ]
     },
     "metadata": {},
     "output_type": "display_data"
    },
    {
     "data": {
      "image/png": "[encoded data removed]",
      "text/plain": [
       "<Figure size 864x576 with 1 Axes>"
      ]
     },
     "metadata": {
      "needs_background": "light"
     },
     "output_type": "display_data"
    }
   ],
   "source": [
    "import matplotlib.pyplot as plt # グラフ等の描画用モジュール\n",
    "from matplotlib.colors import ListedColormap # 描画時のカラー指定に使用\n",
    "# 学習結果の可視化\n",
    "def plot_decision_boundary(model, x, t):\n",
    "    # サンプルデータのプロット\n",
    "    plt.plot(x[:, 0][t==0], x[:, 1][t==0], 'bo')\n",
    "    plt.plot(x[:, 0][t==1], x[:, 1][t==1], 'r^')\n",
    "    plt.xlabel('x') # x 軸方向に x を表示\n",
    "    plt.ylabel('y', rotation=0) # y 軸方向に y を表示\n",
    "    \n",
    "    # 描画範囲の設定\n",
    "    x1_min, x1_max = x[:, 0].min()-1, x[:, 0].max()+1\n",
    "    x2_min, x2_max = x[:, 1].min()-1, x[:, 1].max()+1\n",
    "    \n",
    "    # 用意した間隔を使用してグリッドを作成\n",
    "    _x, _y = np.meshgrid(np.arange(x1_min, x1_max, 0.01),\n",
    "                                   np.arange(x2_min, x2_max, 0.01))\n",
    "    \n",
    "    # 多次元配列の結合\n",
    "    xy = np.array([_x.ravel(), _y.ravel()]).T\n",
    "    # 予測結果を算出し、分類境界線を図示\n",
    "    y_pred = model.predict(xy).reshape(_x.shape)\n",
    "    custom_cmap = ListedColormap(['mediumblue', 'orangered'])\n",
    "    plt.contourf(_x, _y, y_pred, cmap=custom_cmap, alpha=0.2)\n",
    "fig = plt.figure(figsize = (12,8), facecolor='lightblue')\n",
    "row = len(clf.trees)//3+1\n",
    "for n in range(len(clf.trees)):\n",
    "    ax = fig.add_subplot(row, 3, n+1)\n",
    "    plot_decision_boundary(clf.trees[n], clf.datas[n][0],clf.datas[n][1])\n",
    "plt.figure(figsize=(12, 8))\n",
    "plot_decision_boundary(clf, X_train, y_train)"
   ]
  },
  {
   "cell_type": "markdown",
   "metadata": {},
   "source": [
    "データの選択によって様々な木が構成されており，その結果をアンサンブルで得ることができた．<br>\n",
    "パラメータなども変更しつつ，実際にどのように挙動が変わるか見てみるとよい．"
   ]
  }
 ],
 "metadata": {
  "kernelspec": {
   "display_name": "Python 3 (ipykernel)",
   "language": "python",
   "name": "python3"
  },
  "language_info": {
   "codemirror_mode": {
    "name": "ipython",
    "version": 3
   },
   "file_extension": ".py",
   "mimetype": "text/x-python",
   "name": "python",
   "nbconvert_exporter": "python",
   "pygments_lexer": "ipython3",
   "version": "3.8.11"
  }
 },
 "nbformat": 4,
 "nbformat_minor": 4
}

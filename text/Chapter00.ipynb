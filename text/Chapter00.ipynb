{
 "cells": [
  {
   "attachments": {},
   "cell_type": "markdown",
   "metadata": {},
   "source": [
    "# Chapter 0: 数学編\n",
    "\n",
    "## 紹介するモジュール\n",
    "1. [math](https://docs.python.jp/3/library/math.html)\n",
    "2. [numpy](http://www.numpy.org/)\n",
    "3. [scipy](https://docs.scipy.org/doc/)\n",
    "\n",
    "## モジュールの利用\n",
    "モジュールを利用する場合，以下のように書く．\n",
    "```python\n",
    "import module # moduleの利用\n",
    "module.function() # module内にある関数functionを使う\n",
    "```\n",
    "\n",
    "毎回`module`と書くことはプログラムを長くする可能性があり不便だ．\n",
    "そのため，以下のような書き方もできる．\n",
    "```python\n",
    "from module import function # module内の関数functionのみを読み込む\n",
    "function()\n",
    "```\n",
    "この書き方の場合，`module`内の関数functionのみを読み込んでいるため，`module`内の他の関数を利用することはできない．\n",
    "\n",
    "また，モジュール名や関数名を置き換えるときに，`as`という予約語を用いる．\n",
    "例えば，次のように書くことできる\n",
    "```python\n",
    "import numpy as np # numpyというモジュールをnpと表す\n",
    "print(np.e) \n",
    "```"
   ]
  },
  {
   "attachments": {},
   "cell_type": "markdown",
   "metadata": {},
   "source": [
    "## 0-1. math \n",
    "mathモジュールは，Pythonの標準ライブラリに含まれている．\n",
    "\n",
    "mathモジュールには，例えば次のような関数がある．\n",
    "- `math.sqrt`: 平方根\n",
    "- `math.exp`: 指数関数\n",
    "- `math.sin`: sin関数"
   ]
  },
  {
   "cell_type": "code",
   "execution_count": 1,
   "metadata": {},
   "outputs": [
    {
     "name": "stdout",
     "output_type": "stream",
     "text": [
      "1.4142135623730951\n",
      "7.38905609893065\n",
      "0.9092974268256817\n"
     ]
    }
   ],
   "source": [
    "import math\n",
    "print(math.sqrt(2))\n",
    "print(math.exp(2))\n",
    "print(math.sin(2))"
   ]
  },
  {
   "attachments": {},
   "cell_type": "markdown",
   "metadata": {},
   "source": [
    "他にも次のような定数も利用できる．\n",
    "- `math.pi`\n",
    "- `math.e`"
   ]
  },
  {
   "cell_type": "code",
   "execution_count": 2,
   "metadata": {},
   "outputs": [
    {
     "name": "stdout",
     "output_type": "stream",
     "text": [
      "3.141592653589793 2.718281828459045\n"
     ]
    }
   ],
   "source": [
    "print(math.pi, math.e)"
   ]
  },
  {
   "attachments": {},
   "cell_type": "markdown",
   "metadata": {},
   "source": [
    "## 0-2. Numpy\n",
    "\n",
    "### 特徴\n",
    "- Pythonで数学を扱う場合，必ずといっていいほど利用されるモジュール．\n",
    "- 行列演算をサポート\n",
    "- 通常のPythonを使うよりも数倍の速度で演算できる\n",
    "\n",
    "### よく利用されるメソッド\n",
    "\n",
    "#### numpy配列\n",
    "Pythonのデータ構造にあるリストとは別に，numpyを利用した配列がある．\n",
    "\n",
    "1次元のときはベクトル，2次元では行列，3次元以上はテンソルに対応する．"
   ]
  },
  {
   "cell_type": "code",
   "execution_count": 3,
   "metadata": {},
   "outputs": [
    {
     "name": "stdout",
     "output_type": "stream",
     "text": [
      "[[1 2]]\n",
      "[[1 3]\n",
      " [6 4]]\n"
     ]
    }
   ],
   "source": [
    "import numpy as np\n",
    "vec = np.array([[1, 2]]) # 1次元の配列をNumpy配列(ベクトル)にする\n",
    "matrix = np.array([[1, 3], [6, 4]]) # 2次元の配列をNumpy配列(行列)にする\n",
    "print(vec)\n",
    "print(matrix)"
   ]
  },
  {
   "attachments": {},
   "cell_type": "markdown",
   "metadata": {},
   "source": [
    "すべての要素が1や0になる特殊なメソッドがある．"
   ]
  },
  {
   "cell_type": "code",
   "execution_count": 4,
   "metadata": {},
   "outputs": [
    {
     "name": "stdout",
     "output_type": "stream",
     "text": [
      "[ 1.  1.  1.]\n",
      "[ 0.  0.  0.]\n",
      "[[ 1.  1.  1.]\n",
      " [ 1.  1.  1.]]\n",
      "[[ 0.  0.  0.]\n",
      " [ 0.  0.  0.]]\n"
     ]
    }
   ],
   "source": [
    "print(np.ones(3)) # 3次元の1ベクトル\n",
    "print(np.zeros(3)) # 3次元の0ベクトル\n",
    "print(np.ones((2, 3))) #2x3次元の1行列\n",
    "print(np.zeros((2, 3))) #2x3次元の0行列"
   ]
  },
  {
   "cell_type": "code",
   "execution_count": 5,
   "metadata": {},
   "outputs": [
    {
     "name": "stdout",
     "output_type": "stream",
     "text": [
      "dtype int64\n",
      "shape (2, 2)\n"
     ]
    }
   ],
   "source": [
    "print(\"dtype\", matrix.dtype) # 型を表示する\n",
    "print(\"shape\", matrix.shape) # サイズ(次元)"
   ]
  },
  {
   "attachments": {},
   "cell_type": "markdown",
   "metadata": {},
   "source": [
    "#### 行列の要素積や行列積の計算\n",
    "注意点\n",
    "- np.arrayとnp.matrixでは挙動が異なる\n",
    "    - np.arrayでは`*` で要素積になるが，np.matrixでは行列積になる"
   ]
  },
  {
   "cell_type": "code",
   "execution_count": 6,
   "metadata": {},
   "outputs": [
    {
     "name": "stdout",
     "output_type": "stream",
     "text": [
      "*演算:\n",
      " [[ 1  9]\n",
      " [36 16]]\n",
      "np.dot:\n",
      " [[19 15]\n",
      " [30 34]]\n",
      "*演算:\n",
      " [[19 15]\n",
      " [30 34]]\n",
      "np.dot:\n",
      " [[19 15]\n",
      " [30 34]]\n"
     ]
    }
   ],
   "source": [
    "A = np.array([[1, 3], [6, 4]])\n",
    "print(\"*演算:\\n\", A*A) # 行列Aどうしの要素積\n",
    "print(\"np.dot:\\n\", np.dot(A, A)) # 行列Aどうしの行列積\n",
    "\n",
    "B = np.matrix([[1, 3], [6, 4]])\n",
    "print(\"*演算:\\n\", B*B) # 行列Bどうしの行列積\n",
    "print(\"np.dot:\\n\", np.dot(B, B)) # 行列Bどうしの行列積"
   ]
  },
  {
   "attachments": {},
   "cell_type": "markdown",
   "metadata": {},
   "source": [
    "### よく使うサブモジュール，関数\n",
    "\n",
    "- `np.linalg`: 線形代数モジュール  \n",
    "    - `np.linalg.inv`: 逆行列を求める関数\n",
    "    - `np.linalg.eig`: 固有値，固有ベクトルを求める関数\n",
    "    \n",
    "- `np.random`: 乱数モジュール"
   ]
  },
  {
   "attachments": {},
   "cell_type": "markdown",
   "metadata": {},
   "source": [
    "## 0-3. Scipy\n",
    "ScipyモジュールはNumpyの拡張モジュールであり，よく利用されるモジュール．  \n",
    "科学技術に関わる計算アルゴリズムの多くが実装されているので，自作するよりもここを調べるといい．\n",
    "\n",
    "### 特徴\n",
    "- Numpyよりも高度な数学関数が用意されている．\n",
    "- 最適化や高速フーリエ変換なども扱う\n",
    "\n",
    "### よく使うサブモジュール\n",
    "- `scipy.linalg`: 線形代数\n",
    "- `scipy.optimize`: 最適化\n",
    "- `scipy.sparse`: 疎行列に対する処理\n",
    "- `scipy.stats`: 統計処理\n",
    "\n",
    "### 例題 2-3-1. 連続最適化"
   ]
  },
  {
   "cell_type": "code",
   "execution_count": 7,
   "metadata": {},
   "outputs": [
    {
     "data": {
      "text/plain": [
       "[<matplotlib.lines.Line2D at 0x10833ae48>]"
      ]
     },
     "execution_count": 7,
     "metadata": {},
     "output_type": "execute_result"
    },
    {
     "data": {
      "image/png": "[encoded data removed]",
      "text/plain": [
       "<matplotlib.figure.Figure at 0x105b20668>"
      ]
     },
     "metadata": {},
     "output_type": "display_data"
    }
   ],
   "source": [
    "from scipy.optimize import fmin_bfgs\n",
    "import matplotlib.pyplot as plt\n",
    "%matplotlib inline\n",
    "\n",
    "def f(x):\n",
    "    return x ** 2 + 17 * np.sin(x)\n",
    "\n",
    "x = np.arange(-10, 10, 0.1)\n",
    "plt.plot(x, f(x))"
   ]
  },
  {
   "cell_type": "code",
   "execution_count": 8,
   "metadata": {},
   "outputs": [
    {
     "name": "stdout",
     "output_type": "stream",
     "text": [
      "Optimization terminated successfully.\n",
      "         Current function value: -14.792859\n",
      "         Iterations: 6\n",
      "         Function evaluations: 21\n",
      "         Gradient evaluations: 7\n"
     ]
    }
   ],
   "source": [
    "x_star = fmin_bfgs(f, 0) # 関数f(x)の最適化(最小値をとるxを求める)"
   ]
  },
  {
   "cell_type": "code",
   "execution_count": 10,
   "metadata": {},
   "outputs": [
    {
     "data": {
      "image/png": "[encoded data removed]",
      "text/plain": [
       "<matplotlib.figure.Figure at 0x10312ca58>"
      ]
     },
     "metadata": {},
     "output_type": "display_data"
    }
   ],
   "source": [
    "plt.xlim(-10, 10)\n",
    "plt.plot(x, f(x))\n",
    "plt.scatter(x_star, f(x_star), c='red');"
   ]
  },
  {
   "attachments": {},
   "cell_type": "markdown",
   "metadata": {
    "collapsed": true
   },
   "source": [
    "## [練習問題](../exercise/questions.md#chapter-0)"
   ]
  }
 ],
 "metadata": {
  "kernelspec": {
   "display_name": "Python 3",
   "language": "python",
   "name": "python3"
  },
  "language_info": {
   "codemirror_mode": {
    "name": "ipython",
    "version": 3
   },
   "file_extension": ".py",
   "mimetype": "text/x-python",
   "name": "python",
   "nbconvert_exporter": "python",
   "pygments_lexer": "ipython3",
   "version": "3.8.5"
  }
 },
 "nbformat": 4,
 "nbformat_minor": 2
}

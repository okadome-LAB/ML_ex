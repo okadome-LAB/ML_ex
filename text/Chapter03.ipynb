{
 "cells": [
  {
   "cell_type": "code",
   "execution_count": 1,
   "metadata": {},
   "outputs": [],
   "source": [
    "import warnings\n",
    "warnings.filterwarnings('ignore') # 実行に影響のない　warninig　を非表示にします. 非推奨."
   ]
  },
  {
   "attachments": {},
   "cell_type": "markdown",
   "metadata": {},
   "source": [
    "# Chapter3: 機械学習 分類問題"
   ]
  },
  {
   "attachments": {},
   "cell_type": "markdown",
   "metadata": {},
   "source": [
    "## 3.1 回帰と分類"
   ]
  },
  {
   "attachments": {},
   "cell_type": "markdown",
   "metadata": {},
   "source": [
    "[Chapter02]()では回帰問題について扱った．\n",
    "\n",
    "回帰問題は数値を予測するのに対して，分類問題ではデータのクラス（カテゴリ）を予測する．\n",
    "\n",
    "つまり，ある入力ベクトル $\\mathbf x$ を $K$ 個の離散クラス $C_k (k=1,\\dots , K)$ に割り当てることが，分類問題の目的である．\n",
    "\n",
    "ここで、$K=2$ のとき二値分類，$K>2$ のとき多値分類と呼ぶ．\n",
    "\n",
    "本章では，二値分類として[ロジスティック回帰モデル](#3.2)および[SVM（Support Vector Machine）](#3.4)を，多値分類として[多クラスロジスティック回帰](#3.3)を取り上げる．"
   ]
  },
  {
   "attachments": {},
   "cell_type": "markdown",
   "metadata": {},
   "source": [
    "## 3.2 ロジスティック回帰モデル\n",
    "<a id=\"3.2\"></a>"
   ]
  },
  {
   "attachments": {},
   "cell_type": "markdown",
   "metadata": {},
   "source": [
    "ロジスティック回帰モデルは回帰モデルを分類問題に応用したモデルである．\n",
    "\n",
    "そのため、基本的な考え方は線形回帰と同様であり，入力ベクトル $\\mathbf x$ と重みベクトル $\\mathbf w$ の線形和 $\\mathbf w^{\\mathrm T} \\mathbf x + w_0$ を計算する．\n",
    "\n",
    "ただし，ロジスティック回帰では，予測クラスの確率を計算するため，出力の範囲を $0$ 以上 $1$ 以下に制限する必要がある．\n",
    "\n",
    "そのため，シグモイド関数を用いることで，出力を $0$ から $1$ の間に抑えることができる． "
   ]
  },
  {
   "attachments": {},
   "cell_type": "markdown",
   "metadata": {},
   "source": [
    "- シグモイド関数\n",
    "$$ \\sigma(x) = \\frac{1}{1 + \\exp^{-x}} \\tag{3.1}$$"
   ]
  },
  {
   "cell_type": "code",
   "execution_count": 2,
   "metadata": {},
   "outputs": [
    {
     "data": {
      "image/png": "[encoded data removed]",
      "text/plain": [
       "<Figure size 432x288 with 1 Axes>"
      ]
     },
     "metadata": {
      "needs_background": "light"
     },
     "output_type": "display_data"
    }
   ],
   "source": [
    "import math\n",
    "import numpy as np\n",
    "import matplotlib.pyplot as plt\n",
    "\n",
    "# シグモイド関数\n",
    "def sigmoid(x):\n",
    "    y = 1 / (1 + math.e**(-x))\n",
    "    return y\n",
    "\n",
    "x = np.linspace(-10, 10, 100)\n",
    "y = sigmoid(x)\n",
    "plt.plot(x, y)\n",
    "plt.show()"
   ]
  },
  {
   "attachments": {},
   "cell_type": "markdown",
   "metadata": {},
   "source": [
    "### 3.2.1 ロジスティック回帰の定式化"
   ]
  },
  {
   "attachments": {},
   "cell_type": "markdown",
   "metadata": {},
   "source": [
    "- データ集合：$\\{\\mathbf x_n, t_n\\}$, $t_n \\in \\{0,1\\}$"
   ]
  },
  {
   "attachments": {},
   "cell_type": "markdown",
   "metadata": {},
   "source": [
    "$n=1, \\dots, N$ に対する尤度関数は以下のように書くことができる．"
   ]
  },
  {
   "attachments": {},
   "cell_type": "markdown",
   "metadata": {},
   "source": [
    "$$ p(\\mathbf t | \\mathbf w) = \\prod_{n=1}^{N} y_n^{t_n} \\{ 1-y_n \\}^{1-t_n} \\tag{3.2}$$"
   ]
  },
  {
   "attachments": {},
   "cell_type": "markdown",
   "metadata": {},
   "source": [
    "ここで, $ \\mathbf t = (t_1, \\dots, t_N)^{\\mathrm T} $，$y_n = p(C_1|x_n)$ である．\n",
    "\n",
    "ロジスティック回帰では，$p(C_1|x_n) >= 0.5$ であれば $t_n = C_1$，$p(C_1|x_n) < 0.5$ であれば $t_n = C_2$ となる．"
   ]
  },
  {
   "attachments": {},
   "cell_type": "markdown",
   "metadata": {},
   "source": [
    "尤度の負の対数をとると，以下の誤差関数を定義することができる．\n",
    "\n",
    "この誤差関数は，公差エントロピー誤差関数と呼ばれる．"
   ]
  },
  {
   "attachments": {},
   "cell_type": "markdown",
   "metadata": {},
   "source": [
    "$$ E(\\mathbf w) = -\\ln p(\\mathbf t | \\mathbf w) = -\\sum_{n=1}^{N} \\{ t_n \\ln y_n + (1-t_n) \\ln (1-y_n) \\}  \\tag{3.3}$$"
   ]
  },
  {
   "attachments": {},
   "cell_type": "markdown",
   "metadata": {},
   "source": [
    "### 3.2.2 データセットの準備"
   ]
  },
  {
   "attachments": {},
   "cell_type": "markdown",
   "metadata": {},
   "source": [
    "今回は irisデータセット(「あやめ」という花の形状データ)を用いる"
   ]
  },
  {
   "cell_type": "code",
   "execution_count": 3,
   "metadata": {
    "scrolled": true
   },
   "outputs": [
    {
     "data": {
      "text/html": [
       "<div>\n",
       "<style scoped>\n",
       "    .dataframe tbody tr th:only-of-type {\n",
       "        vertical-align: middle;\n",
       "    }\n",
       "\n",
       "    .dataframe tbody tr th {\n",
       "        vertical-align: top;\n",
       "    }\n",
       "\n",
       "    .dataframe thead th {\n",
       "        text-align: right;\n",
       "    }\n",
       "</style>\n",
       "<table border=\"1\" class=\"dataframe\">\n",
       "  <thead>\n",
       "    <tr style=\"text-align: right;\">\n",
       "      <th></th>\n",
       "      <th>sepal length (cm)</th>\n",
       "      <th>sepal width (cm)</th>\n",
       "      <th>petal length (cm)</th>\n",
       "      <th>petal width (cm)</th>\n",
       "      <th>Species</th>\n",
       "    </tr>\n",
       "  </thead>\n",
       "  <tbody>\n",
       "    <tr>\n",
       "      <th>0</th>\n",
       "      <td>5.1</td>\n",
       "      <td>3.5</td>\n",
       "      <td>1.4</td>\n",
       "      <td>0.2</td>\n",
       "      <td>0</td>\n",
       "    </tr>\n",
       "    <tr>\n",
       "      <th>1</th>\n",
       "      <td>4.9</td>\n",
       "      <td>3.0</td>\n",
       "      <td>1.4</td>\n",
       "      <td>0.2</td>\n",
       "      <td>0</td>\n",
       "    </tr>\n",
       "    <tr>\n",
       "      <th>2</th>\n",
       "      <td>4.7</td>\n",
       "      <td>3.2</td>\n",
       "      <td>1.3</td>\n",
       "      <td>0.2</td>\n",
       "      <td>0</td>\n",
       "    </tr>\n",
       "    <tr>\n",
       "      <th>3</th>\n",
       "      <td>4.6</td>\n",
       "      <td>3.1</td>\n",
       "      <td>1.5</td>\n",
       "      <td>0.2</td>\n",
       "      <td>0</td>\n",
       "    </tr>\n",
       "    <tr>\n",
       "      <th>4</th>\n",
       "      <td>5.0</td>\n",
       "      <td>3.6</td>\n",
       "      <td>1.4</td>\n",
       "      <td>0.2</td>\n",
       "      <td>0</td>\n",
       "    </tr>\n",
       "  </tbody>\n",
       "</table>\n",
       "</div>"
      ],
      "text/plain": [
       "   sepal length (cm)  sepal width (cm)  petal length (cm)  petal width (cm)  \\\n",
       "0                5.1               3.5                1.4               0.2   \n",
       "1                4.9               3.0                1.4               0.2   \n",
       "2                4.7               3.2                1.3               0.2   \n",
       "3                4.6               3.1                1.5               0.2   \n",
       "4                5.0               3.6                1.4               0.2   \n",
       "\n",
       "   Species  \n",
       "0        0  \n",
       "1        0  \n",
       "2        0  \n",
       "3        0  \n",
       "4        0  "
      ]
     },
     "execution_count": 3,
     "metadata": {},
     "output_type": "execute_result"
    }
   ],
   "source": [
    "import pandas as pd\n",
    "from sklearn.datasets import load_iris\n",
    "from sklearn.linear_model import LogisticRegression\n",
    "from sklearn.model_selection import train_test_split\n",
    "\n",
    "# irisデータセットの読み込み\n",
    "data = load_iris()\n",
    "X = pd.DataFrame(data.data, columns=data.feature_names)\n",
    "y = pd.DataFrame(data.target, columns=['Species'])\n",
    "df = pd.concat([X, y], axis=1)\n",
    "df.head()"
   ]
  },
  {
   "cell_type": "code",
   "execution_count": 4,
   "metadata": {},
   "outputs": [
    {
     "data": {
      "text/html": [
       "<div>\n",
       "<style scoped>\n",
       "    .dataframe tbody tr th:only-of-type {\n",
       "        vertical-align: middle;\n",
       "    }\n",
       "\n",
       "    .dataframe tbody tr th {\n",
       "        vertical-align: top;\n",
       "    }\n",
       "\n",
       "    .dataframe thead th {\n",
       "        text-align: right;\n",
       "    }\n",
       "</style>\n",
       "<table border=\"1\" class=\"dataframe\">\n",
       "  <thead>\n",
       "    <tr style=\"text-align: right;\">\n",
       "      <th></th>\n",
       "      <th>sepal length (cm)</th>\n",
       "      <th>sepal width (cm)</th>\n",
       "      <th>petal length (cm)</th>\n",
       "      <th>petal width (cm)</th>\n",
       "      <th>Species</th>\n",
       "    </tr>\n",
       "  </thead>\n",
       "  <tbody>\n",
       "    <tr>\n",
       "      <th>145</th>\n",
       "      <td>6.7</td>\n",
       "      <td>3.0</td>\n",
       "      <td>5.2</td>\n",
       "      <td>2.3</td>\n",
       "      <td>2</td>\n",
       "    </tr>\n",
       "    <tr>\n",
       "      <th>146</th>\n",
       "      <td>6.3</td>\n",
       "      <td>2.5</td>\n",
       "      <td>5.0</td>\n",
       "      <td>1.9</td>\n",
       "      <td>2</td>\n",
       "    </tr>\n",
       "    <tr>\n",
       "      <th>147</th>\n",
       "      <td>6.5</td>\n",
       "      <td>3.0</td>\n",
       "      <td>5.2</td>\n",
       "      <td>2.0</td>\n",
       "      <td>2</td>\n",
       "    </tr>\n",
       "    <tr>\n",
       "      <th>148</th>\n",
       "      <td>6.2</td>\n",
       "      <td>3.4</td>\n",
       "      <td>5.4</td>\n",
       "      <td>2.3</td>\n",
       "      <td>2</td>\n",
       "    </tr>\n",
       "    <tr>\n",
       "      <th>149</th>\n",
       "      <td>5.9</td>\n",
       "      <td>3.0</td>\n",
       "      <td>5.1</td>\n",
       "      <td>1.8</td>\n",
       "      <td>2</td>\n",
       "    </tr>\n",
       "  </tbody>\n",
       "</table>\n",
       "</div>"
      ],
      "text/plain": [
       "     sepal length (cm)  sepal width (cm)  petal length (cm)  petal width (cm)  \\\n",
       "145                6.7               3.0                5.2               2.3   \n",
       "146                6.3               2.5                5.0               1.9   \n",
       "147                6.5               3.0                5.2               2.0   \n",
       "148                6.2               3.4                5.4               2.3   \n",
       "149                5.9               3.0                5.1               1.8   \n",
       "\n",
       "     Species  \n",
       "145        2  \n",
       "146        2  \n",
       "147        2  \n",
       "148        2  \n",
       "149        2  "
      ]
     },
     "execution_count": 4,
     "metadata": {},
     "output_type": "execute_result"
    }
   ],
   "source": [
    "df.tail()"
   ]
  },
  {
   "attachments": {},
   "cell_type": "markdown",
   "metadata": {},
   "source": [
    "iris データセットには，あやめの\n",
    "- sepal length (がくの長さ)\n",
    "- sepal width (がくの幅)\n",
    "- petal length (花弁の長さ)\n",
    "- petal width (花弁の幅)\n",
    "- Species (品種：setosa、versicolor、virginica)\n",
    "\n",
    "の情報がある．"
   ]
  },
  {
   "attachments": {},
   "cell_type": "markdown",
   "metadata": {},
   "source": [
    "今回は，petal length，petal width を用いて品種(setosa、versicolor)を分類するロジスティック回帰モデルを構築する．"
   ]
  },
  {
   "attachments": {},
   "cell_type": "markdown",
   "metadata": {},
   "source": [
    "ここで，Species=0 が setosa，Species=1 が versicolor である．"
   ]
  },
  {
   "attachments": {},
   "cell_type": "markdown",
   "metadata": {},
   "source": [
    "### 3.2.3 前処理"
   ]
  },
  {
   "cell_type": "code",
   "execution_count": 5,
   "metadata": {},
   "outputs": [],
   "source": [
    "# 品種 setosa、versicolorを抽出\n",
    "df = df[(df['Species']==0) | (df['Species']==1)]\n",
    "# 説明変数\n",
    "X = df.iloc[:, [2,3]]\n",
    "# 目的変数\n",
    "y = df.iloc[:, 4]\n",
    "# 学習データと検証データを分割\n",
    "X_train, X_test, y_train, y_test = train_test_split(X, y, random_state=0)"
   ]
  },
  {
   "attachments": {},
   "cell_type": "markdown",
   "metadata": {},
   "source": [
    "### 3.2.4 モデル定義，学習"
   ]
  },
  {
   "cell_type": "code",
   "execution_count": 6,
   "metadata": {},
   "outputs": [
    {
     "data": {
      "text/html": [
       "<style>#sk-container-id-1 {color: black;background-color: white;}#sk-container-id-1 pre{padding: 0;}#sk-container-id-1 div.sk-toggleable {background-color: white;}#sk-container-id-1 label.sk-toggleable__label {cursor: pointer;display: block;width: 100%;margin-bottom: 0;padding: 0.3em;box-sizing: border-box;text-align: center;}#sk-container-id-1 label.sk-toggleable__label-arrow:before {content: \"▸\";float: left;margin-right: 0.25em;color: #696969;}#sk-container-id-1 label.sk-toggleable__label-arrow:hover:before {color: black;}#sk-container-id-1 div.sk-estimator:hover label.sk-toggleable__label-arrow:before {color: black;}#sk-container-id-1 div.sk-toggleable__content {max-height: 0;max-width: 0;overflow: hidden;text-align: left;background-color: #f0f8ff;}#sk-container-id-1 div.sk-toggleable__content pre {margin: 0.2em;color: black;border-radius: 0.25em;background-color: #f0f8ff;}#sk-container-id-1 input.sk-toggleable__control:checked~div.sk-toggleable__content {max-height: 200px;max-width: 100%;overflow: auto;}#sk-container-id-1 input.sk-toggleable__control:checked~label.sk-toggleable__label-arrow:before {content: \"▾\";}#sk-container-id-1 div.sk-estimator input.sk-toggleable__control:checked~label.sk-toggleable__label {background-color: #d4ebff;}#sk-container-id-1 div.sk-label input.sk-toggleable__control:checked~label.sk-toggleable__label {background-color: #d4ebff;}#sk-container-id-1 input.sk-hidden--visually {border: 0;clip: rect(1px 1px 1px 1px);clip: rect(1px, 1px, 1px, 1px);height: 1px;margin: -1px;overflow: hidden;padding: 0;position: absolute;width: 1px;}#sk-container-id-1 div.sk-estimator {font-family: monospace;background-color: #f0f8ff;border: 1px dotted black;border-radius: 0.25em;box-sizing: border-box;margin-bottom: 0.5em;}#sk-container-id-1 div.sk-estimator:hover {background-color: #d4ebff;}#sk-container-id-1 div.sk-parallel-item::after {content: \"\";width: 100%;border-bottom: 1px solid gray;flex-grow: 1;}#sk-container-id-1 div.sk-label:hover label.sk-toggleable__label {background-color: #d4ebff;}#sk-container-id-1 div.sk-serial::before {content: \"\";position: absolute;border-left: 1px solid gray;box-sizing: border-box;top: 0;bottom: 0;left: 50%;z-index: 0;}#sk-container-id-1 div.sk-serial {display: flex;flex-direction: column;align-items: center;background-color: white;padding-right: 0.2em;padding-left: 0.2em;position: relative;}#sk-container-id-1 div.sk-item {position: relative;z-index: 1;}#sk-container-id-1 div.sk-parallel {display: flex;align-items: stretch;justify-content: center;background-color: white;position: relative;}#sk-container-id-1 div.sk-item::before, #sk-container-id-1 div.sk-parallel-item::before {content: \"\";position: absolute;border-left: 1px solid gray;box-sizing: border-box;top: 0;bottom: 0;left: 50%;z-index: -1;}#sk-container-id-1 div.sk-parallel-item {display: flex;flex-direction: column;z-index: 1;position: relative;background-color: white;}#sk-container-id-1 div.sk-parallel-item:first-child::after {align-self: flex-end;width: 50%;}#sk-container-id-1 div.sk-parallel-item:last-child::after {align-self: flex-start;width: 50%;}#sk-container-id-1 div.sk-parallel-item:only-child::after {width: 0;}#sk-container-id-1 div.sk-dashed-wrapped {border: 1px dashed gray;margin: 0 0.4em 0.5em 0.4em;box-sizing: border-box;padding-bottom: 0.4em;background-color: white;}#sk-container-id-1 div.sk-label label {font-family: monospace;font-weight: bold;display: inline-block;line-height: 1.2em;}#sk-container-id-1 div.sk-label-container {text-align: center;}#sk-container-id-1 div.sk-container {/* jupyter's `normalize.less` sets `[hidden] { display: none; }` but bootstrap.min.css set `[hidden] { display: none !important; }` so we also need the `!important` here to be able to override the default hidden behavior on the sphinx rendered scikit-learn.org. See: https://github.com/scikit-learn/scikit-learn/issues/21755 */display: inline-block !important;position: relative;}#sk-container-id-1 div.sk-text-repr-fallback {display: none;}</style><div id=\"sk-container-id-1\" class=\"sk-top-container\"><div class=\"sk-text-repr-fallback\"><pre>LogisticRegression()</pre><b>In a Jupyter environment, please rerun this cell to show the HTML representation or trust the notebook. <br />On GitHub, the HTML representation is unable to render, please try loading this page with nbviewer.org.</b></div><div class=\"sk-container\" hidden><div class=\"sk-item\"><div class=\"sk-estimator sk-toggleable\"><input class=\"sk-toggleable__control sk-hidden--visually\" id=\"sk-estimator-id-1\" type=\"checkbox\" checked><label for=\"sk-estimator-id-1\" class=\"sk-toggleable__label sk-toggleable__label-arrow\">LogisticRegression</label><div class=\"sk-toggleable__content\"><pre>LogisticRegression()</pre></div></div></div></div></div>"
      ],
      "text/plain": [
       "LogisticRegression()"
      ]
     },
     "execution_count": 6,
     "metadata": {},
     "output_type": "execute_result"
    }
   ],
   "source": [
    "model = LogisticRegression()\n",
    "# 学習\n",
    "model.fit(X_train, y_train)"
   ]
  },
  {
   "attachments": {},
   "cell_type": "markdown",
   "metadata": {},
   "source": [
    "### 3.2.5 学習結果の確認"
   ]
  },
  {
   "cell_type": "code",
   "execution_count": 7,
   "metadata": {},
   "outputs": [
    {
     "name": "stdout",
     "output_type": "stream",
     "text": [
      "1.0\n"
     ]
    }
   ],
   "source": [
    "from sklearn import metrics\n",
    "y_pred = model.predict(X_test)\n",
    "print(metrics.accuracy_score(y_test, y_pred))"
   ]
  },
  {
   "attachments": {},
   "cell_type": "markdown",
   "metadata": {},
   "source": [
    "訓練データで学習した多クラスロジスティック回帰モデルを，テストデータで精度を評価すると，100%という結果を得ることができた．\n",
    "\n",
    "以下で，データ点および決定境界を図示し，精度100％の分類が行えているか確認してみる．"
   ]
  },
  {
   "cell_type": "code",
   "execution_count": 8,
   "metadata": {},
   "outputs": [
    {
     "name": "stdout",
     "output_type": "stream",
     "text": [
      "[-7.3018626]\n",
      "[[2.41092643 1.01214654]]\n"
     ]
    }
   ],
   "source": [
    "# 切片\n",
    "print(model.intercept_)\n",
    "# 傾き\n",
    "print(model.coef_)"
   ]
  },
  {
   "cell_type": "code",
   "execution_count": 9,
   "metadata": {},
   "outputs": [
    {
     "data": {
      "image/png": "[encoded data removed]",
      "text/plain": [
       "<Figure size 432x288 with 1 Axes>"
      ]
     },
     "metadata": {
      "needs_background": "light"
     },
     "output_type": "display_data"
    }
   ],
   "source": [
    "w_0 = model.intercept_\n",
    "w_1 = model.coef_[0, 0]\n",
    "w_2 = model.coef_[0, 1]\n",
    "\n",
    "x1 = np.linspace(0, 6, 30)\n",
    "x2 = (-w_1 * x1 - w_0) / w_2\n",
    "# 決定境界およびデータ点を描画\n",
    "plt.plot(x1, x2, color='gray')\n",
    "plt.scatter(X.iloc[:, 0][y==0], X.iloc[:, 1][y==0], color='lightskyblue', label=data.target_names[0])\n",
    "plt.scatter(X.iloc[:, 0][y==1], X.iloc[:, 1][y==1], color='sandybrown', label=data.target_names[1])\n",
    "plt.ylim(-0.25, 2)\n",
    "plt.xlabel(X.columns[0])\n",
    "plt.ylabel(X.columns[1])\n",
    "plt.legend()\n",
    "plt.show()"
   ]
  },
  {
   "attachments": {},
   "cell_type": "markdown",
   "metadata": {},
   "source": [
    "## 3.3 多クラスロジスティック回帰モデル\n",
    "<a id=\"3.3\"></a>"
   ]
  },
  {
   "attachments": {},
   "cell_type": "markdown",
   "metadata": {},
   "source": [
    "[3.2](#3.2)節では二値分類を行った．\n",
    "本節では，先ほどと同様の iris データセットを用いて，多クラス分類をロジスティック回帰を用いて行う．"
   ]
  },
  {
   "attachments": {},
   "cell_type": "markdown",
   "metadata": {},
   "source": [
    "二値分類におけるロジスティック回帰モデルを，多クラスに応用する方法は以下の通りである．\n",
    "\n",
    "1. [One VS Rest](#1.3.1)\n",
    "\n",
    "2. [多項ロジスティック回帰](#1.3.2)"
   ]
  },
  {
   "attachments": {},
   "cell_type": "markdown",
   "metadata": {},
   "source": [
    "### 3.3.1 One VS Rest\n",
    "<a id=\"3.3.1\"></a>"
   ]
  },
  {
   "attachments": {},
   "cell_type": "markdown",
   "metadata": {},
   "source": [
    "この手法は，ロジスティック回帰に限らず，他の二値分類アルゴリズムを多値分類に応用する際に適用することができる．\n",
    "\n",
    "二値分類のモデルを，クラス数定義し，それらの分類器のうち最も高い確率のクラスを予測結果とする．\n",
    "\n",
    "例えば，犬・猫・虎を分類対称のクラスとすると，One VS Rest では，以下の3つの分類器を構築します．\n",
    "\n",
    "1. 犬 vs その他（猫・虎）を分類する分類器\n",
    "2. 猫 vs その他（犬・虎）を分類する分類器\n",
    "3. 虎 vs その他（犬・猫）を分類する分類器\n",
    "\n",
    "しかし，データ数や分類対称のクラス数が多い場合や，複雑な分類アルゴリズムの場合では，多大な学習コストを要することになる．"
   ]
  },
  {
   "attachments": {},
   "cell_type": "markdown",
   "metadata": {},
   "source": [
    "### 3.3.2 多項ロジスティック回帰\n",
    "<a id=\"3.3.2\"></a>"
   ]
  },
  {
   "attachments": {},
   "cell_type": "markdown",
   "metadata": {},
   "source": [
    "この手法は，二値分類用のロジスティック回帰を多値分類用に拡張したモデルである．\n",
    "\n",
    "式(1.3)は二値分類用の損失関数であったので，これを工夫する必要があります．\n",
    "\n",
    "二値分類では，目的変数を 0/1 のと変換してシグモイド関数を適用していましたが，多クラスの場合は同様にはできません．\n",
    "\n",
    "そこで，1-of-K 符号化というものを用います．"
   ]
  },
  {
   "attachments": {},
   "cell_type": "markdown",
   "metadata": {},
   "source": [
    "- 1-of-K 符号化\n",
    "\n",
    "$$\n",
    "t_{nk} = \n",
    "\\left\\{\n",
    "\\begin{align*}\n",
    "1,\\,\\,  \\ & k_n=k \\\\\n",
    "0,\\,\\,  \\ & otherwise\n",
    "\\end{align*}\n",
    "\\right.\n",
    "\\tag{3.4}\n",
    "$$\n",
    "\n",
    "クラス $C_k$ に属する特徴ベクトルに対する目的変数ベクトル $t_n$ が $k$ 番目の要素が $1$ でそれ以外の要素がすべて $0$ となるような符号化法である"
   ]
  },
  {
   "attachments": {},
   "cell_type": "markdown",
   "metadata": {},
   "source": [
    "二値分類では式(3.1)のシグモイド関数を使用しましたが，多値分類ではソフトマックス関数を使用します．"
   ]
  },
  {
   "attachments": {},
   "cell_type": "markdown",
   "metadata": {},
   "source": [
    "- ソフトマックス関数\n",
    "$$ \n",
    "p_k(x) = \\frac{\\exp^{x_k}}{\\exp^{x_1} + \\exp^{x_2} + \\dots + \\exp^{x_K}} = \\frac{\\exp^{x_k}}{\\sum_{k=1}^{K}\\exp^{x_i}}\n",
    "\\tag{3.5} $$"
   ]
  },
  {
   "attachments": {},
   "cell_type": "markdown",
   "metadata": {},
   "source": [
    "そして、このとき尤度関数は以下のように定義することができる．"
   ]
  },
  {
   "attachments": {},
   "cell_type": "markdown",
   "metadata": {},
   "source": [
    "$$\n",
    "p(\\mathbf T | \\mathbf w_1, \\dots, \\mathbf w_K) = \\prod_{n=1}^{N}\\prod_{k=1}^{K} p(C_k | \\mathbf x_n)^{t_{nk}} = \\prod_{n=1}^{N}\\prod_{k=1}^{K} y_{nk}^{t_nk}\n",
    "\\tag{1.6}\n",
    "$$"
   ]
  },
  {
   "attachments": {},
   "cell_type": "markdown",
   "metadata": {},
   "source": [
    "先ほどと同様に，負の対数をとると以下の多値分類に対する公差エントロピー誤差関数を得ることができる"
   ]
  },
  {
   "attachments": {},
   "cell_type": "markdown",
   "metadata": {},
   "source": [
    "$$\n",
    "E(\\mathbf w_1, \\dots, \\mathbf w_K)) = -\\ln p(\\mathbf T | \\mathbf w_1, \\dots, \\mathbf w_K) = -\\sum_{n=1}^{N} \\sum_{k=1}^{K} t_{nk} \\ln y_{nk}\n",
    "\\tag{1.7}\n",
    "$$"
   ]
  },
  {
   "attachments": {},
   "cell_type": "markdown",
   "metadata": {},
   "source": [
    "### 3.3.3 データセットの準備"
   ]
  },
  {
   "cell_type": "code",
   "execution_count": 10,
   "metadata": {
    "scrolled": true
   },
   "outputs": [
    {
     "data": {
      "text/html": [
       "<div>\n",
       "<style scoped>\n",
       "    .dataframe tbody tr th:only-of-type {\n",
       "        vertical-align: middle;\n",
       "    }\n",
       "\n",
       "    .dataframe tbody tr th {\n",
       "        vertical-align: top;\n",
       "    }\n",
       "\n",
       "    .dataframe thead th {\n",
       "        text-align: right;\n",
       "    }\n",
       "</style>\n",
       "<table border=\"1\" class=\"dataframe\">\n",
       "  <thead>\n",
       "    <tr style=\"text-align: right;\">\n",
       "      <th></th>\n",
       "      <th>sepal length (cm)</th>\n",
       "      <th>sepal width (cm)</th>\n",
       "      <th>petal length (cm)</th>\n",
       "      <th>petal width (cm)</th>\n",
       "      <th>Species</th>\n",
       "    </tr>\n",
       "  </thead>\n",
       "  <tbody>\n",
       "    <tr>\n",
       "      <th>0</th>\n",
       "      <td>5.1</td>\n",
       "      <td>3.5</td>\n",
       "      <td>1.4</td>\n",
       "      <td>0.2</td>\n",
       "      <td>0</td>\n",
       "    </tr>\n",
       "    <tr>\n",
       "      <th>1</th>\n",
       "      <td>4.9</td>\n",
       "      <td>3.0</td>\n",
       "      <td>1.4</td>\n",
       "      <td>0.2</td>\n",
       "      <td>0</td>\n",
       "    </tr>\n",
       "    <tr>\n",
       "      <th>2</th>\n",
       "      <td>4.7</td>\n",
       "      <td>3.2</td>\n",
       "      <td>1.3</td>\n",
       "      <td>0.2</td>\n",
       "      <td>0</td>\n",
       "    </tr>\n",
       "    <tr>\n",
       "      <th>3</th>\n",
       "      <td>4.6</td>\n",
       "      <td>3.1</td>\n",
       "      <td>1.5</td>\n",
       "      <td>0.2</td>\n",
       "      <td>0</td>\n",
       "    </tr>\n",
       "    <tr>\n",
       "      <th>4</th>\n",
       "      <td>5.0</td>\n",
       "      <td>3.6</td>\n",
       "      <td>1.4</td>\n",
       "      <td>0.2</td>\n",
       "      <td>0</td>\n",
       "    </tr>\n",
       "  </tbody>\n",
       "</table>\n",
       "</div>"
      ],
      "text/plain": [
       "   sepal length (cm)  sepal width (cm)  petal length (cm)  petal width (cm)  \\\n",
       "0                5.1               3.5                1.4               0.2   \n",
       "1                4.9               3.0                1.4               0.2   \n",
       "2                4.7               3.2                1.3               0.2   \n",
       "3                4.6               3.1                1.5               0.2   \n",
       "4                5.0               3.6                1.4               0.2   \n",
       "\n",
       "   Species  \n",
       "0        0  \n",
       "1        0  \n",
       "2        0  \n",
       "3        0  \n",
       "4        0  "
      ]
     },
     "execution_count": 10,
     "metadata": {},
     "output_type": "execute_result"
    }
   ],
   "source": [
    "# irisデータセットの読み込み\n",
    "data = load_iris()\n",
    "X = pd.DataFrame(data.data, columns=data.feature_names)\n",
    "y = pd.DataFrame(data.target, columns=['Species'])\n",
    "df = pd.concat([X, y], axis=1)\n",
    "df.head()"
   ]
  },
  {
   "cell_type": "code",
   "execution_count": 11,
   "metadata": {},
   "outputs": [
    {
     "data": {
      "text/html": [
       "<div>\n",
       "<style scoped>\n",
       "    .dataframe tbody tr th:only-of-type {\n",
       "        vertical-align: middle;\n",
       "    }\n",
       "\n",
       "    .dataframe tbody tr th {\n",
       "        vertical-align: top;\n",
       "    }\n",
       "\n",
       "    .dataframe thead th {\n",
       "        text-align: right;\n",
       "    }\n",
       "</style>\n",
       "<table border=\"1\" class=\"dataframe\">\n",
       "  <thead>\n",
       "    <tr style=\"text-align: right;\">\n",
       "      <th></th>\n",
       "      <th>sepal length (cm)</th>\n",
       "      <th>sepal width (cm)</th>\n",
       "      <th>petal length (cm)</th>\n",
       "      <th>petal width (cm)</th>\n",
       "      <th>Species</th>\n",
       "    </tr>\n",
       "  </thead>\n",
       "  <tbody>\n",
       "    <tr>\n",
       "      <th>145</th>\n",
       "      <td>6.7</td>\n",
       "      <td>3.0</td>\n",
       "      <td>5.2</td>\n",
       "      <td>2.3</td>\n",
       "      <td>2</td>\n",
       "    </tr>\n",
       "    <tr>\n",
       "      <th>146</th>\n",
       "      <td>6.3</td>\n",
       "      <td>2.5</td>\n",
       "      <td>5.0</td>\n",
       "      <td>1.9</td>\n",
       "      <td>2</td>\n",
       "    </tr>\n",
       "    <tr>\n",
       "      <th>147</th>\n",
       "      <td>6.5</td>\n",
       "      <td>3.0</td>\n",
       "      <td>5.2</td>\n",
       "      <td>2.0</td>\n",
       "      <td>2</td>\n",
       "    </tr>\n",
       "    <tr>\n",
       "      <th>148</th>\n",
       "      <td>6.2</td>\n",
       "      <td>3.4</td>\n",
       "      <td>5.4</td>\n",
       "      <td>2.3</td>\n",
       "      <td>2</td>\n",
       "    </tr>\n",
       "    <tr>\n",
       "      <th>149</th>\n",
       "      <td>5.9</td>\n",
       "      <td>3.0</td>\n",
       "      <td>5.1</td>\n",
       "      <td>1.8</td>\n",
       "      <td>2</td>\n",
       "    </tr>\n",
       "  </tbody>\n",
       "</table>\n",
       "</div>"
      ],
      "text/plain": [
       "     sepal length (cm)  sepal width (cm)  petal length (cm)  petal width (cm)  \\\n",
       "145                6.7               3.0                5.2               2.3   \n",
       "146                6.3               2.5                5.0               1.9   \n",
       "147                6.5               3.0                5.2               2.0   \n",
       "148                6.2               3.4                5.4               2.3   \n",
       "149                5.9               3.0                5.1               1.8   \n",
       "\n",
       "     Species  \n",
       "145        2  \n",
       "146        2  \n",
       "147        2  \n",
       "148        2  \n",
       "149        2  "
      ]
     },
     "execution_count": 11,
     "metadata": {},
     "output_type": "execute_result"
    }
   ],
   "source": [
    "df.tail()"
   ]
  },
  {
   "attachments": {},
   "cell_type": "markdown",
   "metadata": {},
   "source": [
    "### 3.3.4 前処理"
   ]
  },
  {
   "attachments": {},
   "cell_type": "markdown",
   "metadata": {},
   "source": [
    "今回は，sepal length，sepal width，petal length，petal width を用いて品種（setosa、versicolor，virginica）を分類するロジスティック回帰モデルを構築する．"
   ]
  },
  {
   "cell_type": "code",
   "execution_count": 12,
   "metadata": {},
   "outputs": [],
   "source": [
    "# 学習データと検証データを分割\n",
    "X_train, X_test, y_train, y_test = train_test_split(X, y, random_state=0)"
   ]
  },
  {
   "attachments": {},
   "cell_type": "markdown",
   "metadata": {},
   "source": [
    "### 3.3.5 モデル定義，学習"
   ]
  },
  {
   "cell_type": "code",
   "execution_count": 13,
   "metadata": {},
   "outputs": [
    {
     "data": {
      "text/html": [
       "<style>#sk-container-id-2 {color: black;background-color: white;}#sk-container-id-2 pre{padding: 0;}#sk-container-id-2 div.sk-toggleable {background-color: white;}#sk-container-id-2 label.sk-toggleable__label {cursor: pointer;display: block;width: 100%;margin-bottom: 0;padding: 0.3em;box-sizing: border-box;text-align: center;}#sk-container-id-2 label.sk-toggleable__label-arrow:before {content: \"▸\";float: left;margin-right: 0.25em;color: #696969;}#sk-container-id-2 label.sk-toggleable__label-arrow:hover:before {color: black;}#sk-container-id-2 div.sk-estimator:hover label.sk-toggleable__label-arrow:before {color: black;}#sk-container-id-2 div.sk-toggleable__content {max-height: 0;max-width: 0;overflow: hidden;text-align: left;background-color: #f0f8ff;}#sk-container-id-2 div.sk-toggleable__content pre {margin: 0.2em;color: black;border-radius: 0.25em;background-color: #f0f8ff;}#sk-container-id-2 input.sk-toggleable__control:checked~div.sk-toggleable__content {max-height: 200px;max-width: 100%;overflow: auto;}#sk-container-id-2 input.sk-toggleable__control:checked~label.sk-toggleable__label-arrow:before {content: \"▾\";}#sk-container-id-2 div.sk-estimator input.sk-toggleable__control:checked~label.sk-toggleable__label {background-color: #d4ebff;}#sk-container-id-2 div.sk-label input.sk-toggleable__control:checked~label.sk-toggleable__label {background-color: #d4ebff;}#sk-container-id-2 input.sk-hidden--visually {border: 0;clip: rect(1px 1px 1px 1px);clip: rect(1px, 1px, 1px, 1px);height: 1px;margin: -1px;overflow: hidden;padding: 0;position: absolute;width: 1px;}#sk-container-id-2 div.sk-estimator {font-family: monospace;background-color: #f0f8ff;border: 1px dotted black;border-radius: 0.25em;box-sizing: border-box;margin-bottom: 0.5em;}#sk-container-id-2 div.sk-estimator:hover {background-color: #d4ebff;}#sk-container-id-2 div.sk-parallel-item::after {content: \"\";width: 100%;border-bottom: 1px solid gray;flex-grow: 1;}#sk-container-id-2 div.sk-label:hover label.sk-toggleable__label {background-color: #d4ebff;}#sk-container-id-2 div.sk-serial::before {content: \"\";position: absolute;border-left: 1px solid gray;box-sizing: border-box;top: 0;bottom: 0;left: 50%;z-index: 0;}#sk-container-id-2 div.sk-serial {display: flex;flex-direction: column;align-items: center;background-color: white;padding-right: 0.2em;padding-left: 0.2em;position: relative;}#sk-container-id-2 div.sk-item {position: relative;z-index: 1;}#sk-container-id-2 div.sk-parallel {display: flex;align-items: stretch;justify-content: center;background-color: white;position: relative;}#sk-container-id-2 div.sk-item::before, #sk-container-id-2 div.sk-parallel-item::before {content: \"\";position: absolute;border-left: 1px solid gray;box-sizing: border-box;top: 0;bottom: 0;left: 50%;z-index: -1;}#sk-container-id-2 div.sk-parallel-item {display: flex;flex-direction: column;z-index: 1;position: relative;background-color: white;}#sk-container-id-2 div.sk-parallel-item:first-child::after {align-self: flex-end;width: 50%;}#sk-container-id-2 div.sk-parallel-item:last-child::after {align-self: flex-start;width: 50%;}#sk-container-id-2 div.sk-parallel-item:only-child::after {width: 0;}#sk-container-id-2 div.sk-dashed-wrapped {border: 1px dashed gray;margin: 0 0.4em 0.5em 0.4em;box-sizing: border-box;padding-bottom: 0.4em;background-color: white;}#sk-container-id-2 div.sk-label label {font-family: monospace;font-weight: bold;display: inline-block;line-height: 1.2em;}#sk-container-id-2 div.sk-label-container {text-align: center;}#sk-container-id-2 div.sk-container {/* jupyter's `normalize.less` sets `[hidden] { display: none; }` but bootstrap.min.css set `[hidden] { display: none !important; }` so we also need the `!important` here to be able to override the default hidden behavior on the sphinx rendered scikit-learn.org. See: https://github.com/scikit-learn/scikit-learn/issues/21755 */display: inline-block !important;position: relative;}#sk-container-id-2 div.sk-text-repr-fallback {display: none;}</style><div id=\"sk-container-id-2\" class=\"sk-top-container\"><div class=\"sk-text-repr-fallback\"><pre>LogisticRegression()</pre><b>In a Jupyter environment, please rerun this cell to show the HTML representation or trust the notebook. <br />On GitHub, the HTML representation is unable to render, please try loading this page with nbviewer.org.</b></div><div class=\"sk-container\" hidden><div class=\"sk-item\"><div class=\"sk-estimator sk-toggleable\"><input class=\"sk-toggleable__control sk-hidden--visually\" id=\"sk-estimator-id-2\" type=\"checkbox\" checked><label for=\"sk-estimator-id-2\" class=\"sk-toggleable__label sk-toggleable__label-arrow\">LogisticRegression</label><div class=\"sk-toggleable__content\"><pre>LogisticRegression()</pre></div></div></div></div></div>"
      ],
      "text/plain": [
       "LogisticRegression()"
      ]
     },
     "execution_count": 13,
     "metadata": {},
     "output_type": "execute_result"
    }
   ],
   "source": [
    "model = LogisticRegression()\n",
    "# 学習\n",
    "model.fit(X_train, y_train)"
   ]
  },
  {
   "attachments": {},
   "cell_type": "markdown",
   "metadata": {},
   "source": [
    "### 3.3.6 評価"
   ]
  },
  {
   "cell_type": "code",
   "execution_count": 14,
   "metadata": {},
   "outputs": [
    {
     "name": "stdout",
     "output_type": "stream",
     "text": [
      "0.9736842105263158\n"
     ]
    }
   ],
   "source": [
    "y_pred = model.predict(X_test)\n",
    "print(metrics.accuracy_score(y_test, y_pred))"
   ]
  },
  {
   "attachments": {},
   "cell_type": "markdown",
   "metadata": {},
   "source": [
    "訓練データで学習した多クラスロジスティック回帰モデルを，テストデータで精度を評価すると，約97.4%という結果を得ることができた．"
   ]
  },
  {
   "attachments": {},
   "cell_type": "markdown",
   "metadata": {},
   "source": [
    "## 3.4 サポートベクターマシン（SVM：Support Vector Machine)\n",
    "<a id=\"3.4\"></a>"
   ]
  },
  {
   "attachments": {},
   "cell_type": "markdown",
   "metadata": {},
   "source": [
    "これまでロジスティック回帰について述べてきたが，ここでは分類問題のその他のアルゴリズムとして，SVM を紹介する．\n",
    "\n",
    "SVM は，教師あり学習の二値分類モデルである．\n",
    "\n",
    "ただし， SVM の回帰問題や多値分類問題への応用も存在する."
   ]
  },
  {
   "attachments": {},
   "cell_type": "markdown",
   "metadata": {},
   "source": [
    "SVM は以下の識別境界で入力ベクトルを分離する．"
   ]
  },
  {
   "attachments": {},
   "cell_type": "markdown",
   "metadata": {},
   "source": [
    "$$ y(\\mathbf x) = \\mathbf w^{\\mathrm T} \\mathbf x + b \n",
    "\\tag{1.8}$$"
   ]
  },
  {
   "attachments": {},
   "cell_type": "markdown",
   "metadata": {},
   "source": [
    "以下は，データ点と識別境界を図示したものであるが，どちらの識別境界が最適でしょうか？\n",
    "\n",
    "どちらもクラスタを適切に分離していますが，右図が最適な識別境界である．\n",
    "\n",
    "SVM ではサポートベクトルと識別境界の距離（マージン）を最大化するように，学習を行う．"
   ]
  },
  {
   "attachments": {},
   "cell_type": "markdown",
   "metadata": {},
   "source": [
    "<table><tr>\n",
    "    <td><img src=\"figs/svm1.png\" width=\"80%\"></td>\n",
    "    <td><img src=\"figs/svm1.png\" width=\"80%\"></td>\n",
    "</tr></table>"
   ]
  },
  {
   "attachments": {},
   "cell_type": "markdown",
   "metadata": {},
   "source": [
    "ここでラベル変数を以下のように定義する"
   ]
  },
  {
   "attachments": {},
   "cell_type": "markdown",
   "metadata": {},
   "source": [
    "$$\n",
    "t_i = \n",
    "\\left\\{\n",
    "\\begin{align*}\n",
    "1,\\,\\,  \\ & \\mathbf w^{\\mathrm T}x_i + b > 0 \\\\\n",
    "-1,\\,\\,  \\ & \\mathbf w^{\\mathrm T}x_i + b < 0\n",
    "\\end{align*}\n",
    "\\right.\n",
    "\\tag{1.9}\n",
    "$$"
   ]
  },
  {
   "attachments": {},
   "cell_type": "markdown",
   "metadata": {},
   "source": [
    "さらに，すべてのデータ点は線形分離可能と仮定すると，以下の条件を満たす."
   ]
  },
  {
   "attachments": {},
   "cell_type": "markdown",
   "metadata": {},
   "source": [
    "$$ t_n (\\mathbf w^{\\mathrm T}\\mathbf x_n + b) > 0 \n",
    "\\tag{1.10}$$"
   ]
  },
  {
   "attachments": {},
   "cell_type": "markdown",
   "metadata": {},
   "source": [
    "したがって，識別境界から点 $\\mathbf x_n$ までの距離は以下のように表すことができる．"
   ]
  },
  {
   "attachments": {},
   "cell_type": "markdown",
   "metadata": {},
   "source": [
    "$$\n",
    "\\frac{t_n(\\mathbf w^{\\mathrm T}\\mathbf x_n + b)}{||\\mathbf w||}\n",
    "\\tag{1.11}\n",
    "$$"
   ]
  },
  {
   "attachments": {},
   "cell_type": "markdown",
   "metadata": {},
   "source": [
    "マージンは，訓練データと分類協会の最短距離であり，SVM は，そのマージンを最大化することが目的である．\n",
    "\n",
    "つまり，以下の最適化問題を解くことで最適な識別境界を得ることができる．"
   ]
  },
  {
   "attachments": {},
   "cell_type": "markdown",
   "metadata": {},
   "source": [
    "$$\n",
    "\\underset{\\mathbf w,\\, b}{\\mathrm{argmax}}\n",
    "\\left\\{\n",
    "\\frac{1}{||\\mathbf w||}\n",
    "\\underset{n}{\\mathrm{min}}\n",
    "[ t_n(\\mathbf w^{\\mathrm T} \\mathbf x_n + b) ]\n",
    "\\right \\}\n",
    "\\tag{1.12}\n",
    "$$"
   ]
  },
  {
   "attachments": {},
   "cell_type": "markdown",
   "metadata": {},
   "source": [
    "### 3.4.1 データセットの準備"
   ]
  },
  {
   "attachments": {},
   "cell_type": "markdown",
   "metadata": {},
   "source": [
    "今回は， scikit-learn の make_blobs で訓練データを生成し，それを使用する．"
   ]
  },
  {
   "attachments": {},
   "cell_type": "markdown",
   "metadata": {},
   "source": [
    "- centers：クラスターの数\n",
    "- n_samples：サンプル数\n",
    "- n_features：特徴量の数\n",
    "- cluster_std：クラスター分布の標準偏差"
   ]
  },
  {
   "cell_type": "code",
   "execution_count": 15,
   "metadata": {},
   "outputs": [],
   "source": [
    "from sklearn.datasets import make_blobs \n",
    "X, y = make_blobs(centers=2, n_samples=1000, n_features=5, cluster_std=5, random_state=121)"
   ]
  },
  {
   "cell_type": "code",
   "execution_count": 16,
   "metadata": {},
   "outputs": [],
   "source": [
    "# 学習データと検証データを分割\n",
    "from sklearn.model_selection import train_test_split\n",
    "X_train, X_test, y_train, y_test = train_test_split(X, y, test_size=0.3, random_state=0)"
   ]
  },
  {
   "attachments": {},
   "cell_type": "markdown",
   "metadata": {},
   "source": [
    "### 3.4.2 前処理"
   ]
  },
  {
   "cell_type": "code",
   "execution_count": 17,
   "metadata": {},
   "outputs": [
    {
     "data": {
      "text/html": [
       "<style>#sk-container-id-3 {color: black;background-color: white;}#sk-container-id-3 pre{padding: 0;}#sk-container-id-3 div.sk-toggleable {background-color: white;}#sk-container-id-3 label.sk-toggleable__label {cursor: pointer;display: block;width: 100%;margin-bottom: 0;padding: 0.3em;box-sizing: border-box;text-align: center;}#sk-container-id-3 label.sk-toggleable__label-arrow:before {content: \"▸\";float: left;margin-right: 0.25em;color: #696969;}#sk-container-id-3 label.sk-toggleable__label-arrow:hover:before {color: black;}#sk-container-id-3 div.sk-estimator:hover label.sk-toggleable__label-arrow:before {color: black;}#sk-container-id-3 div.sk-toggleable__content {max-height: 0;max-width: 0;overflow: hidden;text-align: left;background-color: #f0f8ff;}#sk-container-id-3 div.sk-toggleable__content pre {margin: 0.2em;color: black;border-radius: 0.25em;background-color: #f0f8ff;}#sk-container-id-3 input.sk-toggleable__control:checked~div.sk-toggleable__content {max-height: 200px;max-width: 100%;overflow: auto;}#sk-container-id-3 input.sk-toggleable__control:checked~label.sk-toggleable__label-arrow:before {content: \"▾\";}#sk-container-id-3 div.sk-estimator input.sk-toggleable__control:checked~label.sk-toggleable__label {background-color: #d4ebff;}#sk-container-id-3 div.sk-label input.sk-toggleable__control:checked~label.sk-toggleable__label {background-color: #d4ebff;}#sk-container-id-3 input.sk-hidden--visually {border: 0;clip: rect(1px 1px 1px 1px);clip: rect(1px, 1px, 1px, 1px);height: 1px;margin: -1px;overflow: hidden;padding: 0;position: absolute;width: 1px;}#sk-container-id-3 div.sk-estimator {font-family: monospace;background-color: #f0f8ff;border: 1px dotted black;border-radius: 0.25em;box-sizing: border-box;margin-bottom: 0.5em;}#sk-container-id-3 div.sk-estimator:hover {background-color: #d4ebff;}#sk-container-id-3 div.sk-parallel-item::after {content: \"\";width: 100%;border-bottom: 1px solid gray;flex-grow: 1;}#sk-container-id-3 div.sk-label:hover label.sk-toggleable__label {background-color: #d4ebff;}#sk-container-id-3 div.sk-serial::before {content: \"\";position: absolute;border-left: 1px solid gray;box-sizing: border-box;top: 0;bottom: 0;left: 50%;z-index: 0;}#sk-container-id-3 div.sk-serial {display: flex;flex-direction: column;align-items: center;background-color: white;padding-right: 0.2em;padding-left: 0.2em;position: relative;}#sk-container-id-3 div.sk-item {position: relative;z-index: 1;}#sk-container-id-3 div.sk-parallel {display: flex;align-items: stretch;justify-content: center;background-color: white;position: relative;}#sk-container-id-3 div.sk-item::before, #sk-container-id-3 div.sk-parallel-item::before {content: \"\";position: absolute;border-left: 1px solid gray;box-sizing: border-box;top: 0;bottom: 0;left: 50%;z-index: -1;}#sk-container-id-3 div.sk-parallel-item {display: flex;flex-direction: column;z-index: 1;position: relative;background-color: white;}#sk-container-id-3 div.sk-parallel-item:first-child::after {align-self: flex-end;width: 50%;}#sk-container-id-3 div.sk-parallel-item:last-child::after {align-self: flex-start;width: 50%;}#sk-container-id-3 div.sk-parallel-item:only-child::after {width: 0;}#sk-container-id-3 div.sk-dashed-wrapped {border: 1px dashed gray;margin: 0 0.4em 0.5em 0.4em;box-sizing: border-box;padding-bottom: 0.4em;background-color: white;}#sk-container-id-3 div.sk-label label {font-family: monospace;font-weight: bold;display: inline-block;line-height: 1.2em;}#sk-container-id-3 div.sk-label-container {text-align: center;}#sk-container-id-3 div.sk-container {/* jupyter's `normalize.less` sets `[hidden] { display: none; }` but bootstrap.min.css set `[hidden] { display: none !important; }` so we also need the `!important` here to be able to override the default hidden behavior on the sphinx rendered scikit-learn.org. See: https://github.com/scikit-learn/scikit-learn/issues/21755 */display: inline-block !important;position: relative;}#sk-container-id-3 div.sk-text-repr-fallback {display: none;}</style><div id=\"sk-container-id-3\" class=\"sk-top-container\"><div class=\"sk-text-repr-fallback\"><pre>StandardScaler()</pre><b>In a Jupyter environment, please rerun this cell to show the HTML representation or trust the notebook. <br />On GitHub, the HTML representation is unable to render, please try loading this page with nbviewer.org.</b></div><div class=\"sk-container\" hidden><div class=\"sk-item\"><div class=\"sk-estimator sk-toggleable\"><input class=\"sk-toggleable__control sk-hidden--visually\" id=\"sk-estimator-id-3\" type=\"checkbox\" checked><label for=\"sk-estimator-id-3\" class=\"sk-toggleable__label sk-toggleable__label-arrow\">StandardScaler</label><div class=\"sk-toggleable__content\"><pre>StandardScaler()</pre></div></div></div></div></div>"
      ],
      "text/plain": [
       "StandardScaler()"
      ]
     },
     "execution_count": 17,
     "metadata": {},
     "output_type": "execute_result"
    }
   ],
   "source": [
    "# データを標準化するための準備\n",
    "from sklearn.preprocessing import StandardScaler\n",
    "scaler = StandardScaler()\n",
    "scaler.fit(X_train)\n",
    "scaler.fit(X_test)"
   ]
  },
  {
   "attachments": {},
   "cell_type": "markdown",
   "metadata": {},
   "source": [
    "### 3.4.3 モデル定義，学習"
   ]
  },
  {
   "cell_type": "code",
   "execution_count": 18,
   "metadata": {
    "scrolled": true
   },
   "outputs": [
    {
     "data": {
      "text/html": [
       "<style>#sk-container-id-4 {color: black;background-color: white;}#sk-container-id-4 pre{padding: 0;}#sk-container-id-4 div.sk-toggleable {background-color: white;}#sk-container-id-4 label.sk-toggleable__label {cursor: pointer;display: block;width: 100%;margin-bottom: 0;padding: 0.3em;box-sizing: border-box;text-align: center;}#sk-container-id-4 label.sk-toggleable__label-arrow:before {content: \"▸\";float: left;margin-right: 0.25em;color: #696969;}#sk-container-id-4 label.sk-toggleable__label-arrow:hover:before {color: black;}#sk-container-id-4 div.sk-estimator:hover label.sk-toggleable__label-arrow:before {color: black;}#sk-container-id-4 div.sk-toggleable__content {max-height: 0;max-width: 0;overflow: hidden;text-align: left;background-color: #f0f8ff;}#sk-container-id-4 div.sk-toggleable__content pre {margin: 0.2em;color: black;border-radius: 0.25em;background-color: #f0f8ff;}#sk-container-id-4 input.sk-toggleable__control:checked~div.sk-toggleable__content {max-height: 200px;max-width: 100%;overflow: auto;}#sk-container-id-4 input.sk-toggleable__control:checked~label.sk-toggleable__label-arrow:before {content: \"▾\";}#sk-container-id-4 div.sk-estimator input.sk-toggleable__control:checked~label.sk-toggleable__label {background-color: #d4ebff;}#sk-container-id-4 div.sk-label input.sk-toggleable__control:checked~label.sk-toggleable__label {background-color: #d4ebff;}#sk-container-id-4 input.sk-hidden--visually {border: 0;clip: rect(1px 1px 1px 1px);clip: rect(1px, 1px, 1px, 1px);height: 1px;margin: -1px;overflow: hidden;padding: 0;position: absolute;width: 1px;}#sk-container-id-4 div.sk-estimator {font-family: monospace;background-color: #f0f8ff;border: 1px dotted black;border-radius: 0.25em;box-sizing: border-box;margin-bottom: 0.5em;}#sk-container-id-4 div.sk-estimator:hover {background-color: #d4ebff;}#sk-container-id-4 div.sk-parallel-item::after {content: \"\";width: 100%;border-bottom: 1px solid gray;flex-grow: 1;}#sk-container-id-4 div.sk-label:hover label.sk-toggleable__label {background-color: #d4ebff;}#sk-container-id-4 div.sk-serial::before {content: \"\";position: absolute;border-left: 1px solid gray;box-sizing: border-box;top: 0;bottom: 0;left: 50%;z-index: 0;}#sk-container-id-4 div.sk-serial {display: flex;flex-direction: column;align-items: center;background-color: white;padding-right: 0.2em;padding-left: 0.2em;position: relative;}#sk-container-id-4 div.sk-item {position: relative;z-index: 1;}#sk-container-id-4 div.sk-parallel {display: flex;align-items: stretch;justify-content: center;background-color: white;position: relative;}#sk-container-id-4 div.sk-item::before, #sk-container-id-4 div.sk-parallel-item::before {content: \"\";position: absolute;border-left: 1px solid gray;box-sizing: border-box;top: 0;bottom: 0;left: 50%;z-index: -1;}#sk-container-id-4 div.sk-parallel-item {display: flex;flex-direction: column;z-index: 1;position: relative;background-color: white;}#sk-container-id-4 div.sk-parallel-item:first-child::after {align-self: flex-end;width: 50%;}#sk-container-id-4 div.sk-parallel-item:last-child::after {align-self: flex-start;width: 50%;}#sk-container-id-4 div.sk-parallel-item:only-child::after {width: 0;}#sk-container-id-4 div.sk-dashed-wrapped {border: 1px dashed gray;margin: 0 0.4em 0.5em 0.4em;box-sizing: border-box;padding-bottom: 0.4em;background-color: white;}#sk-container-id-4 div.sk-label label {font-family: monospace;font-weight: bold;display: inline-block;line-height: 1.2em;}#sk-container-id-4 div.sk-label-container {text-align: center;}#sk-container-id-4 div.sk-container {/* jupyter's `normalize.less` sets `[hidden] { display: none; }` but bootstrap.min.css set `[hidden] { display: none !important; }` so we also need the `!important` here to be able to override the default hidden behavior on the sphinx rendered scikit-learn.org. See: https://github.com/scikit-learn/scikit-learn/issues/21755 */display: inline-block !important;position: relative;}#sk-container-id-4 div.sk-text-repr-fallback {display: none;}</style><div id=\"sk-container-id-4\" class=\"sk-top-container\"><div class=\"sk-text-repr-fallback\"><pre>SVC(max_iter=100)</pre><b>In a Jupyter environment, please rerun this cell to show the HTML representation or trust the notebook. <br />On GitHub, the HTML representation is unable to render, please try loading this page with nbviewer.org.</b></div><div class=\"sk-container\" hidden><div class=\"sk-item\"><div class=\"sk-estimator sk-toggleable\"><input class=\"sk-toggleable__control sk-hidden--visually\" id=\"sk-estimator-id-4\" type=\"checkbox\" checked><label for=\"sk-estimator-id-4\" class=\"sk-toggleable__label sk-toggleable__label-arrow\">SVC</label><div class=\"sk-toggleable__content\"><pre>SVC(max_iter=100)</pre></div></div></div></div></div>"
      ],
      "text/plain": [
       "SVC(max_iter=100)"
      ]
     },
     "execution_count": 18,
     "metadata": {},
     "output_type": "execute_result"
    }
   ],
   "source": [
    "# モデル定義\n",
    "# transformで標準化を行い，学習\n",
    "from sklearn.svm import SVC\n",
    "clf = SVC(max_iter=100)\n",
    "clf.fit(scaler.transform(X_train), y_train)"
   ]
  },
  {
   "attachments": {},
   "cell_type": "markdown",
   "metadata": {},
   "source": [
    "### 3.4.4 評価"
   ]
  },
  {
   "cell_type": "code",
   "execution_count": 19,
   "metadata": {},
   "outputs": [],
   "source": [
    "# テストデータも標準化を実行し，predict(予測)を行う\n",
    "y_pred = clf.predict(scaler.transform(X_test))"
   ]
  },
  {
   "cell_type": "code",
   "execution_count": 20,
   "metadata": {},
   "outputs": [
    {
     "data": {
      "text/plain": [
       "0.93"
      ]
     },
     "execution_count": 20,
     "metadata": {},
     "output_type": "execute_result"
    }
   ],
   "source": [
    "#正解率を算出\n",
    "from sklearn.metrics import accuracy_score\n",
    "accuracy_score(y_test,y_pred)"
   ]
  },
  {
   "attachments": {},
   "cell_type": "markdown",
   "metadata": {},
   "source": [
    "テストデータで学習済みSVMを評価すると，約93%という正解率を得ることができた．"
   ]
  },
  {
   "attachments": {},
   "cell_type": "markdown",
   "metadata": {},
   "source": [
    "## 3.5 フルスクラッチコーディング\n",
    "<a id=\"3.5\"></a>"
   ]
  },
  {
   "attachments": {},
   "cell_type": "markdown",
   "metadata": {},
   "source": [
    "これまでscikit-learnで実装された機械学習モデルを用いて分類問題を解いてきた．<br>\n",
    "これらを通して，libraryの使用によってpythonでは簡単に機械学習モデルを扱うことができることが実感できたと思う．<br>\n",
    "しかし，これらのモデルの実装内容や挙動については実装されたコードを見てみなければわかりにくい部分も多い．<br>\n",
    "そこで，本節ではscikit-learnでどのように機械学習モデルが実装されているのかを理解するために，ロジスティック回帰をフルスクラッチで実装を行う．"
   ]
  },
  {
   "attachments": {},
   "cell_type": "markdown",
   "metadata": {},
   "source": [
    "### 3.5.1 ロジスティック回帰のパラメータ推定"
   ]
  },
  {
   "attachments": {},
   "cell_type": "markdown",
   "metadata": {},
   "source": [
    "ロジスティック回帰において損失関数は以下の通りである．"
   ]
  },
  {
   "attachments": {},
   "cell_type": "markdown",
   "metadata": {},
   "source": [
    "$$ E(\\mathbf w) = -\\ln p(\\mathbf t | \\mathbf w) = -\\sum_{n=1}^{N} \\{ t_n \\ln y_n + (1-t_n) \\ln (1-y_n) \\}  \\tag{1.3}$$"
   ]
  },
  {
   "attachments": {},
   "cell_type": "markdown",
   "metadata": {},
   "source": [
    "線形回帰の場合には損失関数から解析的にパラメータの推定を行うことが可能であった．<br>\n",
    "しかし，ロジスティック回帰においてはシグモイド関数を利用した非線形な変換を行うため，解析的にパラメータの推定を行うことは困難である．<br>\n",
    "そこで，今回の実装では最急降下法によるパラメータの推定を行うことにする．"
   ]
  },
  {
   "attachments": {},
   "cell_type": "markdown",
   "metadata": {},
   "source": [
    "### 3.5.2 最急降下法"
   ]
  },
  {
   "attachments": {},
   "cell_type": "markdown",
   "metadata": {},
   "source": [
    "最急降下法は機械学習において広く利用されている損失関数を最小にするパラメータの推定方法の一つである．<br>\n",
    "別名山登り法とも呼ばれており，「山頂を目指して少しずつ移動していく」というのが直感的な理解である．（実際には谷を目指して山を下る挙動になる場合もあるが）"
   ]
  },
  {
   "attachments": {},
   "cell_type": "markdown",
   "metadata": {},
   "source": [
    "最急降下法の具体的なアルゴリズムについてみていこう．<br>\n",
    "このアルゴリズムは損失関数$E(\\mathbf{w})$が最小となるような方向（勾配）を計算し，その方向に少しづつパラメータを更新していくことで最適なパラメータにたどり着くことを目指すアルゴリズムである．"
   ]
  },
  {
   "attachments": {},
   "cell_type": "markdown",
   "metadata": {},
   "source": [
    ">1. $\\mathbf{w}^{[0]}$に初期値を与える\n",
    ">2. 以下の更新式に従ってパラメータ更新する．<br>\n",
    ">$\\mathbf{w}^{[t+1]} = \\mathbf{w}^{[t]}- \\eta\\frac{\\Delta E(\\mathbf{w})}{\\Delta \\mathbf{w}}$\n",
    ">3. (2)を繰り返し，パラメータの更新が止まれば($\\frac{\\Delta E(\\mathbf{w})}{\\Delta \\mathbf{w}}<\\epsilon$)終了する"
   ]
  },
  {
   "attachments": {},
   "cell_type": "markdown",
   "metadata": {},
   "source": [
    "- $\\eta$は学習率と呼ばれており，パラメータの更新量の大きさを制御する\n",
    "    - 小さいと収束までに時間が大きく必要になる\n",
    "    - 大きいと学習が安定しない\n",
    "- $\\epsilon$は正の定数で，誤差の許容量を表す"
   ]
  },
  {
   "attachments": {},
   "cell_type": "markdown",
   "metadata": {},
   "source": [
    "では，試しに$f(x)=x^2$の最小値を求めるコードを作成してみよう．<br>\n",
    "初期値やループ回数，学習率などを変化させて挙動の違いを確認してみるとよい．"
   ]
  },
  {
   "cell_type": "code",
   "execution_count": 1,
   "metadata": {},
   "outputs": [
    {
     "data": {
      "application/javascript": "/* Put everything inside the global mpl namespace */\n/* global mpl */\nwindow.mpl = {};\n\nmpl.get_websocket_type = function () {\n    if (typeof WebSocket !== 'undefined') {\n        return WebSocket;\n    } else if (typeof MozWebSocket !== 'undefined') {\n        return MozWebSocket;\n    } else {\n        alert(\n            'Your browser does not have WebSocket support. ' +\n                'Please try Chrome, Safari or Firefox ≥ 6. ' +\n                'Firefox 4 and 5 are also supported but you ' +\n                'have to enable WebSockets in about:config.'\n        );\n    }\n};\n\nmpl.figure = function (figure_id, websocket, ondownload, parent_element) {\n    this.id = figure_id;\n\n    this.ws = websocket;\n\n    this.supports_binary = this.ws.binaryType !== undefined;\n\n    if (!this.supports_binary) {\n        var warnings = document.getElementById('mpl-warnings');\n        if (warnings) {\n            warnings.style.display = 'block';\n            warnings.textContent =\n                'This browser does not support binary websocket messages. ' +\n                'Performance may be slow.';\n        }\n    }\n\n    this.imageObj = new Image();\n\n    this.context = undefined;\n    this.message = undefined;\n    this.canvas = undefined;\n    this.rubberband_canvas = undefined;\n    this.rubberband_context = undefined;\n    this.format_dropdown = undefined;\n\n    this.image_mode = 'full';\n\n    this.root = document.createElement('div');\n    this.root.setAttribute('style', 'display: inline-block');\n    this._root_extra_style(this.root);\n\n    parent_element.appendChild(this.root);\n\n    this._init_header(this);\n    this._init_canvas(this);\n    this._init_toolbar(this);\n\n    var fig = this;\n\n    this.waiting = false;\n\n    this.ws.onopen = function () {\n        fig.send_message('supports_binary', { value: fig.supports_binary });\n        fig.send_message('send_image_mode', {});\n        if (fig.ratio !== 1) {\n            fig.send_message('set_device_pixel_ratio', {\n                device_pixel_ratio: fig.ratio,\n            });\n        }\n        fig.send_message('refresh', {});\n    };\n\n    this.imageObj.onload = function () {\n        if (fig.image_mode === 'full') {\n            // Full images could contain transparency (where diff images\n            // almost always do), so we need to clear the canvas so that\n            // there is no ghosting.\n            fig.context.clearRect(0, 0, fig.canvas.width, fig.canvas.height);\n        }\n        fig.context.drawImage(fig.imageObj, 0, 0);\n    };\n\n    this.imageObj.onunload = function () {\n        fig.ws.close();\n    };\n\n    this.ws.onmessage = this._make_on_message_function(this);\n\n    this.ondownload = ondownload;\n};\n\nmpl.figure.prototype._init_header = function () {\n    var titlebar = document.createElement('div');\n    titlebar.classList =\n        'ui-dialog-titlebar ui-widget-header ui-corner-all ui-helper-clearfix';\n    var titletext = document.createElement('div');\n    titletext.classList = 'ui-dialog-title';\n    titletext.setAttribute(\n        'style',\n        'width: 100%; text-align: center; padding: 3px;'\n    );\n    titlebar.appendChild(titletext);\n    this.root.appendChild(titlebar);\n    this.header = titletext;\n};\n\nmpl.figure.prototype._canvas_extra_style = function (_canvas_div) {};\n\nmpl.figure.prototype._root_extra_style = function (_canvas_div) {};\n\nmpl.figure.prototype._init_canvas = function () {\n    var fig = this;\n\n    var canvas_div = (this.canvas_div = document.createElement('div'));\n    canvas_div.setAttribute('tabindex', '0');\n    canvas_div.setAttribute(\n        'style',\n        'border: 1px solid #ddd;' +\n            'box-sizing: content-box;' +\n            'clear: both;' +\n            'min-height: 1px;' +\n            'min-width: 1px;' +\n            'outline: 0;' +\n            'overflow: hidden;' +\n            'position: relative;' +\n            'resize: both;' +\n            'z-index: 2;'\n    );\n\n    function on_keyboard_event_closure(name) {\n        return function (event) {\n            return fig.key_event(event, name);\n        };\n    }\n\n    canvas_div.addEventListener(\n        'keydown',\n        on_keyboard_event_closure('key_press')\n    );\n    canvas_div.addEventListener(\n        'keyup',\n        on_keyboard_event_closure('key_release')\n    );\n\n    this._canvas_extra_style(canvas_div);\n    this.root.appendChild(canvas_div);\n\n    var canvas = (this.canvas = document.createElement('canvas'));\n    canvas.classList.add('mpl-canvas');\n    canvas.setAttribute(\n        'style',\n        'box-sizing: content-box;' +\n            'pointer-events: none;' +\n            'position: relative;' +\n            'z-index: 0;'\n    );\n\n    this.context = canvas.getContext('2d');\n\n    var backingStore =\n        this.context.backingStorePixelRatio ||\n        this.context.webkitBackingStorePixelRatio ||\n        this.context.mozBackingStorePixelRatio ||\n        this.context.msBackingStorePixelRatio ||\n        this.context.oBackingStorePixelRatio ||\n        this.context.backingStorePixelRatio ||\n        1;\n\n    this.ratio = (window.devicePixelRatio || 1) / backingStore;\n\n    var rubberband_canvas = (this.rubberband_canvas = document.createElement(\n        'canvas'\n    ));\n    rubberband_canvas.setAttribute(\n        'style',\n        'box-sizing: content-box;' +\n            'left: 0;' +\n            'pointer-events: none;' +\n            'position: absolute;' +\n            'top: 0;' +\n            'z-index: 1;'\n    );\n\n    // Apply a ponyfill if ResizeObserver is not implemented by browser.\n    if (this.ResizeObserver === undefined) {\n        if (window.ResizeObserver !== undefined) {\n            this.ResizeObserver = window.ResizeObserver;\n        } else {\n            var obs = _JSXTOOLS_RESIZE_OBSERVER({});\n            this.ResizeObserver = obs.ResizeObserver;\n        }\n    }\n\n    this.resizeObserverInstance = new this.ResizeObserver(function (entries) {\n        var nentries = entries.length;\n        for (var i = 0; i < nentries; i++) {\n            var entry = entries[i];\n            var width, height;\n            if (entry.contentBoxSize) {\n                if (entry.contentBoxSize instanceof Array) {\n                    // Chrome 84 implements new version of spec.\n                    width = entry.contentBoxSize[0].inlineSize;\n                    height = entry.contentBoxSize[0].blockSize;\n                } else {\n                    // Firefox implements old version of spec.\n                    width = entry.contentBoxSize.inlineSize;\n                    height = entry.contentBoxSize.blockSize;\n                }\n            } else {\n                // Chrome <84 implements even older version of spec.\n                width = entry.contentRect.width;\n                height = entry.contentRect.height;\n            }\n\n            // Keep the size of the canvas and rubber band canvas in sync with\n            // the canvas container.\n            if (entry.devicePixelContentBoxSize) {\n                // Chrome 84 implements new version of spec.\n                canvas.setAttribute(\n                    'width',\n                    entry.devicePixelContentBoxSize[0].inlineSize\n                );\n                canvas.setAttribute(\n                    'height',\n                    entry.devicePixelContentBoxSize[0].blockSize\n                );\n            } else {\n                canvas.setAttribute('width', width * fig.ratio);\n                canvas.setAttribute('height', height * fig.ratio);\n            }\n            /* This rescales the canvas back to display pixels, so that it\n             * appears correct on HiDPI screens. */\n            canvas.style.width = width + 'px';\n            canvas.style.height = height + 'px';\n\n            rubberband_canvas.setAttribute('width', width);\n            rubberband_canvas.setAttribute('height', height);\n\n            // And update the size in Python. We ignore the initial 0/0 size\n            // that occurs as the element is placed into the DOM, which should\n            // otherwise not happen due to the minimum size styling.\n            if (fig.ws.readyState == 1 && width != 0 && height != 0) {\n                fig.request_resize(width, height);\n            }\n        }\n    });\n    this.resizeObserverInstance.observe(canvas_div);\n\n    function on_mouse_event_closure(name) {\n        /* User Agent sniffing is bad, but WebKit is busted:\n         * https://bugs.webkit.org/show_bug.cgi?id=144526\n         * https://bugs.webkit.org/show_bug.cgi?id=181818\n         * The worst that happens here is that they get an extra browser\n         * selection when dragging, if this check fails to catch them.\n         */\n        var UA = navigator.userAgent;\n        var isWebKit = /AppleWebKit/.test(UA) && !/Chrome/.test(UA);\n        if(isWebKit) {\n            return function (event) {\n                /* This prevents the web browser from automatically changing to\n                 * the text insertion cursor when the button is pressed. We\n                 * want to control all of the cursor setting manually through\n                 * the 'cursor' event from matplotlib */\n                event.preventDefault()\n                return fig.mouse_event(event, name);\n            };\n        } else {\n            return function (event) {\n                return fig.mouse_event(event, name);\n            };\n        }\n    }\n\n    canvas_div.addEventListener(\n        'mousedown',\n        on_mouse_event_closure('button_press')\n    );\n    canvas_div.addEventListener(\n        'mouseup',\n        on_mouse_event_closure('button_release')\n    );\n    canvas_div.addEventListener(\n        'dblclick',\n        on_mouse_event_closure('dblclick')\n    );\n    // Throttle sequential mouse events to 1 every 20ms.\n    canvas_div.addEventListener(\n        'mousemove',\n        on_mouse_event_closure('motion_notify')\n    );\n\n    canvas_div.addEventListener(\n        'mouseenter',\n        on_mouse_event_closure('figure_enter')\n    );\n    canvas_div.addEventListener(\n        'mouseleave',\n        on_mouse_event_closure('figure_leave')\n    );\n\n    canvas_div.addEventListener('wheel', function (event) {\n        if (event.deltaY < 0) {\n            event.step = 1;\n        } else {\n            event.step = -1;\n        }\n        on_mouse_event_closure('scroll')(event);\n    });\n\n    canvas_div.appendChild(canvas);\n    canvas_div.appendChild(rubberband_canvas);\n\n    this.rubberband_context = rubberband_canvas.getContext('2d');\n    this.rubberband_context.strokeStyle = '#000000';\n\n    this._resize_canvas = function (width, height, forward) {\n        if (forward) {\n            canvas_div.style.width = width + 'px';\n            canvas_div.style.height = height + 'px';\n        }\n    };\n\n    // Disable right mouse context menu.\n    canvas_div.addEventListener('contextmenu', function (_e) {\n        event.preventDefault();\n        return false;\n    });\n\n    function set_focus() {\n        canvas.focus();\n        canvas_div.focus();\n    }\n\n    window.setTimeout(set_focus, 100);\n};\n\nmpl.figure.prototype._init_toolbar = function () {\n    var fig = this;\n\n    var toolbar = document.createElement('div');\n    toolbar.classList = 'mpl-toolbar';\n    this.root.appendChild(toolbar);\n\n    function on_click_closure(name) {\n        return function (_event) {\n            return fig.toolbar_button_onclick(name);\n        };\n    }\n\n    function on_mouseover_closure(tooltip) {\n        return function (event) {\n            if (!event.currentTarget.disabled) {\n                return fig.toolbar_button_onmouseover(tooltip);\n            }\n        };\n    }\n\n    fig.buttons = {};\n    var buttonGroup = document.createElement('div');\n    buttonGroup.classList = 'mpl-button-group';\n    for (var toolbar_ind in mpl.toolbar_items) {\n        var name = mpl.toolbar_items[toolbar_ind][0];\n        var tooltip = mpl.toolbar_items[toolbar_ind][1];\n        var image = mpl.toolbar_items[toolbar_ind][2];\n        var method_name = mpl.toolbar_items[toolbar_ind][3];\n\n        if (!name) {\n            /* Instead of a spacer, we start a new button group. */\n            if (buttonGroup.hasChildNodes()) {\n                toolbar.appendChild(buttonGroup);\n            }\n            buttonGroup = document.createElement('div');\n            buttonGroup.classList = 'mpl-button-group';\n            continue;\n        }\n\n        var button = (fig.buttons[name] = document.createElement('button'));\n        button.classList = 'mpl-widget';\n        button.setAttribute('role', 'button');\n        button.setAttribute('aria-disabled', 'false');\n        button.addEventListener('click', on_click_closure(method_name));\n        button.addEventListener('mouseover', on_mouseover_closure(tooltip));\n\n        var icon_img = document.createElement('img');\n        icon_img.src = '_images/' + image + '.png';\n        icon_img.srcset = '_images/' + image + '_large.png 2x';\n        icon_img.alt = tooltip;\n        button.appendChild(icon_img);\n\n        buttonGroup.appendChild(button);\n    }\n\n    if (buttonGroup.hasChildNodes()) {\n        toolbar.appendChild(buttonGroup);\n    }\n\n    var fmt_picker = document.createElement('select');\n    fmt_picker.classList = 'mpl-widget';\n    toolbar.appendChild(fmt_picker);\n    this.format_dropdown = fmt_picker;\n\n    for (var ind in mpl.extensions) {\n        var fmt = mpl.extensions[ind];\n        var option = document.createElement('option');\n        option.selected = fmt === mpl.default_extension;\n        option.innerHTML = fmt;\n        fmt_picker.appendChild(option);\n    }\n\n    var status_bar = document.createElement('span');\n    status_bar.classList = 'mpl-message';\n    toolbar.appendChild(status_bar);\n    this.message = status_bar;\n};\n\nmpl.figure.prototype.request_resize = function (x_pixels, y_pixels) {\n    // Request matplotlib to resize the figure. Matplotlib will then trigger a resize in the client,\n    // which will in turn request a refresh of the image.\n    this.send_message('resize', { width: x_pixels, height: y_pixels });\n};\n\nmpl.figure.prototype.send_message = function (type, properties) {\n    properties['type'] = type;\n    properties['figure_id'] = this.id;\n    this.ws.send(JSON.stringify(properties));\n};\n\nmpl.figure.prototype.send_draw_message = function () {\n    if (!this.waiting) {\n        this.waiting = true;\n        this.ws.send(JSON.stringify({ type: 'draw', figure_id: this.id }));\n    }\n};\n\nmpl.figure.prototype.handle_save = function (fig, _msg) {\n    var format_dropdown = fig.format_dropdown;\n    var format = format_dropdown.options[format_dropdown.selectedIndex].value;\n    fig.ondownload(fig, format);\n};\n\nmpl.figure.prototype.handle_resize = function (fig, msg) {\n    var size = msg['size'];\n    if (size[0] !== fig.canvas.width || size[1] !== fig.canvas.height) {\n        fig._resize_canvas(size[0], size[1], msg['forward']);\n        fig.send_message('refresh', {});\n    }\n};\n\nmpl.figure.prototype.handle_rubberband = function (fig, msg) {\n    var x0 = msg['x0'] / fig.ratio;\n    var y0 = (fig.canvas.height - msg['y0']) / fig.ratio;\n    var x1 = msg['x1'] / fig.ratio;\n    var y1 = (fig.canvas.height - msg['y1']) / fig.ratio;\n    x0 = Math.floor(x0) + 0.5;\n    y0 = Math.floor(y0) + 0.5;\n    x1 = Math.floor(x1) + 0.5;\n    y1 = Math.floor(y1) + 0.5;\n    var min_x = Math.min(x0, x1);\n    var min_y = Math.min(y0, y1);\n    var width = Math.abs(x1 - x0);\n    var height = Math.abs(y1 - y0);\n\n    fig.rubberband_context.clearRect(\n        0,\n        0,\n        fig.canvas.width / fig.ratio,\n        fig.canvas.height / fig.ratio\n    );\n\n    fig.rubberband_context.strokeRect(min_x, min_y, width, height);\n};\n\nmpl.figure.prototype.handle_figure_label = function (fig, msg) {\n    // Updates the figure title.\n    fig.header.textContent = msg['label'];\n};\n\nmpl.figure.prototype.handle_cursor = function (fig, msg) {\n    fig.canvas_div.style.cursor = msg['cursor'];\n};\n\nmpl.figure.prototype.handle_message = function (fig, msg) {\n    fig.message.textContent = msg['message'];\n};\n\nmpl.figure.prototype.handle_draw = function (fig, _msg) {\n    // Request the server to send over a new figure.\n    fig.send_draw_message();\n};\n\nmpl.figure.prototype.handle_image_mode = function (fig, msg) {\n    fig.image_mode = msg['mode'];\n};\n\nmpl.figure.prototype.handle_history_buttons = function (fig, msg) {\n    for (var key in msg) {\n        if (!(key in fig.buttons)) {\n            continue;\n        }\n        fig.buttons[key].disabled = !msg[key];\n        fig.buttons[key].setAttribute('aria-disabled', !msg[key]);\n    }\n};\n\nmpl.figure.prototype.handle_navigate_mode = function (fig, msg) {\n    if (msg['mode'] === 'PAN') {\n        fig.buttons['Pan'].classList.add('active');\n        fig.buttons['Zoom'].classList.remove('active');\n    } else if (msg['mode'] === 'ZOOM') {\n        fig.buttons['Pan'].classList.remove('active');\n        fig.buttons['Zoom'].classList.add('active');\n    } else {\n        fig.buttons['Pan'].classList.remove('active');\n        fig.buttons['Zoom'].classList.remove('active');\n    }\n};\n\nmpl.figure.prototype.updated_canvas_event = function () {\n    // Called whenever the canvas gets updated.\n    this.send_message('ack', {});\n};\n\n// A function to construct a web socket function for onmessage handling.\n// Called in the figure constructor.\nmpl.figure.prototype._make_on_message_function = function (fig) {\n    return function socket_on_message(evt) {\n        if (evt.data instanceof Blob) {\n            var img = evt.data;\n            if (img.type !== 'image/png') {\n                /* FIXME: We get \"Resource interpreted as Image but\n                 * transferred with MIME type text/plain:\" errors on\n                 * Chrome.  But how to set the MIME type?  It doesn't seem\n                 * to be part of the websocket stream */\n                img.type = 'image/png';\n            }\n\n            /* Free the memory for the previous frames */\n            if (fig.imageObj.src) {\n                (window.URL || window.webkitURL).revokeObjectURL(\n                    fig.imageObj.src\n                );\n            }\n\n            fig.imageObj.src = (window.URL || window.webkitURL).createObjectURL(\n                img\n            );\n            fig.updated_canvas_event();\n            fig.waiting = false;\n            return;\n        } else if (\n            typeof evt.data === 'string' &&\n            evt.data.slice(0, 21) === 'data:image/png;base64'\n        ) {\n            fig.imageObj.src = evt.data;\n            fig.updated_canvas_event();\n            fig.waiting = false;\n            return;\n        }\n\n        var msg = JSON.parse(evt.data);\n        var msg_type = msg['type'];\n\n        // Call the  \"handle_{type}\" callback, which takes\n        // the figure and JSON message as its only arguments.\n        try {\n            var callback = fig['handle_' + msg_type];\n        } catch (e) {\n            console.log(\n                \"No handler for the '\" + msg_type + \"' message type: \",\n                msg\n            );\n            return;\n        }\n\n        if (callback) {\n            try {\n                // console.log(\"Handling '\" + msg_type + \"' message: \", msg);\n                callback(fig, msg);\n            } catch (e) {\n                console.log(\n                    \"Exception inside the 'handler_\" + msg_type + \"' callback:\",\n                    e,\n                    e.stack,\n                    msg\n                );\n            }\n        }\n    };\n};\n\n\n/*\n * return a copy of an object with only non-object keys\n * we need this to avoid circular references\n * https://stackoverflow.com/a/24161582/3208463\n */\nfunction simpleKeys(original) {\n    return Object.keys(original).reduce(function (obj, key) {\n        if (typeof original[key] !== 'object') {\n            obj[key] = original[key];\n        }\n        return obj;\n    }, {});\n}\n\nmpl.figure.prototype.mouse_event = function (event, name) {\n    if (name === 'button_press') {\n        this.canvas.focus();\n        this.canvas_div.focus();\n    }\n\n    // from https://stackoverflow.com/q/1114465\n    var boundingRect = this.canvas.getBoundingClientRect();\n    var x = (event.clientX - boundingRect.left) * this.ratio;\n    var y = (event.clientY - boundingRect.top) * this.ratio;\n\n    this.send_message(name, {\n        x: x,\n        y: y,\n        button: event.button,\n        step: event.step,\n        guiEvent: simpleKeys(event),\n    });\n\n    return false;\n};\n\nmpl.figure.prototype._key_event_extra = function (_event, _name) {\n    // Handle any extra behaviour associated with a key event\n};\n\nmpl.figure.prototype.key_event = function (event, name) {\n    // Prevent repeat events\n    if (name === 'key_press') {\n        if (event.key === this._key) {\n            return;\n        } else {\n            this._key = event.key;\n        }\n    }\n    if (name === 'key_release') {\n        this._key = null;\n    }\n\n    var value = '';\n    if (event.ctrlKey && event.key !== 'Control') {\n        value += 'ctrl+';\n    }\n    else if (event.altKey && event.key !== 'Alt') {\n        value += 'alt+';\n    }\n    else if (event.shiftKey && event.key !== 'Shift') {\n        value += 'shift+';\n    }\n\n    value += 'k' + event.key;\n\n    this._key_event_extra(event, name);\n\n    this.send_message(name, { key: value, guiEvent: simpleKeys(event) });\n    return false;\n};\n\nmpl.figure.prototype.toolbar_button_onclick = function (name) {\n    if (name === 'download') {\n        this.handle_save(this, null);\n    } else {\n        this.send_message('toolbar_button', { name: name });\n    }\n};\n\nmpl.figure.prototype.toolbar_button_onmouseover = function (tooltip) {\n    this.message.textContent = tooltip;\n};\n\n///////////////// REMAINING CONTENT GENERATED BY embed_js.py /////////////////\n// prettier-ignore\nvar _JSXTOOLS_RESIZE_OBSERVER=function(A){var t,i=new WeakMap,n=new WeakMap,a=new WeakMap,r=new WeakMap,o=new Set;function s(e){if(!(this instanceof s))throw new TypeError(\"Constructor requires 'new' operator\");i.set(this,e)}function h(){throw new TypeError(\"Function is not a constructor\")}function c(e,t,i,n){e=0 in arguments?Number(arguments[0]):0,t=1 in arguments?Number(arguments[1]):0,i=2 in arguments?Number(arguments[2]):0,n=3 in arguments?Number(arguments[3]):0,this.right=(this.x=this.left=e)+(this.width=i),this.bottom=(this.y=this.top=t)+(this.height=n),Object.freeze(this)}function d(){t=requestAnimationFrame(d);var s=new WeakMap,p=new Set;o.forEach((function(t){r.get(t).forEach((function(i){var r=t instanceof window.SVGElement,o=a.get(t),d=r?0:parseFloat(o.paddingTop),f=r?0:parseFloat(o.paddingRight),l=r?0:parseFloat(o.paddingBottom),u=r?0:parseFloat(o.paddingLeft),g=r?0:parseFloat(o.borderTopWidth),m=r?0:parseFloat(o.borderRightWidth),w=r?0:parseFloat(o.borderBottomWidth),b=u+f,F=d+l,v=(r?0:parseFloat(o.borderLeftWidth))+m,W=g+w,y=r?0:t.offsetHeight-W-t.clientHeight,E=r?0:t.offsetWidth-v-t.clientWidth,R=b+v,z=F+W,M=r?t.width:parseFloat(o.width)-R-E,O=r?t.height:parseFloat(o.height)-z-y;if(n.has(t)){var k=n.get(t);if(k[0]===M&&k[1]===O)return}n.set(t,[M,O]);var S=Object.create(h.prototype);S.target=t,S.contentRect=new c(u,d,M,O),s.has(i)||(s.set(i,[]),p.add(i)),s.get(i).push(S)}))})),p.forEach((function(e){i.get(e).call(e,s.get(e),e)}))}return s.prototype.observe=function(i){if(i instanceof window.Element){r.has(i)||(r.set(i,new Set),o.add(i),a.set(i,window.getComputedStyle(i)));var n=r.get(i);n.has(this)||n.add(this),cancelAnimationFrame(t),t=requestAnimationFrame(d)}},s.prototype.unobserve=function(i){if(i instanceof window.Element&&r.has(i)){var n=r.get(i);n.has(this)&&(n.delete(this),n.size||(r.delete(i),o.delete(i))),n.size||r.delete(i),o.size||cancelAnimationFrame(t)}},A.DOMRectReadOnly=c,A.ResizeObserver=s,A.ResizeObserverEntry=h,A}; // eslint-disable-line\nmpl.toolbar_items = [[\"Home\", \"Reset original view\", \"fa fa-home\", \"home\"], [\"Back\", \"Back to previous view\", \"fa fa-arrow-left\", \"back\"], [\"Forward\", \"Forward to next view\", \"fa fa-arrow-right\", \"forward\"], [\"\", \"\", \"\", \"\"], [\"Pan\", \"Left button pans, Right button zooms\\nx/y fixes axis, CTRL fixes aspect\", \"fa fa-arrows\", \"pan\"], [\"Zoom\", \"Zoom to rectangle\\nx/y fixes axis\", \"fa fa-square-o\", \"zoom\"], [\"\", \"\", \"\", \"\"], [\"Download\", \"Download plot\", \"fa fa-floppy-o\", \"download\"]];\n\nmpl.extensions = [\"eps\", \"jpeg\", \"pgf\", \"pdf\", \"png\", \"ps\", \"raw\", \"svg\", \"tif\", \"webp\"];\n\nmpl.default_extension = \"png\";/* global mpl */\n\nvar comm_websocket_adapter = function (comm) {\n    // Create a \"websocket\"-like object which calls the given IPython comm\n    // object with the appropriate methods. Currently this is a non binary\n    // socket, so there is still some room for performance tuning.\n    var ws = {};\n\n    ws.binaryType = comm.kernel.ws.binaryType;\n    ws.readyState = comm.kernel.ws.readyState;\n    function updateReadyState(_event) {\n        if (comm.kernel.ws) {\n            ws.readyState = comm.kernel.ws.readyState;\n        } else {\n            ws.readyState = 3; // Closed state.\n        }\n    }\n    comm.kernel.ws.addEventListener('open', updateReadyState);\n    comm.kernel.ws.addEventListener('close', updateReadyState);\n    comm.kernel.ws.addEventListener('error', updateReadyState);\n\n    ws.close = function () {\n        comm.close();\n    };\n    ws.send = function (m) {\n        //console.log('sending', m);\n        comm.send(m);\n    };\n    // Register the callback with on_msg.\n    comm.on_msg(function (msg) {\n        //console.log('receiving', msg['content']['data'], msg);\n        var data = msg['content']['data'];\n        if (data['blob'] !== undefined) {\n            data = {\n                data: new Blob(msg['buffers'], { type: data['blob'] }),\n            };\n        }\n        // Pass the mpl event to the overridden (by mpl) onmessage function.\n        ws.onmessage(data);\n    });\n    return ws;\n};\n\nmpl.mpl_figure_comm = function (comm, msg) {\n    // This is the function which gets called when the mpl process\n    // starts-up an IPython Comm through the \"matplotlib\" channel.\n\n    var id = msg.content.data.id;\n    // Get hold of the div created by the display call when the Comm\n    // socket was opened in Python.\n    var element = document.getElementById(id);\n    var ws_proxy = comm_websocket_adapter(comm);\n\n    function ondownload(figure, _format) {\n        window.open(figure.canvas.toDataURL());\n    }\n\n    var fig = new mpl.figure(id, ws_proxy, ondownload, element);\n\n    // Call onopen now - mpl needs it, as it is assuming we've passed it a real\n    // web socket which is closed, not our websocket->open comm proxy.\n    ws_proxy.onopen();\n\n    fig.parent_element = element;\n    fig.cell_info = mpl.find_output_cell(\"<div id='\" + id + \"'></div>\");\n    if (!fig.cell_info) {\n        console.error('Failed to find cell for figure', id, fig);\n        return;\n    }\n    fig.cell_info[0].output_area.element.on(\n        'cleared',\n        { fig: fig },\n        fig._remove_fig_handler\n    );\n};\n\nmpl.figure.prototype.handle_close = function (fig, msg) {\n    var width = fig.canvas.width / fig.ratio;\n    fig.cell_info[0].output_area.element.off(\n        'cleared',\n        fig._remove_fig_handler\n    );\n    fig.resizeObserverInstance.unobserve(fig.canvas_div);\n\n    // Update the output cell to use the data from the current canvas.\n    fig.push_to_output();\n    var dataURL = fig.canvas.toDataURL();\n    // Re-enable the keyboard manager in IPython - without this line, in FF,\n    // the notebook keyboard shortcuts fail.\n    IPython.keyboard_manager.enable();\n    fig.parent_element.innerHTML =\n        '<img src=\"' + dataURL + '\" width=\"' + width + '\">';\n    fig.close_ws(fig, msg);\n};\n\nmpl.figure.prototype.close_ws = function (fig, msg) {\n    fig.send_message('closing', msg);\n    // fig.ws.close()\n};\n\nmpl.figure.prototype.push_to_output = function (_remove_interactive) {\n    // Turn the data on the canvas into data in the output cell.\n    var width = this.canvas.width / this.ratio;\n    var dataURL = this.canvas.toDataURL();\n    this.cell_info[1]['text/html'] =\n        '<img src=\"' + dataURL + '\" width=\"' + width + '\">';\n};\n\nmpl.figure.prototype.updated_canvas_event = function () {\n    // Tell IPython that the notebook contents must change.\n    IPython.notebook.set_dirty(true);\n    this.send_message('ack', {});\n    var fig = this;\n    // Wait a second, then push the new image to the DOM so\n    // that it is saved nicely (might be nice to debounce this).\n    setTimeout(function () {\n        fig.push_to_output();\n    }, 1000);\n};\n\nmpl.figure.prototype._init_toolbar = function () {\n    var fig = this;\n\n    var toolbar = document.createElement('div');\n    toolbar.classList = 'btn-toolbar';\n    this.root.appendChild(toolbar);\n\n    function on_click_closure(name) {\n        return function (_event) {\n            return fig.toolbar_button_onclick(name);\n        };\n    }\n\n    function on_mouseover_closure(tooltip) {\n        return function (event) {\n            if (!event.currentTarget.disabled) {\n                return fig.toolbar_button_onmouseover(tooltip);\n            }\n        };\n    }\n\n    fig.buttons = {};\n    var buttonGroup = document.createElement('div');\n    buttonGroup.classList = 'btn-group';\n    var button;\n    for (var toolbar_ind in mpl.toolbar_items) {\n        var name = mpl.toolbar_items[toolbar_ind][0];\n        var tooltip = mpl.toolbar_items[toolbar_ind][1];\n        var image = mpl.toolbar_items[toolbar_ind][2];\n        var method_name = mpl.toolbar_items[toolbar_ind][3];\n\n        if (!name) {\n            /* Instead of a spacer, we start a new button group. */\n            if (buttonGroup.hasChildNodes()) {\n                toolbar.appendChild(buttonGroup);\n            }\n            buttonGroup = document.createElement('div');\n            buttonGroup.classList = 'btn-group';\n            continue;\n        }\n\n        button = fig.buttons[name] = document.createElement('button');\n        button.classList = 'btn btn-default';\n        button.href = '#';\n        button.title = name;\n        button.innerHTML = '<i class=\"fa ' + image + ' fa-lg\"></i>';\n        button.addEventListener('click', on_click_closure(method_name));\n        button.addEventListener('mouseover', on_mouseover_closure(tooltip));\n        buttonGroup.appendChild(button);\n    }\n\n    if (buttonGroup.hasChildNodes()) {\n        toolbar.appendChild(buttonGroup);\n    }\n\n    // Add the status bar.\n    var status_bar = document.createElement('span');\n    status_bar.classList = 'mpl-message pull-right';\n    toolbar.appendChild(status_bar);\n    this.message = status_bar;\n\n    // Add the close button to the window.\n    var buttongrp = document.createElement('div');\n    buttongrp.classList = 'btn-group inline pull-right';\n    button = document.createElement('button');\n    button.classList = 'btn btn-mini btn-primary';\n    button.href = '#';\n    button.title = 'Stop Interaction';\n    button.innerHTML = '<i class=\"fa fa-power-off icon-remove icon-large\"></i>';\n    button.addEventListener('click', function (_evt) {\n        fig.handle_close(fig, {});\n    });\n    button.addEventListener(\n        'mouseover',\n        on_mouseover_closure('Stop Interaction')\n    );\n    buttongrp.appendChild(button);\n    var titlebar = this.root.querySelector('.ui-dialog-titlebar');\n    titlebar.insertBefore(buttongrp, titlebar.firstChild);\n};\n\nmpl.figure.prototype._remove_fig_handler = function (event) {\n    var fig = event.data.fig;\n    if (event.target !== this) {\n        // Ignore bubbled events from children.\n        return;\n    }\n    fig.close_ws(fig, {});\n};\n\nmpl.figure.prototype._root_extra_style = function (el) {\n    el.style.boxSizing = 'content-box'; // override notebook setting of border-box.\n};\n\nmpl.figure.prototype._canvas_extra_style = function (el) {\n    // this is important to make the div 'focusable\n    el.setAttribute('tabindex', 0);\n    // reach out to IPython and tell the keyboard manager to turn it's self\n    // off when our div gets focus\n\n    // location in version 3\n    if (IPython.notebook.keyboard_manager) {\n        IPython.notebook.keyboard_manager.register_events(el);\n    } else {\n        // location in version 2\n        IPython.keyboard_manager.register_events(el);\n    }\n};\n\nmpl.figure.prototype._key_event_extra = function (event, _name) {\n    // Check for shift+enter\n    if (event.shiftKey && event.which === 13) {\n        this.canvas_div.blur();\n        // select the cell after this one\n        var index = IPython.notebook.find_cell_index(this.cell_info[0]);\n        IPython.notebook.select(index + 1);\n    }\n};\n\nmpl.figure.prototype.handle_save = function (fig, _msg) {\n    fig.ondownload(fig, null);\n};\n\nmpl.find_output_cell = function (html_output) {\n    // Return the cell and output element which can be found *uniquely* in the notebook.\n    // Note - this is a bit hacky, but it is done because the \"notebook_saving.Notebook\"\n    // IPython event is triggered only after the cells have been serialised, which for\n    // our purposes (turning an active figure into a static one), is too late.\n    var cells = IPython.notebook.get_cells();\n    var ncells = cells.length;\n    for (var i = 0; i < ncells; i++) {\n        var cell = cells[i];\n        if (cell.cell_type === 'code') {\n            for (var j = 0; j < cell.output_area.outputs.length; j++) {\n                var data = cell.output_area.outputs[j];\n                if (data.data) {\n                    // IPython >= 3 moved mimebundle to data attribute of output\n                    data = data.data;\n                }\n                if (data['text/html'] === html_output) {\n                    return [cell, data, j];\n                }\n            }\n        }\n    }\n};\n\n// Register the function which deals with the matplotlib target/channel.\n// The kernel may be null if the page has been refreshed.\nif (IPython.notebook.kernel !== null) {\n    IPython.notebook.kernel.comm_manager.register_target(\n        'matplotlib',\n        mpl.mpl_figure_comm\n    );\n}\n",
      "text/plain": [
       "<IPython.core.display.Javascript object>"
      ]
     },
     "metadata": {},
     "output_type": "display_data"
    },
    {
     "data": {
      "text/html": [
       "<img src=\"data:image/png;base64,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\" width=\"640\">"
      ],
      "text/plain": [
       "<IPython.core.display.HTML object>"
      ]
     },
     "metadata": {},
     "output_type": "display_data"
    },
    {
     "name": "stdout",
     "output_type": "stream",
     "text": [
      "収束までの繰り返し回数: 21\n",
      "極小値:x= 0.04611686018427388\n"
     ]
    },
    {
     "data": {
      "text/plain": [
       "[]"
      ]
     },
     "execution_count": 1,
     "metadata": {},
     "output_type": "execute_result"
    }
   ],
   "source": [
    "%matplotlib notebook\n",
    "import numpy as np\n",
    "import matplotlib.pyplot as plt\n",
    "from matplotlib import animation\n",
    "\n",
    "#x^2の関数\n",
    "def f(x):\n",
    "    return x**2\n",
    "#x^2の1階微分\n",
    "def diff_f(x):\n",
    "    return 2*x\n",
    "\n",
    "t=np.linspace(-5,5,1000)\n",
    "fig, ax = plt.subplots()\n",
    "ax.plot(t,f(t), color='blue') # グラフを作成\n",
    "ims = []\n",
    "\n",
    "x=5 #xの初期値\n",
    "epsilon=0.01 #収束判定\n",
    "eta=0.1 #学習率\n",
    "\n",
    "i=0\n",
    "while abs(diff_f(x)*eta)>epsilon:\n",
    "    \n",
    "    img = ax.plot(x,f(x),'*',markersize=10, color='red')\n",
    "    img2=ax.text(-0.5, 27,f\"n={i}\")\n",
    "    ims.append(img+[img2]) # グラフを配列に追加\n",
    "    \n",
    "    #ここに更新式を書く\n",
    "    x=x-eta*diff_f(x)\n",
    "    i+=1\n",
    "print(\"収束までの繰り返し回数:\",i)\n",
    "print(\"極小値:x=\",x)\n",
    "ani = animation.ArtistAnimation(fig, ims, interval=100)\n",
    "#ani.save('x^2.gif', writer='imagemagick')\n",
    "plt.plot()"
   ]
  },
  {
   "attachments": {},
   "cell_type": "markdown",
   "metadata": {},
   "source": [
    "### 課題1 再急降下法の実装\n",
    "上記のコードを参考に，$f(x)=x^4-20x^2+30x+20$についても最急降下法を試してみよう．"
   ]
  },
  {
   "cell_type": "code",
   "execution_count": 2,
   "metadata": {},
   "outputs": [
    {
     "data": {
      "application/javascript": "/* Put everything inside the global mpl namespace */\n/* global mpl */\nwindow.mpl = {};\n\nmpl.get_websocket_type = function () {\n    if (typeof WebSocket !== 'undefined') {\n        return WebSocket;\n    } else if (typeof MozWebSocket !== 'undefined') {\n        return MozWebSocket;\n    } else {\n        alert(\n            'Your browser does not have WebSocket support. ' +\n                'Please try Chrome, Safari or Firefox ≥ 6. ' +\n                'Firefox 4 and 5 are also supported but you ' +\n                'have to enable WebSockets in about:config.'\n        );\n    }\n};\n\nmpl.figure = function (figure_id, websocket, ondownload, parent_element) {\n    this.id = figure_id;\n\n    this.ws = websocket;\n\n    this.supports_binary = this.ws.binaryType !== undefined;\n\n    if (!this.supports_binary) {\n        var warnings = document.getElementById('mpl-warnings');\n        if (warnings) {\n            warnings.style.display = 'block';\n            warnings.textContent =\n                'This browser does not support binary websocket messages. ' +\n                'Performance may be slow.';\n        }\n    }\n\n    this.imageObj = new Image();\n\n    this.context = undefined;\n    this.message = undefined;\n    this.canvas = undefined;\n    this.rubberband_canvas = undefined;\n    this.rubberband_context = undefined;\n    this.format_dropdown = undefined;\n\n    this.image_mode = 'full';\n\n    this.root = document.createElement('div');\n    this.root.setAttribute('style', 'display: inline-block');\n    this._root_extra_style(this.root);\n\n    parent_element.appendChild(this.root);\n\n    this._init_header(this);\n    this._init_canvas(this);\n    this._init_toolbar(this);\n\n    var fig = this;\n\n    this.waiting = false;\n\n    this.ws.onopen = function () {\n        fig.send_message('supports_binary', { value: fig.supports_binary });\n        fig.send_message('send_image_mode', {});\n        if (fig.ratio !== 1) {\n            fig.send_message('set_device_pixel_ratio', {\n                device_pixel_ratio: fig.ratio,\n            });\n        }\n        fig.send_message('refresh', {});\n    };\n\n    this.imageObj.onload = function () {\n        if (fig.image_mode === 'full') {\n            // Full images could contain transparency (where diff images\n            // almost always do), so we need to clear the canvas so that\n            // there is no ghosting.\n            fig.context.clearRect(0, 0, fig.canvas.width, fig.canvas.height);\n        }\n        fig.context.drawImage(fig.imageObj, 0, 0);\n    };\n\n    this.imageObj.onunload = function () {\n        fig.ws.close();\n    };\n\n    this.ws.onmessage = this._make_on_message_function(this);\n\n    this.ondownload = ondownload;\n};\n\nmpl.figure.prototype._init_header = function () {\n    var titlebar = document.createElement('div');\n    titlebar.classList =\n        'ui-dialog-titlebar ui-widget-header ui-corner-all ui-helper-clearfix';\n    var titletext = document.createElement('div');\n    titletext.classList = 'ui-dialog-title';\n    titletext.setAttribute(\n        'style',\n        'width: 100%; text-align: center; padding: 3px;'\n    );\n    titlebar.appendChild(titletext);\n    this.root.appendChild(titlebar);\n    this.header = titletext;\n};\n\nmpl.figure.prototype._canvas_extra_style = function (_canvas_div) {};\n\nmpl.figure.prototype._root_extra_style = function (_canvas_div) {};\n\nmpl.figure.prototype._init_canvas = function () {\n    var fig = this;\n\n    var canvas_div = (this.canvas_div = document.createElement('div'));\n    canvas_div.setAttribute('tabindex', '0');\n    canvas_div.setAttribute(\n        'style',\n        'border: 1px solid #ddd;' +\n            'box-sizing: content-box;' +\n            'clear: both;' +\n            'min-height: 1px;' +\n            'min-width: 1px;' +\n            'outline: 0;' +\n            'overflow: hidden;' +\n            'position: relative;' +\n            'resize: both;' +\n            'z-index: 2;'\n    );\n\n    function on_keyboard_event_closure(name) {\n        return function (event) {\n            return fig.key_event(event, name);\n        };\n    }\n\n    canvas_div.addEventListener(\n        'keydown',\n        on_keyboard_event_closure('key_press')\n    );\n    canvas_div.addEventListener(\n        'keyup',\n        on_keyboard_event_closure('key_release')\n    );\n\n    this._canvas_extra_style(canvas_div);\n    this.root.appendChild(canvas_div);\n\n    var canvas = (this.canvas = document.createElement('canvas'));\n    canvas.classList.add('mpl-canvas');\n    canvas.setAttribute(\n        'style',\n        'box-sizing: content-box;' +\n            'pointer-events: none;' +\n            'position: relative;' +\n            'z-index: 0;'\n    );\n\n    this.context = canvas.getContext('2d');\n\n    var backingStore =\n        this.context.backingStorePixelRatio ||\n        this.context.webkitBackingStorePixelRatio ||\n        this.context.mozBackingStorePixelRatio ||\n        this.context.msBackingStorePixelRatio ||\n        this.context.oBackingStorePixelRatio ||\n        this.context.backingStorePixelRatio ||\n        1;\n\n    this.ratio = (window.devicePixelRatio || 1) / backingStore;\n\n    var rubberband_canvas = (this.rubberband_canvas = document.createElement(\n        'canvas'\n    ));\n    rubberband_canvas.setAttribute(\n        'style',\n        'box-sizing: content-box;' +\n            'left: 0;' +\n            'pointer-events: none;' +\n            'position: absolute;' +\n            'top: 0;' +\n            'z-index: 1;'\n    );\n\n    // Apply a ponyfill if ResizeObserver is not implemented by browser.\n    if (this.ResizeObserver === undefined) {\n        if (window.ResizeObserver !== undefined) {\n            this.ResizeObserver = window.ResizeObserver;\n        } else {\n            var obs = _JSXTOOLS_RESIZE_OBSERVER({});\n            this.ResizeObserver = obs.ResizeObserver;\n        }\n    }\n\n    this.resizeObserverInstance = new this.ResizeObserver(function (entries) {\n        var nentries = entries.length;\n        for (var i = 0; i < nentries; i++) {\n            var entry = entries[i];\n            var width, height;\n            if (entry.contentBoxSize) {\n                if (entry.contentBoxSize instanceof Array) {\n                    // Chrome 84 implements new version of spec.\n                    width = entry.contentBoxSize[0].inlineSize;\n                    height = entry.contentBoxSize[0].blockSize;\n                } else {\n                    // Firefox implements old version of spec.\n                    width = entry.contentBoxSize.inlineSize;\n                    height = entry.contentBoxSize.blockSize;\n                }\n            } else {\n                // Chrome <84 implements even older version of spec.\n                width = entry.contentRect.width;\n                height = entry.contentRect.height;\n            }\n\n            // Keep the size of the canvas and rubber band canvas in sync with\n            // the canvas container.\n            if (entry.devicePixelContentBoxSize) {\n                // Chrome 84 implements new version of spec.\n                canvas.setAttribute(\n                    'width',\n                    entry.devicePixelContentBoxSize[0].inlineSize\n                );\n                canvas.setAttribute(\n                    'height',\n                    entry.devicePixelContentBoxSize[0].blockSize\n                );\n            } else {\n                canvas.setAttribute('width', width * fig.ratio);\n                canvas.setAttribute('height', height * fig.ratio);\n            }\n            /* This rescales the canvas back to display pixels, so that it\n             * appears correct on HiDPI screens. */\n            canvas.style.width = width + 'px';\n            canvas.style.height = height + 'px';\n\n            rubberband_canvas.setAttribute('width', width);\n            rubberband_canvas.setAttribute('height', height);\n\n            // And update the size in Python. We ignore the initial 0/0 size\n            // that occurs as the element is placed into the DOM, which should\n            // otherwise not happen due to the minimum size styling.\n            if (fig.ws.readyState == 1 && width != 0 && height != 0) {\n                fig.request_resize(width, height);\n            }\n        }\n    });\n    this.resizeObserverInstance.observe(canvas_div);\n\n    function on_mouse_event_closure(name) {\n        /* User Agent sniffing is bad, but WebKit is busted:\n         * https://bugs.webkit.org/show_bug.cgi?id=144526\n         * https://bugs.webkit.org/show_bug.cgi?id=181818\n         * The worst that happens here is that they get an extra browser\n         * selection when dragging, if this check fails to catch them.\n         */\n        var UA = navigator.userAgent;\n        var isWebKit = /AppleWebKit/.test(UA) && !/Chrome/.test(UA);\n        if(isWebKit) {\n            return function (event) {\n                /* This prevents the web browser from automatically changing to\n                 * the text insertion cursor when the button is pressed. We\n                 * want to control all of the cursor setting manually through\n                 * the 'cursor' event from matplotlib */\n                event.preventDefault()\n                return fig.mouse_event(event, name);\n            };\n        } else {\n            return function (event) {\n                return fig.mouse_event(event, name);\n            };\n        }\n    }\n\n    canvas_div.addEventListener(\n        'mousedown',\n        on_mouse_event_closure('button_press')\n    );\n    canvas_div.addEventListener(\n        'mouseup',\n        on_mouse_event_closure('button_release')\n    );\n    canvas_div.addEventListener(\n        'dblclick',\n        on_mouse_event_closure('dblclick')\n    );\n    // Throttle sequential mouse events to 1 every 20ms.\n    canvas_div.addEventListener(\n        'mousemove',\n        on_mouse_event_closure('motion_notify')\n    );\n\n    canvas_div.addEventListener(\n        'mouseenter',\n        on_mouse_event_closure('figure_enter')\n    );\n    canvas_div.addEventListener(\n        'mouseleave',\n        on_mouse_event_closure('figure_leave')\n    );\n\n    canvas_div.addEventListener('wheel', function (event) {\n        if (event.deltaY < 0) {\n            event.step = 1;\n        } else {\n            event.step = -1;\n        }\n        on_mouse_event_closure('scroll')(event);\n    });\n\n    canvas_div.appendChild(canvas);\n    canvas_div.appendChild(rubberband_canvas);\n\n    this.rubberband_context = rubberband_canvas.getContext('2d');\n    this.rubberband_context.strokeStyle = '#000000';\n\n    this._resize_canvas = function (width, height, forward) {\n        if (forward) {\n            canvas_div.style.width = width + 'px';\n            canvas_div.style.height = height + 'px';\n        }\n    };\n\n    // Disable right mouse context menu.\n    canvas_div.addEventListener('contextmenu', function (_e) {\n        event.preventDefault();\n        return false;\n    });\n\n    function set_focus() {\n        canvas.focus();\n        canvas_div.focus();\n    }\n\n    window.setTimeout(set_focus, 100);\n};\n\nmpl.figure.prototype._init_toolbar = function () {\n    var fig = this;\n\n    var toolbar = document.createElement('div');\n    toolbar.classList = 'mpl-toolbar';\n    this.root.appendChild(toolbar);\n\n    function on_click_closure(name) {\n        return function (_event) {\n            return fig.toolbar_button_onclick(name);\n        };\n    }\n\n    function on_mouseover_closure(tooltip) {\n        return function (event) {\n            if (!event.currentTarget.disabled) {\n                return fig.toolbar_button_onmouseover(tooltip);\n            }\n        };\n    }\n\n    fig.buttons = {};\n    var buttonGroup = document.createElement('div');\n    buttonGroup.classList = 'mpl-button-group';\n    for (var toolbar_ind in mpl.toolbar_items) {\n        var name = mpl.toolbar_items[toolbar_ind][0];\n        var tooltip = mpl.toolbar_items[toolbar_ind][1];\n        var image = mpl.toolbar_items[toolbar_ind][2];\n        var method_name = mpl.toolbar_items[toolbar_ind][3];\n\n        if (!name) {\n            /* Instead of a spacer, we start a new button group. */\n            if (buttonGroup.hasChildNodes()) {\n                toolbar.appendChild(buttonGroup);\n            }\n            buttonGroup = document.createElement('div');\n            buttonGroup.classList = 'mpl-button-group';\n            continue;\n        }\n\n        var button = (fig.buttons[name] = document.createElement('button'));\n        button.classList = 'mpl-widget';\n        button.setAttribute('role', 'button');\n        button.setAttribute('aria-disabled', 'false');\n        button.addEventListener('click', on_click_closure(method_name));\n        button.addEventListener('mouseover', on_mouseover_closure(tooltip));\n\n        var icon_img = document.createElement('img');\n        icon_img.src = '_images/' + image + '.png';\n        icon_img.srcset = '_images/' + image + '_large.png 2x';\n        icon_img.alt = tooltip;\n        button.appendChild(icon_img);\n\n        buttonGroup.appendChild(button);\n    }\n\n    if (buttonGroup.hasChildNodes()) {\n        toolbar.appendChild(buttonGroup);\n    }\n\n    var fmt_picker = document.createElement('select');\n    fmt_picker.classList = 'mpl-widget';\n    toolbar.appendChild(fmt_picker);\n    this.format_dropdown = fmt_picker;\n\n    for (var ind in mpl.extensions) {\n        var fmt = mpl.extensions[ind];\n        var option = document.createElement('option');\n        option.selected = fmt === mpl.default_extension;\n        option.innerHTML = fmt;\n        fmt_picker.appendChild(option);\n    }\n\n    var status_bar = document.createElement('span');\n    status_bar.classList = 'mpl-message';\n    toolbar.appendChild(status_bar);\n    this.message = status_bar;\n};\n\nmpl.figure.prototype.request_resize = function (x_pixels, y_pixels) {\n    // Request matplotlib to resize the figure. Matplotlib will then trigger a resize in the client,\n    // which will in turn request a refresh of the image.\n    this.send_message('resize', { width: x_pixels, height: y_pixels });\n};\n\nmpl.figure.prototype.send_message = function (type, properties) {\n    properties['type'] = type;\n    properties['figure_id'] = this.id;\n    this.ws.send(JSON.stringify(properties));\n};\n\nmpl.figure.prototype.send_draw_message = function () {\n    if (!this.waiting) {\n        this.waiting = true;\n        this.ws.send(JSON.stringify({ type: 'draw', figure_id: this.id }));\n    }\n};\n\nmpl.figure.prototype.handle_save = function (fig, _msg) {\n    var format_dropdown = fig.format_dropdown;\n    var format = format_dropdown.options[format_dropdown.selectedIndex].value;\n    fig.ondownload(fig, format);\n};\n\nmpl.figure.prototype.handle_resize = function (fig, msg) {\n    var size = msg['size'];\n    if (size[0] !== fig.canvas.width || size[1] !== fig.canvas.height) {\n        fig._resize_canvas(size[0], size[1], msg['forward']);\n        fig.send_message('refresh', {});\n    }\n};\n\nmpl.figure.prototype.handle_rubberband = function (fig, msg) {\n    var x0 = msg['x0'] / fig.ratio;\n    var y0 = (fig.canvas.height - msg['y0']) / fig.ratio;\n    var x1 = msg['x1'] / fig.ratio;\n    var y1 = (fig.canvas.height - msg['y1']) / fig.ratio;\n    x0 = Math.floor(x0) + 0.5;\n    y0 = Math.floor(y0) + 0.5;\n    x1 = Math.floor(x1) + 0.5;\n    y1 = Math.floor(y1) + 0.5;\n    var min_x = Math.min(x0, x1);\n    var min_y = Math.min(y0, y1);\n    var width = Math.abs(x1 - x0);\n    var height = Math.abs(y1 - y0);\n\n    fig.rubberband_context.clearRect(\n        0,\n        0,\n        fig.canvas.width / fig.ratio,\n        fig.canvas.height / fig.ratio\n    );\n\n    fig.rubberband_context.strokeRect(min_x, min_y, width, height);\n};\n\nmpl.figure.prototype.handle_figure_label = function (fig, msg) {\n    // Updates the figure title.\n    fig.header.textContent = msg['label'];\n};\n\nmpl.figure.prototype.handle_cursor = function (fig, msg) {\n    fig.canvas_div.style.cursor = msg['cursor'];\n};\n\nmpl.figure.prototype.handle_message = function (fig, msg) {\n    fig.message.textContent = msg['message'];\n};\n\nmpl.figure.prototype.handle_draw = function (fig, _msg) {\n    // Request the server to send over a new figure.\n    fig.send_draw_message();\n};\n\nmpl.figure.prototype.handle_image_mode = function (fig, msg) {\n    fig.image_mode = msg['mode'];\n};\n\nmpl.figure.prototype.handle_history_buttons = function (fig, msg) {\n    for (var key in msg) {\n        if (!(key in fig.buttons)) {\n            continue;\n        }\n        fig.buttons[key].disabled = !msg[key];\n        fig.buttons[key].setAttribute('aria-disabled', !msg[key]);\n    }\n};\n\nmpl.figure.prototype.handle_navigate_mode = function (fig, msg) {\n    if (msg['mode'] === 'PAN') {\n        fig.buttons['Pan'].classList.add('active');\n        fig.buttons['Zoom'].classList.remove('active');\n    } else if (msg['mode'] === 'ZOOM') {\n        fig.buttons['Pan'].classList.remove('active');\n        fig.buttons['Zoom'].classList.add('active');\n    } else {\n        fig.buttons['Pan'].classList.remove('active');\n        fig.buttons['Zoom'].classList.remove('active');\n    }\n};\n\nmpl.figure.prototype.updated_canvas_event = function () {\n    // Called whenever the canvas gets updated.\n    this.send_message('ack', {});\n};\n\n// A function to construct a web socket function for onmessage handling.\n// Called in the figure constructor.\nmpl.figure.prototype._make_on_message_function = function (fig) {\n    return function socket_on_message(evt) {\n        if (evt.data instanceof Blob) {\n            var img = evt.data;\n            if (img.type !== 'image/png') {\n                /* FIXME: We get \"Resource interpreted as Image but\n                 * transferred with MIME type text/plain:\" errors on\n                 * Chrome.  But how to set the MIME type?  It doesn't seem\n                 * to be part of the websocket stream */\n                img.type = 'image/png';\n            }\n\n            /* Free the memory for the previous frames */\n            if (fig.imageObj.src) {\n                (window.URL || window.webkitURL).revokeObjectURL(\n                    fig.imageObj.src\n                );\n            }\n\n            fig.imageObj.src = (window.URL || window.webkitURL).createObjectURL(\n                img\n            );\n            fig.updated_canvas_event();\n            fig.waiting = false;\n            return;\n        } else if (\n            typeof evt.data === 'string' &&\n            evt.data.slice(0, 21) === 'data:image/png;base64'\n        ) {\n            fig.imageObj.src = evt.data;\n            fig.updated_canvas_event();\n            fig.waiting = false;\n            return;\n        }\n\n        var msg = JSON.parse(evt.data);\n        var msg_type = msg['type'];\n\n        // Call the  \"handle_{type}\" callback, which takes\n        // the figure and JSON message as its only arguments.\n        try {\n            var callback = fig['handle_' + msg_type];\n        } catch (e) {\n            console.log(\n                \"No handler for the '\" + msg_type + \"' message type: \",\n                msg\n            );\n            return;\n        }\n\n        if (callback) {\n            try {\n                // console.log(\"Handling '\" + msg_type + \"' message: \", msg);\n                callback(fig, msg);\n            } catch (e) {\n                console.log(\n                    \"Exception inside the 'handler_\" + msg_type + \"' callback:\",\n                    e,\n                    e.stack,\n                    msg\n                );\n            }\n        }\n    };\n};\n\n\n/*\n * return a copy of an object with only non-object keys\n * we need this to avoid circular references\n * https://stackoverflow.com/a/24161582/3208463\n */\nfunction simpleKeys(original) {\n    return Object.keys(original).reduce(function (obj, key) {\n        if (typeof original[key] !== 'object') {\n            obj[key] = original[key];\n        }\n        return obj;\n    }, {});\n}\n\nmpl.figure.prototype.mouse_event = function (event, name) {\n    if (name === 'button_press') {\n        this.canvas.focus();\n        this.canvas_div.focus();\n    }\n\n    // from https://stackoverflow.com/q/1114465\n    var boundingRect = this.canvas.getBoundingClientRect();\n    var x = (event.clientX - boundingRect.left) * this.ratio;\n    var y = (event.clientY - boundingRect.top) * this.ratio;\n\n    this.send_message(name, {\n        x: x,\n        y: y,\n        button: event.button,\n        step: event.step,\n        guiEvent: simpleKeys(event),\n    });\n\n    return false;\n};\n\nmpl.figure.prototype._key_event_extra = function (_event, _name) {\n    // Handle any extra behaviour associated with a key event\n};\n\nmpl.figure.prototype.key_event = function (event, name) {\n    // Prevent repeat events\n    if (name === 'key_press') {\n        if (event.key === this._key) {\n            return;\n        } else {\n            this._key = event.key;\n        }\n    }\n    if (name === 'key_release') {\n        this._key = null;\n    }\n\n    var value = '';\n    if (event.ctrlKey && event.key !== 'Control') {\n        value += 'ctrl+';\n    }\n    else if (event.altKey && event.key !== 'Alt') {\n        value += 'alt+';\n    }\n    else if (event.shiftKey && event.key !== 'Shift') {\n        value += 'shift+';\n    }\n\n    value += 'k' + event.key;\n\n    this._key_event_extra(event, name);\n\n    this.send_message(name, { key: value, guiEvent: simpleKeys(event) });\n    return false;\n};\n\nmpl.figure.prototype.toolbar_button_onclick = function (name) {\n    if (name === 'download') {\n        this.handle_save(this, null);\n    } else {\n        this.send_message('toolbar_button', { name: name });\n    }\n};\n\nmpl.figure.prototype.toolbar_button_onmouseover = function (tooltip) {\n    this.message.textContent = tooltip;\n};\n\n///////////////// REMAINING CONTENT GENERATED BY embed_js.py /////////////////\n// prettier-ignore\nvar _JSXTOOLS_RESIZE_OBSERVER=function(A){var t,i=new WeakMap,n=new WeakMap,a=new WeakMap,r=new WeakMap,o=new Set;function s(e){if(!(this instanceof s))throw new TypeError(\"Constructor requires 'new' operator\");i.set(this,e)}function h(){throw new TypeError(\"Function is not a constructor\")}function c(e,t,i,n){e=0 in arguments?Number(arguments[0]):0,t=1 in arguments?Number(arguments[1]):0,i=2 in arguments?Number(arguments[2]):0,n=3 in arguments?Number(arguments[3]):0,this.right=(this.x=this.left=e)+(this.width=i),this.bottom=(this.y=this.top=t)+(this.height=n),Object.freeze(this)}function d(){t=requestAnimationFrame(d);var s=new WeakMap,p=new Set;o.forEach((function(t){r.get(t).forEach((function(i){var r=t instanceof window.SVGElement,o=a.get(t),d=r?0:parseFloat(o.paddingTop),f=r?0:parseFloat(o.paddingRight),l=r?0:parseFloat(o.paddingBottom),u=r?0:parseFloat(o.paddingLeft),g=r?0:parseFloat(o.borderTopWidth),m=r?0:parseFloat(o.borderRightWidth),w=r?0:parseFloat(o.borderBottomWidth),b=u+f,F=d+l,v=(r?0:parseFloat(o.borderLeftWidth))+m,W=g+w,y=r?0:t.offsetHeight-W-t.clientHeight,E=r?0:t.offsetWidth-v-t.clientWidth,R=b+v,z=F+W,M=r?t.width:parseFloat(o.width)-R-E,O=r?t.height:parseFloat(o.height)-z-y;if(n.has(t)){var k=n.get(t);if(k[0]===M&&k[1]===O)return}n.set(t,[M,O]);var S=Object.create(h.prototype);S.target=t,S.contentRect=new c(u,d,M,O),s.has(i)||(s.set(i,[]),p.add(i)),s.get(i).push(S)}))})),p.forEach((function(e){i.get(e).call(e,s.get(e),e)}))}return s.prototype.observe=function(i){if(i instanceof window.Element){r.has(i)||(r.set(i,new Set),o.add(i),a.set(i,window.getComputedStyle(i)));var n=r.get(i);n.has(this)||n.add(this),cancelAnimationFrame(t),t=requestAnimationFrame(d)}},s.prototype.unobserve=function(i){if(i instanceof window.Element&&r.has(i)){var n=r.get(i);n.has(this)&&(n.delete(this),n.size||(r.delete(i),o.delete(i))),n.size||r.delete(i),o.size||cancelAnimationFrame(t)}},A.DOMRectReadOnly=c,A.ResizeObserver=s,A.ResizeObserverEntry=h,A}; // eslint-disable-line\nmpl.toolbar_items = [[\"Home\", \"Reset original view\", \"fa fa-home\", \"home\"], [\"Back\", \"Back to previous view\", \"fa fa-arrow-left\", \"back\"], [\"Forward\", \"Forward to next view\", \"fa fa-arrow-right\", \"forward\"], [\"\", \"\", \"\", \"\"], [\"Pan\", \"Left button pans, Right button zooms\\nx/y fixes axis, CTRL fixes aspect\", \"fa fa-arrows\", \"pan\"], [\"Zoom\", \"Zoom to rectangle\\nx/y fixes axis\", \"fa fa-square-o\", \"zoom\"], [\"\", \"\", \"\", \"\"], [\"Download\", \"Download plot\", \"fa fa-floppy-o\", \"download\"]];\n\nmpl.extensions = [\"eps\", \"jpeg\", \"pgf\", \"pdf\", \"png\", \"ps\", \"raw\", \"svg\", \"tif\", \"webp\"];\n\nmpl.default_extension = \"png\";/* global mpl */\n\nvar comm_websocket_adapter = function (comm) {\n    // Create a \"websocket\"-like object which calls the given IPython comm\n    // object with the appropriate methods. Currently this is a non binary\n    // socket, so there is still some room for performance tuning.\n    var ws = {};\n\n    ws.binaryType = comm.kernel.ws.binaryType;\n    ws.readyState = comm.kernel.ws.readyState;\n    function updateReadyState(_event) {\n        if (comm.kernel.ws) {\n            ws.readyState = comm.kernel.ws.readyState;\n        } else {\n            ws.readyState = 3; // Closed state.\n        }\n    }\n    comm.kernel.ws.addEventListener('open', updateReadyState);\n    comm.kernel.ws.addEventListener('close', updateReadyState);\n    comm.kernel.ws.addEventListener('error', updateReadyState);\n\n    ws.close = function () {\n        comm.close();\n    };\n    ws.send = function (m) {\n        //console.log('sending', m);\n        comm.send(m);\n    };\n    // Register the callback with on_msg.\n    comm.on_msg(function (msg) {\n        //console.log('receiving', msg['content']['data'], msg);\n        var data = msg['content']['data'];\n        if (data['blob'] !== undefined) {\n            data = {\n                data: new Blob(msg['buffers'], { type: data['blob'] }),\n            };\n        }\n        // Pass the mpl event to the overridden (by mpl) onmessage function.\n        ws.onmessage(data);\n    });\n    return ws;\n};\n\nmpl.mpl_figure_comm = function (comm, msg) {\n    // This is the function which gets called when the mpl process\n    // starts-up an IPython Comm through the \"matplotlib\" channel.\n\n    var id = msg.content.data.id;\n    // Get hold of the div created by the display call when the Comm\n    // socket was opened in Python.\n    var element = document.getElementById(id);\n    var ws_proxy = comm_websocket_adapter(comm);\n\n    function ondownload(figure, _format) {\n        window.open(figure.canvas.toDataURL());\n    }\n\n    var fig = new mpl.figure(id, ws_proxy, ondownload, element);\n\n    // Call onopen now - mpl needs it, as it is assuming we've passed it a real\n    // web socket which is closed, not our websocket->open comm proxy.\n    ws_proxy.onopen();\n\n    fig.parent_element = element;\n    fig.cell_info = mpl.find_output_cell(\"<div id='\" + id + \"'></div>\");\n    if (!fig.cell_info) {\n        console.error('Failed to find cell for figure', id, fig);\n        return;\n    }\n    fig.cell_info[0].output_area.element.on(\n        'cleared',\n        { fig: fig },\n        fig._remove_fig_handler\n    );\n};\n\nmpl.figure.prototype.handle_close = function (fig, msg) {\n    var width = fig.canvas.width / fig.ratio;\n    fig.cell_info[0].output_area.element.off(\n        'cleared',\n        fig._remove_fig_handler\n    );\n    fig.resizeObserverInstance.unobserve(fig.canvas_div);\n\n    // Update the output cell to use the data from the current canvas.\n    fig.push_to_output();\n    var dataURL = fig.canvas.toDataURL();\n    // Re-enable the keyboard manager in IPython - without this line, in FF,\n    // the notebook keyboard shortcuts fail.\n    IPython.keyboard_manager.enable();\n    fig.parent_element.innerHTML =\n        '<img src=\"' + dataURL + '\" width=\"' + width + '\">';\n    fig.close_ws(fig, msg);\n};\n\nmpl.figure.prototype.close_ws = function (fig, msg) {\n    fig.send_message('closing', msg);\n    // fig.ws.close()\n};\n\nmpl.figure.prototype.push_to_output = function (_remove_interactive) {\n    // Turn the data on the canvas into data in the output cell.\n    var width = this.canvas.width / this.ratio;\n    var dataURL = this.canvas.toDataURL();\n    this.cell_info[1]['text/html'] =\n        '<img src=\"' + dataURL + '\" width=\"' + width + '\">';\n};\n\nmpl.figure.prototype.updated_canvas_event = function () {\n    // Tell IPython that the notebook contents must change.\n    IPython.notebook.set_dirty(true);\n    this.send_message('ack', {});\n    var fig = this;\n    // Wait a second, then push the new image to the DOM so\n    // that it is saved nicely (might be nice to debounce this).\n    setTimeout(function () {\n        fig.push_to_output();\n    }, 1000);\n};\n\nmpl.figure.prototype._init_toolbar = function () {\n    var fig = this;\n\n    var toolbar = document.createElement('div');\n    toolbar.classList = 'btn-toolbar';\n    this.root.appendChild(toolbar);\n\n    function on_click_closure(name) {\n        return function (_event) {\n            return fig.toolbar_button_onclick(name);\n        };\n    }\n\n    function on_mouseover_closure(tooltip) {\n        return function (event) {\n            if (!event.currentTarget.disabled) {\n                return fig.toolbar_button_onmouseover(tooltip);\n            }\n        };\n    }\n\n    fig.buttons = {};\n    var buttonGroup = document.createElement('div');\n    buttonGroup.classList = 'btn-group';\n    var button;\n    for (var toolbar_ind in mpl.toolbar_items) {\n        var name = mpl.toolbar_items[toolbar_ind][0];\n        var tooltip = mpl.toolbar_items[toolbar_ind][1];\n        var image = mpl.toolbar_items[toolbar_ind][2];\n        var method_name = mpl.toolbar_items[toolbar_ind][3];\n\n        if (!name) {\n            /* Instead of a spacer, we start a new button group. */\n            if (buttonGroup.hasChildNodes()) {\n                toolbar.appendChild(buttonGroup);\n            }\n            buttonGroup = document.createElement('div');\n            buttonGroup.classList = 'btn-group';\n            continue;\n        }\n\n        button = fig.buttons[name] = document.createElement('button');\n        button.classList = 'btn btn-default';\n        button.href = '#';\n        button.title = name;\n        button.innerHTML = '<i class=\"fa ' + image + ' fa-lg\"></i>';\n        button.addEventListener('click', on_click_closure(method_name));\n        button.addEventListener('mouseover', on_mouseover_closure(tooltip));\n        buttonGroup.appendChild(button);\n    }\n\n    if (buttonGroup.hasChildNodes()) {\n        toolbar.appendChild(buttonGroup);\n    }\n\n    // Add the status bar.\n    var status_bar = document.createElement('span');\n    status_bar.classList = 'mpl-message pull-right';\n    toolbar.appendChild(status_bar);\n    this.message = status_bar;\n\n    // Add the close button to the window.\n    var buttongrp = document.createElement('div');\n    buttongrp.classList = 'btn-group inline pull-right';\n    button = document.createElement('button');\n    button.classList = 'btn btn-mini btn-primary';\n    button.href = '#';\n    button.title = 'Stop Interaction';\n    button.innerHTML = '<i class=\"fa fa-power-off icon-remove icon-large\"></i>';\n    button.addEventListener('click', function (_evt) {\n        fig.handle_close(fig, {});\n    });\n    button.addEventListener(\n        'mouseover',\n        on_mouseover_closure('Stop Interaction')\n    );\n    buttongrp.appendChild(button);\n    var titlebar = this.root.querySelector('.ui-dialog-titlebar');\n    titlebar.insertBefore(buttongrp, titlebar.firstChild);\n};\n\nmpl.figure.prototype._remove_fig_handler = function (event) {\n    var fig = event.data.fig;\n    if (event.target !== this) {\n        // Ignore bubbled events from children.\n        return;\n    }\n    fig.close_ws(fig, {});\n};\n\nmpl.figure.prototype._root_extra_style = function (el) {\n    el.style.boxSizing = 'content-box'; // override notebook setting of border-box.\n};\n\nmpl.figure.prototype._canvas_extra_style = function (el) {\n    // this is important to make the div 'focusable\n    el.setAttribute('tabindex', 0);\n    // reach out to IPython and tell the keyboard manager to turn it's self\n    // off when our div gets focus\n\n    // location in version 3\n    if (IPython.notebook.keyboard_manager) {\n        IPython.notebook.keyboard_manager.register_events(el);\n    } else {\n        // location in version 2\n        IPython.keyboard_manager.register_events(el);\n    }\n};\n\nmpl.figure.prototype._key_event_extra = function (event, _name) {\n    // Check for shift+enter\n    if (event.shiftKey && event.which === 13) {\n        this.canvas_div.blur();\n        // select the cell after this one\n        var index = IPython.notebook.find_cell_index(this.cell_info[0]);\n        IPython.notebook.select(index + 1);\n    }\n};\n\nmpl.figure.prototype.handle_save = function (fig, _msg) {\n    fig.ondownload(fig, null);\n};\n\nmpl.find_output_cell = function (html_output) {\n    // Return the cell and output element which can be found *uniquely* in the notebook.\n    // Note - this is a bit hacky, but it is done because the \"notebook_saving.Notebook\"\n    // IPython event is triggered only after the cells have been serialised, which for\n    // our purposes (turning an active figure into a static one), is too late.\n    var cells = IPython.notebook.get_cells();\n    var ncells = cells.length;\n    for (var i = 0; i < ncells; i++) {\n        var cell = cells[i];\n        if (cell.cell_type === 'code') {\n            for (var j = 0; j < cell.output_area.outputs.length; j++) {\n                var data = cell.output_area.outputs[j];\n                if (data.data) {\n                    // IPython >= 3 moved mimebundle to data attribute of output\n                    data = data.data;\n                }\n                if (data['text/html'] === html_output) {\n                    return [cell, data, j];\n                }\n            }\n        }\n    }\n};\n\n// Register the function which deals with the matplotlib target/channel.\n// The kernel may be null if the page has been refreshed.\nif (IPython.notebook.kernel !== null) {\n    IPython.notebook.kernel.comm_manager.register_target(\n        'matplotlib',\n        mpl.mpl_figure_comm\n    );\n}\n",
      "text/plain": [
       "<IPython.core.display.Javascript object>"
      ]
     },
     "metadata": {},
     "output_type": "display_data"
    },
    {
     "data": {
      "text/html": [
       "<img src=\"data:image/png;base64,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\" width=\"640\">"
      ],
      "text/plain": [
       "<IPython.core.display.HTML object>"
      ]
     },
     "metadata": {},
     "output_type": "display_data"
    },
    {
     "name": "stdout",
     "output_type": "stream",
     "text": [
      "収束までの繰り返し回数: 7\n",
      "極小値:x= -3.4857335615840714\n"
     ]
    }
   ],
   "source": [
    "%matplotlib notebook\n",
    "import numpy as np\n",
    "import matplotlib.pyplot as plt\n",
    "from matplotlib import animation\n",
    "\n",
    "#x^2の関数\n",
    "def f(x):\n",
    "    return x**4-20*x**2+30*x+20\n",
    "\n",
    "#x^2の1階微分\n",
    "def diff_f(x):\n",
    "    return 4*x**3-40*x+30\n",
    "\n",
    "t=np.linspace(-5,5,1000)\n",
    "fig, ax = plt.subplots()\n",
    "ax.plot(t,f(t), color='blue') # グラフを作成\n",
    "ims = []\n",
    "\n",
    "x=0 #xの初期値\n",
    "epsilon=0.001 #収束判定\n",
    "eta=0.01 #学習率\n",
    "\n",
    "i=0\n",
    "while abs(diff_f(x)*eta)>epsilon:\n",
    "    \n",
    "    img = ax.plot(x,f(x),'*',markersize=10, color='red')\n",
    "    img2=ax.text(-0.5, 320,f\"n={i}\")\n",
    "    ims.append(img+[img2]) # グラフを配列に追加\n",
    "    \n",
    "    #ここに更新式を書く\n",
    "    x=x-eta*diff_f(x)\n",
    "    i+=1\n",
    "\n",
    "print(\"収束までの繰り返し回数:\",i)\n",
    "print(\"極小値:x=\",x)\n",
    "ani = animation.ArtistAnimation(fig, ims, interval=100)\n",
    "#ani.save('x^4.gif', writer='imagemagick')"
   ]
  },
  {
   "attachments": {},
   "cell_type": "markdown",
   "metadata": {},
   "source": [
    "先ほどのグラフと違い，複数の極小点が存在していることから，初期値によってどの極小点に収束するかが変わってしまう．<br>\n",
    "そのため，勾配法を利用する場合には必ずしも最小値に到達していないことに注意しよう．（局所解の可能性あり）<br>\n",
    "このような局所解に収束する問題を解決するための手法として焼きなまし法や遺伝アルゴリズム，タブーサーチなどが考案されており，余裕があれば調べてみるといいだろう．"
   ]
  },
  {
   "attachments": {},
   "cell_type": "markdown",
   "metadata": {},
   "source": [
    "## 3.5.3 ニュートン法"
   ]
  },
  {
   "attachments": {},
   "cell_type": "markdown",
   "metadata": {},
   "source": [
    "最急降下法を用いて計算を繰り返すことで，関数の極値を得られることが分かった．<br>\n",
    "一階微分さえ得られていれば，単純な更新式で極値を求められるのは非常に優れた点である．<br>\n",
    "一方で，収束速度や学習の安定性が学習率の設定に依存していることは問題であろう．<br>\n",
    "そこで，学習率の設定を必要としない，かつ最急降下法よりも高速に極値を求める手法として，ニュートン法を紹介したいと思う．"
   ]
  },
  {
   "attachments": {},
   "cell_type": "markdown",
   "metadata": {},
   "source": [
    "ニュートン法は以下のようなアルゴリズムである．\n",
    ">1. $\\mathbf{w}^{[0]}$に初期値を与える\n",
    ">2. 以下の更新式に従ってパラメータ更新する．<br>\n",
    ">$\\mathbf{w}^{[t+1]} = \\mathbf{w}^{[t]}- \\eta\\frac{\\Delta E(\\mathbf{w})}{\\Delta \\mathbf{w}}$\n",
    ">3. (2)を繰り返し，パラメータの更新が止まれば($\\frac{\\Delta E(\\mathbf{w})}{\\Delta \\mathbf{w}}<\\epsilon$)終了する"
   ]
  },
  {
   "attachments": {},
   "cell_type": "markdown",
   "metadata": {},
   "source": [
    "### 課題2 ニュートン法の実装\n",
    "下記のコード埋めることでニュートン法を試してみよう．"
   ]
  },
  {
   "cell_type": "code",
   "execution_count": 2,
   "metadata": {},
   "outputs": [
    {
     "data": {
      "application/javascript": "/* Put everything inside the global mpl namespace */\n/* global mpl */\nwindow.mpl = {};\n\nmpl.get_websocket_type = function () {\n    if (typeof WebSocket !== 'undefined') {\n        return WebSocket;\n    } else if (typeof MozWebSocket !== 'undefined') {\n        return MozWebSocket;\n    } else {\n        alert(\n            'Your browser does not have WebSocket support. ' +\n                'Please try Chrome, Safari or Firefox ≥ 6. ' +\n                'Firefox 4 and 5 are also supported but you ' +\n                'have to enable WebSockets in about:config.'\n        );\n    }\n};\n\nmpl.figure = function (figure_id, websocket, ondownload, parent_element) {\n    this.id = figure_id;\n\n    this.ws = websocket;\n\n    this.supports_binary = this.ws.binaryType !== undefined;\n\n    if (!this.supports_binary) {\n        var warnings = document.getElementById('mpl-warnings');\n        if (warnings) {\n            warnings.style.display = 'block';\n            warnings.textContent =\n                'This browser does not support binary websocket messages. ' +\n                'Performance may be slow.';\n        }\n    }\n\n    this.imageObj = new Image();\n\n    this.context = undefined;\n    this.message = undefined;\n    this.canvas = undefined;\n    this.rubberband_canvas = undefined;\n    this.rubberband_context = undefined;\n    this.format_dropdown = undefined;\n\n    this.image_mode = 'full';\n\n    this.root = document.createElement('div');\n    this.root.setAttribute('style', 'display: inline-block');\n    this._root_extra_style(this.root);\n\n    parent_element.appendChild(this.root);\n\n    this._init_header(this);\n    this._init_canvas(this);\n    this._init_toolbar(this);\n\n    var fig = this;\n\n    this.waiting = false;\n\n    this.ws.onopen = function () {\n        fig.send_message('supports_binary', { value: fig.supports_binary });\n        fig.send_message('send_image_mode', {});\n        if (fig.ratio !== 1) {\n            fig.send_message('set_device_pixel_ratio', {\n                device_pixel_ratio: fig.ratio,\n            });\n        }\n        fig.send_message('refresh', {});\n    };\n\n    this.imageObj.onload = function () {\n        if (fig.image_mode === 'full') {\n            // Full images could contain transparency (where diff images\n            // almost always do), so we need to clear the canvas so that\n            // there is no ghosting.\n            fig.context.clearRect(0, 0, fig.canvas.width, fig.canvas.height);\n        }\n        fig.context.drawImage(fig.imageObj, 0, 0);\n    };\n\n    this.imageObj.onunload = function () {\n        fig.ws.close();\n    };\n\n    this.ws.onmessage = this._make_on_message_function(this);\n\n    this.ondownload = ondownload;\n};\n\nmpl.figure.prototype._init_header = function () {\n    var titlebar = document.createElement('div');\n    titlebar.classList =\n        'ui-dialog-titlebar ui-widget-header ui-corner-all ui-helper-clearfix';\n    var titletext = document.createElement('div');\n    titletext.classList = 'ui-dialog-title';\n    titletext.setAttribute(\n        'style',\n        'width: 100%; text-align: center; padding: 3px;'\n    );\n    titlebar.appendChild(titletext);\n    this.root.appendChild(titlebar);\n    this.header = titletext;\n};\n\nmpl.figure.prototype._canvas_extra_style = function (_canvas_div) {};\n\nmpl.figure.prototype._root_extra_style = function (_canvas_div) {};\n\nmpl.figure.prototype._init_canvas = function () {\n    var fig = this;\n\n    var canvas_div = (this.canvas_div = document.createElement('div'));\n    canvas_div.setAttribute('tabindex', '0');\n    canvas_div.setAttribute(\n        'style',\n        'border: 1px solid #ddd;' +\n            'box-sizing: content-box;' +\n            'clear: both;' +\n            'min-height: 1px;' +\n            'min-width: 1px;' +\n            'outline: 0;' +\n            'overflow: hidden;' +\n            'position: relative;' +\n            'resize: both;' +\n            'z-index: 2;'\n    );\n\n    function on_keyboard_event_closure(name) {\n        return function (event) {\n            return fig.key_event(event, name);\n        };\n    }\n\n    canvas_div.addEventListener(\n        'keydown',\n        on_keyboard_event_closure('key_press')\n    );\n    canvas_div.addEventListener(\n        'keyup',\n        on_keyboard_event_closure('key_release')\n    );\n\n    this._canvas_extra_style(canvas_div);\n    this.root.appendChild(canvas_div);\n\n    var canvas = (this.canvas = document.createElement('canvas'));\n    canvas.classList.add('mpl-canvas');\n    canvas.setAttribute(\n        'style',\n        'box-sizing: content-box;' +\n            'pointer-events: none;' +\n            'position: relative;' +\n            'z-index: 0;'\n    );\n\n    this.context = canvas.getContext('2d');\n\n    var backingStore =\n        this.context.backingStorePixelRatio ||\n        this.context.webkitBackingStorePixelRatio ||\n        this.context.mozBackingStorePixelRatio ||\n        this.context.msBackingStorePixelRatio ||\n        this.context.oBackingStorePixelRatio ||\n        this.context.backingStorePixelRatio ||\n        1;\n\n    this.ratio = (window.devicePixelRatio || 1) / backingStore;\n\n    var rubberband_canvas = (this.rubberband_canvas = document.createElement(\n        'canvas'\n    ));\n    rubberband_canvas.setAttribute(\n        'style',\n        'box-sizing: content-box;' +\n            'left: 0;' +\n            'pointer-events: none;' +\n            'position: absolute;' +\n            'top: 0;' +\n            'z-index: 1;'\n    );\n\n    // Apply a ponyfill if ResizeObserver is not implemented by browser.\n    if (this.ResizeObserver === undefined) {\n        if (window.ResizeObserver !== undefined) {\n            this.ResizeObserver = window.ResizeObserver;\n        } else {\n            var obs = _JSXTOOLS_RESIZE_OBSERVER({});\n            this.ResizeObserver = obs.ResizeObserver;\n        }\n    }\n\n    this.resizeObserverInstance = new this.ResizeObserver(function (entries) {\n        var nentries = entries.length;\n        for (var i = 0; i < nentries; i++) {\n            var entry = entries[i];\n            var width, height;\n            if (entry.contentBoxSize) {\n                if (entry.contentBoxSize instanceof Array) {\n                    // Chrome 84 implements new version of spec.\n                    width = entry.contentBoxSize[0].inlineSize;\n                    height = entry.contentBoxSize[0].blockSize;\n                } else {\n                    // Firefox implements old version of spec.\n                    width = entry.contentBoxSize.inlineSize;\n                    height = entry.contentBoxSize.blockSize;\n                }\n            } else {\n                // Chrome <84 implements even older version of spec.\n                width = entry.contentRect.width;\n                height = entry.contentRect.height;\n            }\n\n            // Keep the size of the canvas and rubber band canvas in sync with\n            // the canvas container.\n            if (entry.devicePixelContentBoxSize) {\n                // Chrome 84 implements new version of spec.\n                canvas.setAttribute(\n                    'width',\n                    entry.devicePixelContentBoxSize[0].inlineSize\n                );\n                canvas.setAttribute(\n                    'height',\n                    entry.devicePixelContentBoxSize[0].blockSize\n                );\n            } else {\n                canvas.setAttribute('width', width * fig.ratio);\n                canvas.setAttribute('height', height * fig.ratio);\n            }\n            /* This rescales the canvas back to display pixels, so that it\n             * appears correct on HiDPI screens. */\n            canvas.style.width = width + 'px';\n            canvas.style.height = height + 'px';\n\n            rubberband_canvas.setAttribute('width', width);\n            rubberband_canvas.setAttribute('height', height);\n\n            // And update the size in Python. We ignore the initial 0/0 size\n            // that occurs as the element is placed into the DOM, which should\n            // otherwise not happen due to the minimum size styling.\n            if (fig.ws.readyState == 1 && width != 0 && height != 0) {\n                fig.request_resize(width, height);\n            }\n        }\n    });\n    this.resizeObserverInstance.observe(canvas_div);\n\n    function on_mouse_event_closure(name) {\n        /* User Agent sniffing is bad, but WebKit is busted:\n         * https://bugs.webkit.org/show_bug.cgi?id=144526\n         * https://bugs.webkit.org/show_bug.cgi?id=181818\n         * The worst that happens here is that they get an extra browser\n         * selection when dragging, if this check fails to catch them.\n         */\n        var UA = navigator.userAgent;\n        var isWebKit = /AppleWebKit/.test(UA) && !/Chrome/.test(UA);\n        if(isWebKit) {\n            return function (event) {\n                /* This prevents the web browser from automatically changing to\n                 * the text insertion cursor when the button is pressed. We\n                 * want to control all of the cursor setting manually through\n                 * the 'cursor' event from matplotlib */\n                event.preventDefault()\n                return fig.mouse_event(event, name);\n            };\n        } else {\n            return function (event) {\n                return fig.mouse_event(event, name);\n            };\n        }\n    }\n\n    canvas_div.addEventListener(\n        'mousedown',\n        on_mouse_event_closure('button_press')\n    );\n    canvas_div.addEventListener(\n        'mouseup',\n        on_mouse_event_closure('button_release')\n    );\n    canvas_div.addEventListener(\n        'dblclick',\n        on_mouse_event_closure('dblclick')\n    );\n    // Throttle sequential mouse events to 1 every 20ms.\n    canvas_div.addEventListener(\n        'mousemove',\n        on_mouse_event_closure('motion_notify')\n    );\n\n    canvas_div.addEventListener(\n        'mouseenter',\n        on_mouse_event_closure('figure_enter')\n    );\n    canvas_div.addEventListener(\n        'mouseleave',\n        on_mouse_event_closure('figure_leave')\n    );\n\n    canvas_div.addEventListener('wheel', function (event) {\n        if (event.deltaY < 0) {\n            event.step = 1;\n        } else {\n            event.step = -1;\n        }\n        on_mouse_event_closure('scroll')(event);\n    });\n\n    canvas_div.appendChild(canvas);\n    canvas_div.appendChild(rubberband_canvas);\n\n    this.rubberband_context = rubberband_canvas.getContext('2d');\n    this.rubberband_context.strokeStyle = '#000000';\n\n    this._resize_canvas = function (width, height, forward) {\n        if (forward) {\n            canvas_div.style.width = width + 'px';\n            canvas_div.style.height = height + 'px';\n        }\n    };\n\n    // Disable right mouse context menu.\n    canvas_div.addEventListener('contextmenu', function (_e) {\n        event.preventDefault();\n        return false;\n    });\n\n    function set_focus() {\n        canvas.focus();\n        canvas_div.focus();\n    }\n\n    window.setTimeout(set_focus, 100);\n};\n\nmpl.figure.prototype._init_toolbar = function () {\n    var fig = this;\n\n    var toolbar = document.createElement('div');\n    toolbar.classList = 'mpl-toolbar';\n    this.root.appendChild(toolbar);\n\n    function on_click_closure(name) {\n        return function (_event) {\n            return fig.toolbar_button_onclick(name);\n        };\n    }\n\n    function on_mouseover_closure(tooltip) {\n        return function (event) {\n            if (!event.currentTarget.disabled) {\n                return fig.toolbar_button_onmouseover(tooltip);\n            }\n        };\n    }\n\n    fig.buttons = {};\n    var buttonGroup = document.createElement('div');\n    buttonGroup.classList = 'mpl-button-group';\n    for (var toolbar_ind in mpl.toolbar_items) {\n        var name = mpl.toolbar_items[toolbar_ind][0];\n        var tooltip = mpl.toolbar_items[toolbar_ind][1];\n        var image = mpl.toolbar_items[toolbar_ind][2];\n        var method_name = mpl.toolbar_items[toolbar_ind][3];\n\n        if (!name) {\n            /* Instead of a spacer, we start a new button group. */\n            if (buttonGroup.hasChildNodes()) {\n                toolbar.appendChild(buttonGroup);\n            }\n            buttonGroup = document.createElement('div');\n            buttonGroup.classList = 'mpl-button-group';\n            continue;\n        }\n\n        var button = (fig.buttons[name] = document.createElement('button'));\n        button.classList = 'mpl-widget';\n        button.setAttribute('role', 'button');\n        button.setAttribute('aria-disabled', 'false');\n        button.addEventListener('click', on_click_closure(method_name));\n        button.addEventListener('mouseover', on_mouseover_closure(tooltip));\n\n        var icon_img = document.createElement('img');\n        icon_img.src = '_images/' + image + '.png';\n        icon_img.srcset = '_images/' + image + '_large.png 2x';\n        icon_img.alt = tooltip;\n        button.appendChild(icon_img);\n\n        buttonGroup.appendChild(button);\n    }\n\n    if (buttonGroup.hasChildNodes()) {\n        toolbar.appendChild(buttonGroup);\n    }\n\n    var fmt_picker = document.createElement('select');\n    fmt_picker.classList = 'mpl-widget';\n    toolbar.appendChild(fmt_picker);\n    this.format_dropdown = fmt_picker;\n\n    for (var ind in mpl.extensions) {\n        var fmt = mpl.extensions[ind];\n        var option = document.createElement('option');\n        option.selected = fmt === mpl.default_extension;\n        option.innerHTML = fmt;\n        fmt_picker.appendChild(option);\n    }\n\n    var status_bar = document.createElement('span');\n    status_bar.classList = 'mpl-message';\n    toolbar.appendChild(status_bar);\n    this.message = status_bar;\n};\n\nmpl.figure.prototype.request_resize = function (x_pixels, y_pixels) {\n    // Request matplotlib to resize the figure. Matplotlib will then trigger a resize in the client,\n    // which will in turn request a refresh of the image.\n    this.send_message('resize', { width: x_pixels, height: y_pixels });\n};\n\nmpl.figure.prototype.send_message = function (type, properties) {\n    properties['type'] = type;\n    properties['figure_id'] = this.id;\n    this.ws.send(JSON.stringify(properties));\n};\n\nmpl.figure.prototype.send_draw_message = function () {\n    if (!this.waiting) {\n        this.waiting = true;\n        this.ws.send(JSON.stringify({ type: 'draw', figure_id: this.id }));\n    }\n};\n\nmpl.figure.prototype.handle_save = function (fig, _msg) {\n    var format_dropdown = fig.format_dropdown;\n    var format = format_dropdown.options[format_dropdown.selectedIndex].value;\n    fig.ondownload(fig, format);\n};\n\nmpl.figure.prototype.handle_resize = function (fig, msg) {\n    var size = msg['size'];\n    if (size[0] !== fig.canvas.width || size[1] !== fig.canvas.height) {\n        fig._resize_canvas(size[0], size[1], msg['forward']);\n        fig.send_message('refresh', {});\n    }\n};\n\nmpl.figure.prototype.handle_rubberband = function (fig, msg) {\n    var x0 = msg['x0'] / fig.ratio;\n    var y0 = (fig.canvas.height - msg['y0']) / fig.ratio;\n    var x1 = msg['x1'] / fig.ratio;\n    var y1 = (fig.canvas.height - msg['y1']) / fig.ratio;\n    x0 = Math.floor(x0) + 0.5;\n    y0 = Math.floor(y0) + 0.5;\n    x1 = Math.floor(x1) + 0.5;\n    y1 = Math.floor(y1) + 0.5;\n    var min_x = Math.min(x0, x1);\n    var min_y = Math.min(y0, y1);\n    var width = Math.abs(x1 - x0);\n    var height = Math.abs(y1 - y0);\n\n    fig.rubberband_context.clearRect(\n        0,\n        0,\n        fig.canvas.width / fig.ratio,\n        fig.canvas.height / fig.ratio\n    );\n\n    fig.rubberband_context.strokeRect(min_x, min_y, width, height);\n};\n\nmpl.figure.prototype.handle_figure_label = function (fig, msg) {\n    // Updates the figure title.\n    fig.header.textContent = msg['label'];\n};\n\nmpl.figure.prototype.handle_cursor = function (fig, msg) {\n    fig.canvas_div.style.cursor = msg['cursor'];\n};\n\nmpl.figure.prototype.handle_message = function (fig, msg) {\n    fig.message.textContent = msg['message'];\n};\n\nmpl.figure.prototype.handle_draw = function (fig, _msg) {\n    // Request the server to send over a new figure.\n    fig.send_draw_message();\n};\n\nmpl.figure.prototype.handle_image_mode = function (fig, msg) {\n    fig.image_mode = msg['mode'];\n};\n\nmpl.figure.prototype.handle_history_buttons = function (fig, msg) {\n    for (var key in msg) {\n        if (!(key in fig.buttons)) {\n            continue;\n        }\n        fig.buttons[key].disabled = !msg[key];\n        fig.buttons[key].setAttribute('aria-disabled', !msg[key]);\n    }\n};\n\nmpl.figure.prototype.handle_navigate_mode = function (fig, msg) {\n    if (msg['mode'] === 'PAN') {\n        fig.buttons['Pan'].classList.add('active');\n        fig.buttons['Zoom'].classList.remove('active');\n    } else if (msg['mode'] === 'ZOOM') {\n        fig.buttons['Pan'].classList.remove('active');\n        fig.buttons['Zoom'].classList.add('active');\n    } else {\n        fig.buttons['Pan'].classList.remove('active');\n        fig.buttons['Zoom'].classList.remove('active');\n    }\n};\n\nmpl.figure.prototype.updated_canvas_event = function () {\n    // Called whenever the canvas gets updated.\n    this.send_message('ack', {});\n};\n\n// A function to construct a web socket function for onmessage handling.\n// Called in the figure constructor.\nmpl.figure.prototype._make_on_message_function = function (fig) {\n    return function socket_on_message(evt) {\n        if (evt.data instanceof Blob) {\n            var img = evt.data;\n            if (img.type !== 'image/png') {\n                /* FIXME: We get \"Resource interpreted as Image but\n                 * transferred with MIME type text/plain:\" errors on\n                 * Chrome.  But how to set the MIME type?  It doesn't seem\n                 * to be part of the websocket stream */\n                img.type = 'image/png';\n            }\n\n            /* Free the memory for the previous frames */\n            if (fig.imageObj.src) {\n                (window.URL || window.webkitURL).revokeObjectURL(\n                    fig.imageObj.src\n                );\n            }\n\n            fig.imageObj.src = (window.URL || window.webkitURL).createObjectURL(\n                img\n            );\n            fig.updated_canvas_event();\n            fig.waiting = false;\n            return;\n        } else if (\n            typeof evt.data === 'string' &&\n            evt.data.slice(0, 21) === 'data:image/png;base64'\n        ) {\n            fig.imageObj.src = evt.data;\n            fig.updated_canvas_event();\n            fig.waiting = false;\n            return;\n        }\n\n        var msg = JSON.parse(evt.data);\n        var msg_type = msg['type'];\n\n        // Call the  \"handle_{type}\" callback, which takes\n        // the figure and JSON message as its only arguments.\n        try {\n            var callback = fig['handle_' + msg_type];\n        } catch (e) {\n            console.log(\n                \"No handler for the '\" + msg_type + \"' message type: \",\n                msg\n            );\n            return;\n        }\n\n        if (callback) {\n            try {\n                // console.log(\"Handling '\" + msg_type + \"' message: \", msg);\n                callback(fig, msg);\n            } catch (e) {\n                console.log(\n                    \"Exception inside the 'handler_\" + msg_type + \"' callback:\",\n                    e,\n                    e.stack,\n                    msg\n                );\n            }\n        }\n    };\n};\n\nfunction getModifiers(event) {\n    var mods = [];\n    if (event.ctrlKey) {\n        mods.push('ctrl');\n    }\n    if (event.altKey) {\n        mods.push('alt');\n    }\n    if (event.shiftKey) {\n        mods.push('shift');\n    }\n    if (event.metaKey) {\n        mods.push('meta');\n    }\n    return mods;\n}\n\n/*\n * return a copy of an object with only non-object keys\n * we need this to avoid circular references\n * https://stackoverflow.com/a/24161582/3208463\n */\nfunction simpleKeys(original) {\n    return Object.keys(original).reduce(function (obj, key) {\n        if (typeof original[key] !== 'object') {\n            obj[key] = original[key];\n        }\n        return obj;\n    }, {});\n}\n\nmpl.figure.prototype.mouse_event = function (event, name) {\n    if (name === 'button_press') {\n        this.canvas.focus();\n        this.canvas_div.focus();\n    }\n\n    // from https://stackoverflow.com/q/1114465\n    var boundingRect = this.canvas.getBoundingClientRect();\n    var x = (event.clientX - boundingRect.left) * this.ratio;\n    var y = (event.clientY - boundingRect.top) * this.ratio;\n\n    this.send_message(name, {\n        x: x,\n        y: y,\n        button: event.button,\n        step: event.step,\n        modifiers: getModifiers(event),\n        guiEvent: simpleKeys(event),\n    });\n\n    return false;\n};\n\nmpl.figure.prototype._key_event_extra = function (_event, _name) {\n    // Handle any extra behaviour associated with a key event\n};\n\nmpl.figure.prototype.key_event = function (event, name) {\n    // Prevent repeat events\n    if (name === 'key_press') {\n        if (event.key === this._key) {\n            return;\n        } else {\n            this._key = event.key;\n        }\n    }\n    if (name === 'key_release') {\n        this._key = null;\n    }\n\n    var value = '';\n    if (event.ctrlKey && event.key !== 'Control') {\n        value += 'ctrl+';\n    }\n    else if (event.altKey && event.key !== 'Alt') {\n        value += 'alt+';\n    }\n    else if (event.shiftKey && event.key !== 'Shift') {\n        value += 'shift+';\n    }\n\n    value += 'k' + event.key;\n\n    this._key_event_extra(event, name);\n\n    this.send_message(name, { key: value, guiEvent: simpleKeys(event) });\n    return false;\n};\n\nmpl.figure.prototype.toolbar_button_onclick = function (name) {\n    if (name === 'download') {\n        this.handle_save(this, null);\n    } else {\n        this.send_message('toolbar_button', { name: name });\n    }\n};\n\nmpl.figure.prototype.toolbar_button_onmouseover = function (tooltip) {\n    this.message.textContent = tooltip;\n};\n\n///////////////// REMAINING CONTENT GENERATED BY embed_js.py /////////////////\n// prettier-ignore\nvar _JSXTOOLS_RESIZE_OBSERVER=function(A){var t,i=new WeakMap,n=new WeakMap,a=new WeakMap,r=new WeakMap,o=new Set;function s(e){if(!(this instanceof s))throw new TypeError(\"Constructor requires 'new' operator\");i.set(this,e)}function h(){throw new TypeError(\"Function is not a constructor\")}function c(e,t,i,n){e=0 in arguments?Number(arguments[0]):0,t=1 in arguments?Number(arguments[1]):0,i=2 in arguments?Number(arguments[2]):0,n=3 in arguments?Number(arguments[3]):0,this.right=(this.x=this.left=e)+(this.width=i),this.bottom=(this.y=this.top=t)+(this.height=n),Object.freeze(this)}function d(){t=requestAnimationFrame(d);var s=new WeakMap,p=new Set;o.forEach((function(t){r.get(t).forEach((function(i){var r=t instanceof window.SVGElement,o=a.get(t),d=r?0:parseFloat(o.paddingTop),f=r?0:parseFloat(o.paddingRight),l=r?0:parseFloat(o.paddingBottom),u=r?0:parseFloat(o.paddingLeft),g=r?0:parseFloat(o.borderTopWidth),m=r?0:parseFloat(o.borderRightWidth),w=r?0:parseFloat(o.borderBottomWidth),b=u+f,F=d+l,v=(r?0:parseFloat(o.borderLeftWidth))+m,W=g+w,y=r?0:t.offsetHeight-W-t.clientHeight,E=r?0:t.offsetWidth-v-t.clientWidth,R=b+v,z=F+W,M=r?t.width:parseFloat(o.width)-R-E,O=r?t.height:parseFloat(o.height)-z-y;if(n.has(t)){var k=n.get(t);if(k[0]===M&&k[1]===O)return}n.set(t,[M,O]);var S=Object.create(h.prototype);S.target=t,S.contentRect=new c(u,d,M,O),s.has(i)||(s.set(i,[]),p.add(i)),s.get(i).push(S)}))})),p.forEach((function(e){i.get(e).call(e,s.get(e),e)}))}return s.prototype.observe=function(i){if(i instanceof window.Element){r.has(i)||(r.set(i,new Set),o.add(i),a.set(i,window.getComputedStyle(i)));var n=r.get(i);n.has(this)||n.add(this),cancelAnimationFrame(t),t=requestAnimationFrame(d)}},s.prototype.unobserve=function(i){if(i instanceof window.Element&&r.has(i)){var n=r.get(i);n.has(this)&&(n.delete(this),n.size||(r.delete(i),o.delete(i))),n.size||r.delete(i),o.size||cancelAnimationFrame(t)}},A.DOMRectReadOnly=c,A.ResizeObserver=s,A.ResizeObserverEntry=h,A}; // eslint-disable-line\nmpl.toolbar_items = [[\"Home\", \"Reset original view\", \"fa fa-home\", \"home\"], [\"Back\", \"Back to previous view\", \"fa fa-arrow-left\", \"back\"], [\"Forward\", \"Forward to next view\", \"fa fa-arrow-right\", \"forward\"], [\"\", \"\", \"\", \"\"], [\"Pan\", \"Left button pans, Right button zooms\\nx/y fixes axis, CTRL fixes aspect\", \"fa fa-arrows\", \"pan\"], [\"Zoom\", \"Zoom to rectangle\\nx/y fixes axis\", \"fa fa-square-o\", \"zoom\"], [\"\", \"\", \"\", \"\"], [\"Download\", \"Download plot\", \"fa fa-floppy-o\", \"download\"]];\n\nmpl.extensions = [\"eps\", \"jpeg\", \"pgf\", \"pdf\", \"png\", \"ps\", \"raw\", \"svg\", \"tif\", \"webp\"];\n\nmpl.default_extension = \"png\";/* global mpl */\n\nvar comm_websocket_adapter = function (comm) {\n    // Create a \"websocket\"-like object which calls the given IPython comm\n    // object with the appropriate methods. Currently this is a non binary\n    // socket, so there is still some room for performance tuning.\n    var ws = {};\n\n    ws.binaryType = comm.kernel.ws.binaryType;\n    ws.readyState = comm.kernel.ws.readyState;\n    function updateReadyState(_event) {\n        if (comm.kernel.ws) {\n            ws.readyState = comm.kernel.ws.readyState;\n        } else {\n            ws.readyState = 3; // Closed state.\n        }\n    }\n    comm.kernel.ws.addEventListener('open', updateReadyState);\n    comm.kernel.ws.addEventListener('close', updateReadyState);\n    comm.kernel.ws.addEventListener('error', updateReadyState);\n\n    ws.close = function () {\n        comm.close();\n    };\n    ws.send = function (m) {\n        //console.log('sending', m);\n        comm.send(m);\n    };\n    // Register the callback with on_msg.\n    comm.on_msg(function (msg) {\n        //console.log('receiving', msg['content']['data'], msg);\n        var data = msg['content']['data'];\n        if (data['blob'] !== undefined) {\n            data = {\n                data: new Blob(msg['buffers'], { type: data['blob'] }),\n            };\n        }\n        // Pass the mpl event to the overridden (by mpl) onmessage function.\n        ws.onmessage(data);\n    });\n    return ws;\n};\n\nmpl.mpl_figure_comm = function (comm, msg) {\n    // This is the function which gets called when the mpl process\n    // starts-up an IPython Comm through the \"matplotlib\" channel.\n\n    var id = msg.content.data.id;\n    // Get hold of the div created by the display call when the Comm\n    // socket was opened in Python.\n    var element = document.getElementById(id);\n    var ws_proxy = comm_websocket_adapter(comm);\n\n    function ondownload(figure, _format) {\n        window.open(figure.canvas.toDataURL());\n    }\n\n    var fig = new mpl.figure(id, ws_proxy, ondownload, element);\n\n    // Call onopen now - mpl needs it, as it is assuming we've passed it a real\n    // web socket which is closed, not our websocket->open comm proxy.\n    ws_proxy.onopen();\n\n    fig.parent_element = element;\n    fig.cell_info = mpl.find_output_cell(\"<div id='\" + id + \"'></div>\");\n    if (!fig.cell_info) {\n        console.error('Failed to find cell for figure', id, fig);\n        return;\n    }\n    fig.cell_info[0].output_area.element.on(\n        'cleared',\n        { fig: fig },\n        fig._remove_fig_handler\n    );\n};\n\nmpl.figure.prototype.handle_close = function (fig, msg) {\n    var width = fig.canvas.width / fig.ratio;\n    fig.cell_info[0].output_area.element.off(\n        'cleared',\n        fig._remove_fig_handler\n    );\n    fig.resizeObserverInstance.unobserve(fig.canvas_div);\n\n    // Update the output cell to use the data from the current canvas.\n    fig.push_to_output();\n    var dataURL = fig.canvas.toDataURL();\n    // Re-enable the keyboard manager in IPython - without this line, in FF,\n    // the notebook keyboard shortcuts fail.\n    IPython.keyboard_manager.enable();\n    fig.parent_element.innerHTML =\n        '<img src=\"' + dataURL + '\" width=\"' + width + '\">';\n    fig.close_ws(fig, msg);\n};\n\nmpl.figure.prototype.close_ws = function (fig, msg) {\n    fig.send_message('closing', msg);\n    // fig.ws.close()\n};\n\nmpl.figure.prototype.push_to_output = function (_remove_interactive) {\n    // Turn the data on the canvas into data in the output cell.\n    var width = this.canvas.width / this.ratio;\n    var dataURL = this.canvas.toDataURL();\n    this.cell_info[1]['text/html'] =\n        '<img src=\"' + dataURL + '\" width=\"' + width + '\">';\n};\n\nmpl.figure.prototype.updated_canvas_event = function () {\n    // Tell IPython that the notebook contents must change.\n    IPython.notebook.set_dirty(true);\n    this.send_message('ack', {});\n    var fig = this;\n    // Wait a second, then push the new image to the DOM so\n    // that it is saved nicely (might be nice to debounce this).\n    setTimeout(function () {\n        fig.push_to_output();\n    }, 1000);\n};\n\nmpl.figure.prototype._init_toolbar = function () {\n    var fig = this;\n\n    var toolbar = document.createElement('div');\n    toolbar.classList = 'btn-toolbar';\n    this.root.appendChild(toolbar);\n\n    function on_click_closure(name) {\n        return function (_event) {\n            return fig.toolbar_button_onclick(name);\n        };\n    }\n\n    function on_mouseover_closure(tooltip) {\n        return function (event) {\n            if (!event.currentTarget.disabled) {\n                return fig.toolbar_button_onmouseover(tooltip);\n            }\n        };\n    }\n\n    fig.buttons = {};\n    var buttonGroup = document.createElement('div');\n    buttonGroup.classList = 'btn-group';\n    var button;\n    for (var toolbar_ind in mpl.toolbar_items) {\n        var name = mpl.toolbar_items[toolbar_ind][0];\n        var tooltip = mpl.toolbar_items[toolbar_ind][1];\n        var image = mpl.toolbar_items[toolbar_ind][2];\n        var method_name = mpl.toolbar_items[toolbar_ind][3];\n\n        if (!name) {\n            /* Instead of a spacer, we start a new button group. */\n            if (buttonGroup.hasChildNodes()) {\n                toolbar.appendChild(buttonGroup);\n            }\n            buttonGroup = document.createElement('div');\n            buttonGroup.classList = 'btn-group';\n            continue;\n        }\n\n        button = fig.buttons[name] = document.createElement('button');\n        button.classList = 'btn btn-default';\n        button.href = '#';\n        button.title = name;\n        button.innerHTML = '<i class=\"fa ' + image + ' fa-lg\"></i>';\n        button.addEventListener('click', on_click_closure(method_name));\n        button.addEventListener('mouseover', on_mouseover_closure(tooltip));\n        buttonGroup.appendChild(button);\n    }\n\n    if (buttonGroup.hasChildNodes()) {\n        toolbar.appendChild(buttonGroup);\n    }\n\n    // Add the status bar.\n    var status_bar = document.createElement('span');\n    status_bar.classList = 'mpl-message pull-right';\n    toolbar.appendChild(status_bar);\n    this.message = status_bar;\n\n    // Add the close button to the window.\n    var buttongrp = document.createElement('div');\n    buttongrp.classList = 'btn-group inline pull-right';\n    button = document.createElement('button');\n    button.classList = 'btn btn-mini btn-primary';\n    button.href = '#';\n    button.title = 'Stop Interaction';\n    button.innerHTML = '<i class=\"fa fa-power-off icon-remove icon-large\"></i>';\n    button.addEventListener('click', function (_evt) {\n        fig.handle_close(fig, {});\n    });\n    button.addEventListener(\n        'mouseover',\n        on_mouseover_closure('Stop Interaction')\n    );\n    buttongrp.appendChild(button);\n    var titlebar = this.root.querySelector('.ui-dialog-titlebar');\n    titlebar.insertBefore(buttongrp, titlebar.firstChild);\n};\n\nmpl.figure.prototype._remove_fig_handler = function (event) {\n    var fig = event.data.fig;\n    if (event.target !== this) {\n        // Ignore bubbled events from children.\n        return;\n    }\n    fig.close_ws(fig, {});\n};\n\nmpl.figure.prototype._root_extra_style = function (el) {\n    el.style.boxSizing = 'content-box'; // override notebook setting of border-box.\n};\n\nmpl.figure.prototype._canvas_extra_style = function (el) {\n    // this is important to make the div 'focusable\n    el.setAttribute('tabindex', 0);\n    // reach out to IPython and tell the keyboard manager to turn it's self\n    // off when our div gets focus\n\n    // location in version 3\n    if (IPython.notebook.keyboard_manager) {\n        IPython.notebook.keyboard_manager.register_events(el);\n    } else {\n        // location in version 2\n        IPython.keyboard_manager.register_events(el);\n    }\n};\n\nmpl.figure.prototype._key_event_extra = function (event, _name) {\n    // Check for shift+enter\n    if (event.shiftKey && event.which === 13) {\n        this.canvas_div.blur();\n        // select the cell after this one\n        var index = IPython.notebook.find_cell_index(this.cell_info[0]);\n        IPython.notebook.select(index + 1);\n    }\n};\n\nmpl.figure.prototype.handle_save = function (fig, _msg) {\n    fig.ondownload(fig, null);\n};\n\nmpl.find_output_cell = function (html_output) {\n    // Return the cell and output element which can be found *uniquely* in the notebook.\n    // Note - this is a bit hacky, but it is done because the \"notebook_saving.Notebook\"\n    // IPython event is triggered only after the cells have been serialised, which for\n    // our purposes (turning an active figure into a static one), is too late.\n    var cells = IPython.notebook.get_cells();\n    var ncells = cells.length;\n    for (var i = 0; i < ncells; i++) {\n        var cell = cells[i];\n        if (cell.cell_type === 'code') {\n            for (var j = 0; j < cell.output_area.outputs.length; j++) {\n                var data = cell.output_area.outputs[j];\n                if (data.data) {\n                    // IPython >= 3 moved mimebundle to data attribute of output\n                    data = data.data;\n                }\n                if (data['text/html'] === html_output) {\n                    return [cell, data, j];\n                }\n            }\n        }\n    }\n};\n\n// Register the function which deals with the matplotlib target/channel.\n// The kernel may be null if the page has been refreshed.\nif (IPython.notebook.kernel !== null) {\n    IPython.notebook.kernel.comm_manager.register_target(\n        'matplotlib',\n        mpl.mpl_figure_comm\n    );\n}\n",
      "text/plain": [
       "<IPython.core.display.Javascript object>"
      ]
     },
     "metadata": {},
     "output_type": "display_data"
    },
    {
     "data": {
      "text/html": [
       "<div id='3efd43eb-c11e-4f73-abfc-cae10f6e49be'></div>"
      ],
      "text/plain": [
       "<IPython.core.display.HTML object>"
      ]
     },
     "metadata": {},
     "output_type": "display_data"
    },
    {
     "name": "stdout",
     "output_type": "stream",
     "text": [
      "[最急降下法]\n",
      "収束までの繰り返し回数: 31\n",
      "極小値:x= 0.004951760157141522\n",
      "[ニュートン法]\n",
      "収束までの繰り返し回数: 1\n",
      "極小値:x= 0.0\n"
     ]
    },
    {
     "name": "stderr",
     "output_type": "stream",
     "text": [
      "c:\\Users\\field-lab\\anaconda3\\envs\\study\\lib\\site-packages\\matplotlib\\animation.py:884: UserWarning: Animation was deleted without rendering anything. This is most likely not intended. To prevent deletion, assign the Animation to a variable, e.g. `anim`, that exists until you output the Animation using `plt.show()` or `anim.save()`.\n",
      "  warnings.warn(\n"
     ]
    },
    {
     "data": {
      "text/plain": [
       "[]"
      ]
     },
     "execution_count": 2,
     "metadata": {},
     "output_type": "execute_result"
    }
   ],
   "source": [
    "%matplotlib notebook\n",
    "import numpy as np\n",
    "import matplotlib.pyplot as plt\n",
    "from matplotlib import animation\n",
    "\n",
    "#x^2の関数\n",
    "def f(x):\n",
    "    return x**2\n",
    "#x^2の1階微分\n",
    "def diff_f(x):\n",
    "    return 2*x\n",
    "#x^2の1階微分\n",
    "def diff2_f(x):\n",
    "    return 2\n",
    "\n",
    "t=np.linspace(-5,5,1000)\n",
    "fig, ax = plt.subplots()\n",
    "ax.plot(t,f(t), color='blue') # グラフを作成\n",
    "ims = []\n",
    "\n",
    "x=5 #xの初期値\n",
    "epsilon=0.001 #ループ回数\n",
    "eta=0.1 #学習率\n",
    "\n",
    "#最急降下法\n",
    "i=0\n",
    "\n",
    "#ニュートン法\n",
    "x2=x\n",
    "i2=0\n",
    "while abs(diff_f(x)*eta)>epsilon or abs(diff_f(x2)/diff2_f(x2))>epsilon:\n",
    "    \n",
    "    img = ax.plot(x,f(x),'*',markersize=10, color='red')\n",
    "    img2=ax.text(-0.5, 27,f\"n={i}\")\n",
    "    img3 = ax.plot(x2,f(x2),'*',markersize=10, color='green')\n",
    "    ims.append(img+[img2]+img3) # グラフを配列に追加\n",
    "    \n",
    "    #ここに更新式を書く\n",
    "    if abs(diff_f(x)*eta)>epsilon:\n",
    "        x=x-eta*diff_f(x)\n",
    "        i+=1\n",
    "    \n",
    "    if abs(diff_f(x2)/diff2_f(x2))>epsilon:\n",
    "        x2=x2-diff_f(x2)/diff2_f(x2)\n",
    "        i2+=1\n",
    "    \n",
    "print(\"[最急降下法]\")\n",
    "print(\"収束までの繰り返し回数:\",i)\n",
    "print(\"極小値:x=\",x)\n",
    "print(\"[ニュートン法]\")\n",
    "print(\"収束までの繰り返し回数:\",i2)\n",
    "print(\"極小値:x=\",x2)\n",
    "ani = animation.ArtistAnimation(fig, ims, interval=100)\n",
    "#ani.save('x^2.gif', writer='imagemagick')\n",
    "plt.plot()"
   ]
  },
  {
   "attachments": {},
   "cell_type": "markdown",
   "metadata": {},
   "source": [
    "あまりに収束が早過ぎるために止まっているように見えるかもしれないが，これがニュートン法を使う場合の大きなメリットになる．<br>\n",
    "ただし，実用上は二階微分を必要とするという部分がネックとなり，勾配法の方が利用される場合もある．<br>\n",
    "そのため，目的関数によって適切な最適化手法を選択する必要がある．"
   ]
  },
  {
   "attachments": {},
   "cell_type": "markdown",
   "metadata": {},
   "source": [
    "### 3.5.3 フルスクラッチの実装"
   ]
  },
  {
   "attachments": {},
   "cell_type": "markdown",
   "metadata": {},
   "source": [
    "今までの話を踏まえて，フルスクラッチでロジスティック回帰の実装を行ってみよう．<br>\n",
    "コメント文に従ってコードの補間を行えばうまく動くはずである．"
   ]
  },
  {
   "attachments": {},
   "cell_type": "markdown",
   "metadata": {},
   "source": [
    "### 課題3 ロジスティック回帰の実装\n",
    "#### 1 fit関数を完成させることで再急降下法を用いたパラメータ推定を行えるようにせよ．<br>\n",
    "今回求めたいのは以下における$\\mathbf w,w_0$の値である．<br>\n",
    "$t_n=\\sigma(\\mathbf w^{\\mathrm T} \\mathbf x_n + w_0)$<br>\n",
    "式の簡略化のために今回は$w_0$と$\\mathbf w$を区別せずに，$\\mathbf W$として$w_0$と$\\mathbf w$を結合したものを考える．<br>\n",
    "つまり，$\\mathbf W=\\{w_0,\\mathbf w\\}$といった形である．<br>\n",
    "また，通常はm個の特徴量をx_nが持つとき，$\\mathbf x_n=\\{x_1,\\cdots,x_m\\}$となる．<br>\n",
    "ここで，先頭に$1$を追加して$\\mathbf x_n=\\{1,x_1,\\cdots,x_m\\}$と定義しなおすこととする．<br>\n",
    "これにより，以下のように簡単な形で$t_n$を表記できるようになる．<br>\n",
    "$t_n=\\sigma(\\mathbf W^{\\mathrm T} \\mathbf x_n)$<br>\n",
    "再急降下法におけるパラメータ更新式は以下のとおりである．(なぜこうなるのかは式変形を試してみよ)<br>\n",
    "$\\mathbf{W}^{[t+1]} = \\mathbf{W}^{[t]}- \\eta \\mathbf X^{\\mathrm T}(\\mathbf y-\\mathbf t)$<br>\n",
    "**このとき，$\\mathbf X=\\{\\mathbf x_n\\},\\mathbf y=\\{y_n\\},\\mathbf t=\\{t_n\\}$である．**<br>\n",
    "#### 2 **[オプション課題]** newton_fit関数を完成させることでニュートン法を用いたパラメータ推定を行えるようにせよ．<br>\n",
    "ニュートン法におけるパラメータ更新式は以下のとおりである．(なぜこうなるのかは式変形を試してみよ)<br>\n",
    "$\\mathbf{W}^{[t+1]} = \\mathbf{W}^{[t]}- H^{-1}\\mathbf X^{\\mathrm T}(\\mathbf y-\\mathbf t)$<br>\n",
    "ここで$H$は以下のとおりである．<br>\n",
    "$H=X^{T}\\begin{pmatrix}\n",
    "  t_1(1-t_1)                                                \\\\\n",
    "         & t_2(1-t_2)           &        & \\text{\\huge{0}}   \\\\\n",
    "         &                 & \\ddots                     \\\\\n",
    "         & \\text{\\huge{0}} &        & \\ddots            \\\\\n",
    "         &                 &        &           & t_n(1-t_n) \n",
    "\\end{pmatrix}X$"
   ]
  },
  {
   "cell_type": "code",
   "execution_count": 9,
   "metadata": {},
   "outputs": [],
   "source": [
    "%matplotlib notebook\n",
    "import numpy as np\n",
    "import matplotlib.pyplot as plt\n",
    "from matplotlib import animation\n",
    "from copy import deepcopy\n",
    "class MyLogisticRegression:\n",
    "    \"\"\"ロジスティック回帰実行クラス\n",
    "\n",
    "    Attributes\n",
    "    ----------\n",
    "    eta : float\n",
    "        学習率\n",
    "    epoch : int\n",
    "        エポック数\n",
    "    random_state : int\n",
    "        乱数シード\n",
    "    is_trained : bool\n",
    "        学習完了フラグ\n",
    "    num_samples : int\n",
    "        学習データのサンプル数\n",
    "    num_features : int\n",
    "        特徴量の数\n",
    "    w : NDArray[float]\n",
    "        パラメータベクトル\n",
    "    costs : NDArray[float]\n",
    "        各エポックでの損失関数の値の履歴\n",
    "    W: list\n",
    "        各エポックでのパラメータベクトルの履歴（グラフ描画用）\n",
    "\n",
    "    Methods\n",
    "    -------\n",
    "    fit -> None\n",
    "        学習データについてパラメータベクトルを適合させる\n",
    "    predict -> NDArray[int]\n",
    "        予測値を返却する\n",
    "    \"\"\"\n",
    "    def __init__(self, eta=0.01, epsilon=0.05, random_state=42):\n",
    "        self.eta = eta\n",
    "        self.epsilon = epsilon\n",
    "        self.random_state = random_state\n",
    "        self.is_trained = False\n",
    "\n",
    "    def fit(self, X, y):\n",
    "        \"\"\"\n",
    "        学習データについてパラメータベクトルを適合させる\n",
    "\n",
    "        Parameters\n",
    "        ----------\n",
    "        X : NDArray[NDArray[float]]\n",
    "            学習データ: (num_samples, num_features)の行列\n",
    "        y : NDArray[int]\n",
    "            学習データの教師ラベル: (num_features, )のndarray\n",
    "        \"\"\"\n",
    "        self.num_samples = X.shape[0]  # サンプル数\n",
    "        self.num_features = X.shape[1]  # 特徴量の数\n",
    "        \n",
    "        # 乱数生成器\n",
    "        rgen = np.random.RandomState(self.random_state)\n",
    "        \n",
    "        # 正規乱数を用いてパラメータベクトルを初期化\n",
    "        self.w = rgen.normal(loc=0.0, scale=0.01, size=1+self.num_features)\n",
    "        self.W = []  # 各エポックでのパラメータベクトルの値を格納する配列\n",
    "        \n",
    "        net_input = self._net_input(X)\n",
    "        output = self._activation(net_input)\n",
    "        self.costs = [(-y @ np.log(output)) - ((1-y) @ np.log(1-output))]  # 各エポックでの損失関数の値を格納する配列\n",
    "        #xの先頭に1を追加する\n",
    "        Xd=np.hstack((np.ones((self.num_samples,1)),X))\n",
    "        # パラメータベクトルの更新\n",
    "        while True:\n",
    "            \n",
    "            \n",
    "            # 式(2)\n",
    "            self.w+= self.eta * Xd.T @ (y - output)\n",
    "            \n",
    "            net_input = self._net_input(X)\n",
    "            output = self._activation(net_input)\n",
    "            \n",
    "            # 損失関数: 式(1.3)\n",
    "            cost = (-y @ np.log(output)) - ((1-y) @ np.log(1-output))\n",
    "\n",
    "            if abs(self.costs[-1]-cost)<self.epsilon:\n",
    "                break\n",
    "                \n",
    "            self.costs.append(cost)\n",
    "            #本来は必要ないが，グラフの描画用\n",
    "            self.W.append(deepcopy(self.w))\n",
    "            \n",
    "        # 学習完了のフラグを立てる\n",
    "        self.is_trained = True\n",
    "    \n",
    "    #ニュートン法を用いたパラメータ推定\n",
    "    def newton_fit(self, X, y):\n",
    "        \"\"\"\n",
    "        学習データについてパラメータベクトルを適合させる\n",
    "\n",
    "        Parameters\n",
    "        ----------\n",
    "        X : NDArray[NDArray[float]]\n",
    "            学習データ: (num_samples, num_features)の行列\n",
    "        y : NDArray[int]\n",
    "            学習データの教師ラベル: (num_features, )のndarray\n",
    "        \"\"\"\n",
    "        self.num_samples = X.shape[0]  # サンプル数\n",
    "        self.num_features = X.shape[1]  # 特徴量の数\n",
    "        \n",
    "        # 乱数生成器\n",
    "        rgen = np.random.RandomState(self.random_state)\n",
    "        \n",
    "        # 正規乱数を用いてパラメータベクトルを初期化\n",
    "        self.w = rgen.normal(loc=0.0, scale=0.01, size=1+self.num_features)\n",
    "        self.W = []  # 各エポックでのパラメータベクトルの値を格納する配列\n",
    "        \n",
    "        net_input = self._net_input(X)\n",
    "        output = self._activation(net_input)\n",
    "        self.costs = [(-y @ np.log(output)) - ((1-y) @ np.log(1-output))]  # 各エポックでの損失関数の値を格納する配列\n",
    "        \n",
    "        #xの先頭に1を追加する\n",
    "        Xd=np.hstack((np.ones((self.num_samples,1)),X))\n",
    "        # パラメータベクトルの更新\n",
    "        while True:\n",
    "            \n",
    "            H = Xd.T@np.diag(output*(np.ones(len(output))-output))@Xd\n",
    "            H_inv = np.linalg.inv(H)\n",
    "            # 式(2)\n",
    "            self.w += H_inv@ Xd.T @ (y - output)\n",
    "            \n",
    "            net_input = self._net_input(X)\n",
    "            output = self._activation(net_input)\n",
    "            \n",
    "            # 損失関数: 式(1)\n",
    "            cost = (-y @ np.log(output)) - ((1-y) @ np.log(1-output))\n",
    "\n",
    "            if abs(self.costs[-1]-cost)<self.epsilon:\n",
    "                break\n",
    "                \n",
    "            self.costs.append(cost)\n",
    "            #本来は必要ないが，グラフの描画用\n",
    "            self.W.append(deepcopy(self.w))\n",
    "            \n",
    "        # 学習完了のフラグを立てる\n",
    "        self.is_trained = True\n",
    "        \n",
    "    def predict(self, X):\n",
    "        \"\"\"\n",
    "        予測値を返却する\n",
    "\n",
    "        Parameters\n",
    "        ----------\n",
    "        X : NDArray[NDArray[float]]\n",
    "            予測するデータ: (any, num_features)の行列\n",
    "\n",
    "        Returens\n",
    "        -----------\n",
    "        NDArray[int]\n",
    "            0 or 1 (any, )のndarray\n",
    "        \"\"\"\n",
    "        if not self.is_trained:\n",
    "            raise Exception('This model is not trained.')\n",
    "        return np.where(self._activation(self._net_input(X)) >= 0.5, 1, 0)\n",
    "\n",
    "    def _net_input(self, X):\n",
    "        \"\"\"\n",
    "        データとパラメータベクトルの内積を計算する\n",
    "\n",
    "        Parameters\n",
    "        --------------\n",
    "        X : NDArray[NDArray[float]]\n",
    "            データ: (any, num_features)の行列\n",
    "\n",
    "        Returns\n",
    "        -------\n",
    "        NDArray[float]\n",
    "            データとパラメータベクトルの内積の値\n",
    "        \"\"\"\n",
    "        return X @ self.w[1:] + self.w[0]\n",
    "\n",
    "    def _activation(self, z):\n",
    "        \"\"\"\n",
    "        活性化関数（シグモイド関数）\n",
    "\n",
    "        Parameters\n",
    "        ----------\n",
    "        z : NDArray[float]\n",
    "            (any, )のndarray\n",
    "\n",
    "        Returns\n",
    "        -------\n",
    "        NDArray[float]\n",
    "            各成分に活性化関数を適応した (any, )のndarray\n",
    "        \"\"\"\n",
    "        return 1 / (1 + np.exp(-z))"
   ]
  },
  {
   "attachments": {},
   "cell_type": "markdown",
   "metadata": {},
   "source": [
    "### 3.5.4 作成したモデルのテスト"
   ]
  },
  {
   "attachments": {},
   "cell_type": "markdown",
   "metadata": {},
   "source": [
    "実装したモデルが正しく動くかどうか実際に動かしてみよう．<br>\n",
    "scikit-learnと同じような挙動が得られていれば実装成功である．<br>\n",
    "(scikit-learn準拠でコーディングされている必要はない)"
   ]
  },
  {
   "cell_type": "code",
   "execution_count": 10,
   "metadata": {},
   "outputs": [],
   "source": [
    "%matplotlib notebook\n",
    "import pandas as pd\n",
    "from sklearn.datasets import load_iris\n",
    "from sklearn.linear_model import LogisticRegression\n",
    "from sklearn.model_selection import train_test_split\n",
    "from sklearn import metrics\n",
    "data = load_iris()\n",
    "X = pd.DataFrame(data.data, columns=data.feature_names)\n",
    "y = pd.DataFrame(data.target, columns=['Species'])\n",
    "df = pd.concat([X, y], axis=1)\n",
    "# 品種 setosa、versicolorを抽出\n",
    "df = df[(df['Species']==0) | (df['Species']==1)]\n",
    "# 説明変数\n",
    "X = df.iloc[:, [2,3]]\n",
    "# 目的変数\n",
    "y = df.iloc[:, 4]\n",
    "# 学習データと検証データを分割\n",
    "X_train, X_test, y_train, y_test = train_test_split(X, y, random_state=0)"
   ]
  },
  {
   "attachments": {},
   "cell_type": "markdown",
   "metadata": {},
   "source": [
    "まずは最急降下法である．"
   ]
  },
  {
   "cell_type": "code",
   "execution_count": 11,
   "metadata": {},
   "outputs": [
    {
     "name": "stdout",
     "output_type": "stream",
     "text": [
      "1.0\n"
     ]
    }
   ],
   "source": [
    "model = MyLogisticRegression()\n",
    "model.fit(X_train, y_train)\n",
    "y_pred = model.predict(X_test)\n",
    "print(metrics.accuracy_score(y_test, y_pred))"
   ]
  },
  {
   "cell_type": "code",
   "execution_count": 12,
   "metadata": {},
   "outputs": [
    {
     "data": {
      "application/javascript": "/* Put everything inside the global mpl namespace */\n/* global mpl */\nwindow.mpl = {};\n\nmpl.get_websocket_type = function () {\n    if (typeof WebSocket !== 'undefined') {\n        return WebSocket;\n    } else if (typeof MozWebSocket !== 'undefined') {\n        return MozWebSocket;\n    } else {\n        alert(\n            'Your browser does not have WebSocket support. ' +\n                'Please try Chrome, Safari or Firefox ≥ 6. ' +\n                'Firefox 4 and 5 are also supported but you ' +\n                'have to enable WebSockets in about:config.'\n        );\n    }\n};\n\nmpl.figure = function (figure_id, websocket, ondownload, parent_element) {\n    this.id = figure_id;\n\n    this.ws = websocket;\n\n    this.supports_binary = this.ws.binaryType !== undefined;\n\n    if (!this.supports_binary) {\n        var warnings = document.getElementById('mpl-warnings');\n        if (warnings) {\n            warnings.style.display = 'block';\n            warnings.textContent =\n                'This browser does not support binary websocket messages. ' +\n                'Performance may be slow.';\n        }\n    }\n\n    this.imageObj = new Image();\n\n    this.context = undefined;\n    this.message = undefined;\n    this.canvas = undefined;\n    this.rubberband_canvas = undefined;\n    this.rubberband_context = undefined;\n    this.format_dropdown = undefined;\n\n    this.image_mode = 'full';\n\n    this.root = document.createElement('div');\n    this.root.setAttribute('style', 'display: inline-block');\n    this._root_extra_style(this.root);\n\n    parent_element.appendChild(this.root);\n\n    this._init_header(this);\n    this._init_canvas(this);\n    this._init_toolbar(this);\n\n    var fig = this;\n\n    this.waiting = false;\n\n    this.ws.onopen = function () {\n        fig.send_message('supports_binary', { value: fig.supports_binary });\n        fig.send_message('send_image_mode', {});\n        if (fig.ratio !== 1) {\n            fig.send_message('set_device_pixel_ratio', {\n                device_pixel_ratio: fig.ratio,\n            });\n        }\n        fig.send_message('refresh', {});\n    };\n\n    this.imageObj.onload = function () {\n        if (fig.image_mode === 'full') {\n            // Full images could contain transparency (where diff images\n            // almost always do), so we need to clear the canvas so that\n            // there is no ghosting.\n            fig.context.clearRect(0, 0, fig.canvas.width, fig.canvas.height);\n        }\n        fig.context.drawImage(fig.imageObj, 0, 0);\n    };\n\n    this.imageObj.onunload = function () {\n        fig.ws.close();\n    };\n\n    this.ws.onmessage = this._make_on_message_function(this);\n\n    this.ondownload = ondownload;\n};\n\nmpl.figure.prototype._init_header = function () {\n    var titlebar = document.createElement('div');\n    titlebar.classList =\n        'ui-dialog-titlebar ui-widget-header ui-corner-all ui-helper-clearfix';\n    var titletext = document.createElement('div');\n    titletext.classList = 'ui-dialog-title';\n    titletext.setAttribute(\n        'style',\n        'width: 100%; text-align: center; padding: 3px;'\n    );\n    titlebar.appendChild(titletext);\n    this.root.appendChild(titlebar);\n    this.header = titletext;\n};\n\nmpl.figure.prototype._canvas_extra_style = function (_canvas_div) {};\n\nmpl.figure.prototype._root_extra_style = function (_canvas_div) {};\n\nmpl.figure.prototype._init_canvas = function () {\n    var fig = this;\n\n    var canvas_div = (this.canvas_div = document.createElement('div'));\n    canvas_div.setAttribute('tabindex', '0');\n    canvas_div.setAttribute(\n        'style',\n        'border: 1px solid #ddd;' +\n            'box-sizing: content-box;' +\n            'clear: both;' +\n            'min-height: 1px;' +\n            'min-width: 1px;' +\n            'outline: 0;' +\n            'overflow: hidden;' +\n            'position: relative;' +\n            'resize: both;' +\n            'z-index: 2;'\n    );\n\n    function on_keyboard_event_closure(name) {\n        return function (event) {\n            return fig.key_event(event, name);\n        };\n    }\n\n    canvas_div.addEventListener(\n        'keydown',\n        on_keyboard_event_closure('key_press')\n    );\n    canvas_div.addEventListener(\n        'keyup',\n        on_keyboard_event_closure('key_release')\n    );\n\n    this._canvas_extra_style(canvas_div);\n    this.root.appendChild(canvas_div);\n\n    var canvas = (this.canvas = document.createElement('canvas'));\n    canvas.classList.add('mpl-canvas');\n    canvas.setAttribute(\n        'style',\n        'box-sizing: content-box;' +\n            'pointer-events: none;' +\n            'position: relative;' +\n            'z-index: 0;'\n    );\n\n    this.context = canvas.getContext('2d');\n\n    var backingStore =\n        this.context.backingStorePixelRatio ||\n        this.context.webkitBackingStorePixelRatio ||\n        this.context.mozBackingStorePixelRatio ||\n        this.context.msBackingStorePixelRatio ||\n        this.context.oBackingStorePixelRatio ||\n        this.context.backingStorePixelRatio ||\n        1;\n\n    this.ratio = (window.devicePixelRatio || 1) / backingStore;\n\n    var rubberband_canvas = (this.rubberband_canvas = document.createElement(\n        'canvas'\n    ));\n    rubberband_canvas.setAttribute(\n        'style',\n        'box-sizing: content-box;' +\n            'left: 0;' +\n            'pointer-events: none;' +\n            'position: absolute;' +\n            'top: 0;' +\n            'z-index: 1;'\n    );\n\n    // Apply a ponyfill if ResizeObserver is not implemented by browser.\n    if (this.ResizeObserver === undefined) {\n        if (window.ResizeObserver !== undefined) {\n            this.ResizeObserver = window.ResizeObserver;\n        } else {\n            var obs = _JSXTOOLS_RESIZE_OBSERVER({});\n            this.ResizeObserver = obs.ResizeObserver;\n        }\n    }\n\n    this.resizeObserverInstance = new this.ResizeObserver(function (entries) {\n        var nentries = entries.length;\n        for (var i = 0; i < nentries; i++) {\n            var entry = entries[i];\n            var width, height;\n            if (entry.contentBoxSize) {\n                if (entry.contentBoxSize instanceof Array) {\n                    // Chrome 84 implements new version of spec.\n                    width = entry.contentBoxSize[0].inlineSize;\n                    height = entry.contentBoxSize[0].blockSize;\n                } else {\n                    // Firefox implements old version of spec.\n                    width = entry.contentBoxSize.inlineSize;\n                    height = entry.contentBoxSize.blockSize;\n                }\n            } else {\n                // Chrome <84 implements even older version of spec.\n                width = entry.contentRect.width;\n                height = entry.contentRect.height;\n            }\n\n            // Keep the size of the canvas and rubber band canvas in sync with\n            // the canvas container.\n            if (entry.devicePixelContentBoxSize) {\n                // Chrome 84 implements new version of spec.\n                canvas.setAttribute(\n                    'width',\n                    entry.devicePixelContentBoxSize[0].inlineSize\n                );\n                canvas.setAttribute(\n                    'height',\n                    entry.devicePixelContentBoxSize[0].blockSize\n                );\n            } else {\n                canvas.setAttribute('width', width * fig.ratio);\n                canvas.setAttribute('height', height * fig.ratio);\n            }\n            /* This rescales the canvas back to display pixels, so that it\n             * appears correct on HiDPI screens. */\n            canvas.style.width = width + 'px';\n            canvas.style.height = height + 'px';\n\n            rubberband_canvas.setAttribute('width', width);\n            rubberband_canvas.setAttribute('height', height);\n\n            // And update the size in Python. We ignore the initial 0/0 size\n            // that occurs as the element is placed into the DOM, which should\n            // otherwise not happen due to the minimum size styling.\n            if (fig.ws.readyState == 1 && width != 0 && height != 0) {\n                fig.request_resize(width, height);\n            }\n        }\n    });\n    this.resizeObserverInstance.observe(canvas_div);\n\n    function on_mouse_event_closure(name) {\n        /* User Agent sniffing is bad, but WebKit is busted:\n         * https://bugs.webkit.org/show_bug.cgi?id=144526\n         * https://bugs.webkit.org/show_bug.cgi?id=181818\n         * The worst that happens here is that they get an extra browser\n         * selection when dragging, if this check fails to catch them.\n         */\n        var UA = navigator.userAgent;\n        var isWebKit = /AppleWebKit/.test(UA) && !/Chrome/.test(UA);\n        if(isWebKit) {\n            return function (event) {\n                /* This prevents the web browser from automatically changing to\n                 * the text insertion cursor when the button is pressed. We\n                 * want to control all of the cursor setting manually through\n                 * the 'cursor' event from matplotlib */\n                event.preventDefault()\n                return fig.mouse_event(event, name);\n            };\n        } else {\n            return function (event) {\n                return fig.mouse_event(event, name);\n            };\n        }\n    }\n\n    canvas_div.addEventListener(\n        'mousedown',\n        on_mouse_event_closure('button_press')\n    );\n    canvas_div.addEventListener(\n        'mouseup',\n        on_mouse_event_closure('button_release')\n    );\n    canvas_div.addEventListener(\n        'dblclick',\n        on_mouse_event_closure('dblclick')\n    );\n    // Throttle sequential mouse events to 1 every 20ms.\n    canvas_div.addEventListener(\n        'mousemove',\n        on_mouse_event_closure('motion_notify')\n    );\n\n    canvas_div.addEventListener(\n        'mouseenter',\n        on_mouse_event_closure('figure_enter')\n    );\n    canvas_div.addEventListener(\n        'mouseleave',\n        on_mouse_event_closure('figure_leave')\n    );\n\n    canvas_div.addEventListener('wheel', function (event) {\n        if (event.deltaY < 0) {\n            event.step = 1;\n        } else {\n            event.step = -1;\n        }\n        on_mouse_event_closure('scroll')(event);\n    });\n\n    canvas_div.appendChild(canvas);\n    canvas_div.appendChild(rubberband_canvas);\n\n    this.rubberband_context = rubberband_canvas.getContext('2d');\n    this.rubberband_context.strokeStyle = '#000000';\n\n    this._resize_canvas = function (width, height, forward) {\n        if (forward) {\n            canvas_div.style.width = width + 'px';\n            canvas_div.style.height = height + 'px';\n        }\n    };\n\n    // Disable right mouse context menu.\n    canvas_div.addEventListener('contextmenu', function (_e) {\n        event.preventDefault();\n        return false;\n    });\n\n    function set_focus() {\n        canvas.focus();\n        canvas_div.focus();\n    }\n\n    window.setTimeout(set_focus, 100);\n};\n\nmpl.figure.prototype._init_toolbar = function () {\n    var fig = this;\n\n    var toolbar = document.createElement('div');\n    toolbar.classList = 'mpl-toolbar';\n    this.root.appendChild(toolbar);\n\n    function on_click_closure(name) {\n        return function (_event) {\n            return fig.toolbar_button_onclick(name);\n        };\n    }\n\n    function on_mouseover_closure(tooltip) {\n        return function (event) {\n            if (!event.currentTarget.disabled) {\n                return fig.toolbar_button_onmouseover(tooltip);\n            }\n        };\n    }\n\n    fig.buttons = {};\n    var buttonGroup = document.createElement('div');\n    buttonGroup.classList = 'mpl-button-group';\n    for (var toolbar_ind in mpl.toolbar_items) {\n        var name = mpl.toolbar_items[toolbar_ind][0];\n        var tooltip = mpl.toolbar_items[toolbar_ind][1];\n        var image = mpl.toolbar_items[toolbar_ind][2];\n        var method_name = mpl.toolbar_items[toolbar_ind][3];\n\n        if (!name) {\n            /* Instead of a spacer, we start a new button group. */\n            if (buttonGroup.hasChildNodes()) {\n                toolbar.appendChild(buttonGroup);\n            }\n            buttonGroup = document.createElement('div');\n            buttonGroup.classList = 'mpl-button-group';\n            continue;\n        }\n\n        var button = (fig.buttons[name] = document.createElement('button'));\n        button.classList = 'mpl-widget';\n        button.setAttribute('role', 'button');\n        button.setAttribute('aria-disabled', 'false');\n        button.addEventListener('click', on_click_closure(method_name));\n        button.addEventListener('mouseover', on_mouseover_closure(tooltip));\n\n        var icon_img = document.createElement('img');\n        icon_img.src = '_images/' + image + '.png';\n        icon_img.srcset = '_images/' + image + '_large.png 2x';\n        icon_img.alt = tooltip;\n        button.appendChild(icon_img);\n\n        buttonGroup.appendChild(button);\n    }\n\n    if (buttonGroup.hasChildNodes()) {\n        toolbar.appendChild(buttonGroup);\n    }\n\n    var fmt_picker = document.createElement('select');\n    fmt_picker.classList = 'mpl-widget';\n    toolbar.appendChild(fmt_picker);\n    this.format_dropdown = fmt_picker;\n\n    for (var ind in mpl.extensions) {\n        var fmt = mpl.extensions[ind];\n        var option = document.createElement('option');\n        option.selected = fmt === mpl.default_extension;\n        option.innerHTML = fmt;\n        fmt_picker.appendChild(option);\n    }\n\n    var status_bar = document.createElement('span');\n    status_bar.classList = 'mpl-message';\n    toolbar.appendChild(status_bar);\n    this.message = status_bar;\n};\n\nmpl.figure.prototype.request_resize = function (x_pixels, y_pixels) {\n    // Request matplotlib to resize the figure. Matplotlib will then trigger a resize in the client,\n    // which will in turn request a refresh of the image.\n    this.send_message('resize', { width: x_pixels, height: y_pixels });\n};\n\nmpl.figure.prototype.send_message = function (type, properties) {\n    properties['type'] = type;\n    properties['figure_id'] = this.id;\n    this.ws.send(JSON.stringify(properties));\n};\n\nmpl.figure.prototype.send_draw_message = function () {\n    if (!this.waiting) {\n        this.waiting = true;\n        this.ws.send(JSON.stringify({ type: 'draw', figure_id: this.id }));\n    }\n};\n\nmpl.figure.prototype.handle_save = function (fig, _msg) {\n    var format_dropdown = fig.format_dropdown;\n    var format = format_dropdown.options[format_dropdown.selectedIndex].value;\n    fig.ondownload(fig, format);\n};\n\nmpl.figure.prototype.handle_resize = function (fig, msg) {\n    var size = msg['size'];\n    if (size[0] !== fig.canvas.width || size[1] !== fig.canvas.height) {\n        fig._resize_canvas(size[0], size[1], msg['forward']);\n        fig.send_message('refresh', {});\n    }\n};\n\nmpl.figure.prototype.handle_rubberband = function (fig, msg) {\n    var x0 = msg['x0'] / fig.ratio;\n    var y0 = (fig.canvas.height - msg['y0']) / fig.ratio;\n    var x1 = msg['x1'] / fig.ratio;\n    var y1 = (fig.canvas.height - msg['y1']) / fig.ratio;\n    x0 = Math.floor(x0) + 0.5;\n    y0 = Math.floor(y0) + 0.5;\n    x1 = Math.floor(x1) + 0.5;\n    y1 = Math.floor(y1) + 0.5;\n    var min_x = Math.min(x0, x1);\n    var min_y = Math.min(y0, y1);\n    var width = Math.abs(x1 - x0);\n    var height = Math.abs(y1 - y0);\n\n    fig.rubberband_context.clearRect(\n        0,\n        0,\n        fig.canvas.width / fig.ratio,\n        fig.canvas.height / fig.ratio\n    );\n\n    fig.rubberband_context.strokeRect(min_x, min_y, width, height);\n};\n\nmpl.figure.prototype.handle_figure_label = function (fig, msg) {\n    // Updates the figure title.\n    fig.header.textContent = msg['label'];\n};\n\nmpl.figure.prototype.handle_cursor = function (fig, msg) {\n    fig.canvas_div.style.cursor = msg['cursor'];\n};\n\nmpl.figure.prototype.handle_message = function (fig, msg) {\n    fig.message.textContent = msg['message'];\n};\n\nmpl.figure.prototype.handle_draw = function (fig, _msg) {\n    // Request the server to send over a new figure.\n    fig.send_draw_message();\n};\n\nmpl.figure.prototype.handle_image_mode = function (fig, msg) {\n    fig.image_mode = msg['mode'];\n};\n\nmpl.figure.prototype.handle_history_buttons = function (fig, msg) {\n    for (var key in msg) {\n        if (!(key in fig.buttons)) {\n            continue;\n        }\n        fig.buttons[key].disabled = !msg[key];\n        fig.buttons[key].setAttribute('aria-disabled', !msg[key]);\n    }\n};\n\nmpl.figure.prototype.handle_navigate_mode = function (fig, msg) {\n    if (msg['mode'] === 'PAN') {\n        fig.buttons['Pan'].classList.add('active');\n        fig.buttons['Zoom'].classList.remove('active');\n    } else if (msg['mode'] === 'ZOOM') {\n        fig.buttons['Pan'].classList.remove('active');\n        fig.buttons['Zoom'].classList.add('active');\n    } else {\n        fig.buttons['Pan'].classList.remove('active');\n        fig.buttons['Zoom'].classList.remove('active');\n    }\n};\n\nmpl.figure.prototype.updated_canvas_event = function () {\n    // Called whenever the canvas gets updated.\n    this.send_message('ack', {});\n};\n\n// A function to construct a web socket function for onmessage handling.\n// Called in the figure constructor.\nmpl.figure.prototype._make_on_message_function = function (fig) {\n    return function socket_on_message(evt) {\n        if (evt.data instanceof Blob) {\n            var img = evt.data;\n            if (img.type !== 'image/png') {\n                /* FIXME: We get \"Resource interpreted as Image but\n                 * transferred with MIME type text/plain:\" errors on\n                 * Chrome.  But how to set the MIME type?  It doesn't seem\n                 * to be part of the websocket stream */\n                img.type = 'image/png';\n            }\n\n            /* Free the memory for the previous frames */\n            if (fig.imageObj.src) {\n                (window.URL || window.webkitURL).revokeObjectURL(\n                    fig.imageObj.src\n                );\n            }\n\n            fig.imageObj.src = (window.URL || window.webkitURL).createObjectURL(\n                img\n            );\n            fig.updated_canvas_event();\n            fig.waiting = false;\n            return;\n        } else if (\n            typeof evt.data === 'string' &&\n            evt.data.slice(0, 21) === 'data:image/png;base64'\n        ) {\n            fig.imageObj.src = evt.data;\n            fig.updated_canvas_event();\n            fig.waiting = false;\n            return;\n        }\n\n        var msg = JSON.parse(evt.data);\n        var msg_type = msg['type'];\n\n        // Call the  \"handle_{type}\" callback, which takes\n        // the figure and JSON message as its only arguments.\n        try {\n            var callback = fig['handle_' + msg_type];\n        } catch (e) {\n            console.log(\n                \"No handler for the '\" + msg_type + \"' message type: \",\n                msg\n            );\n            return;\n        }\n\n        if (callback) {\n            try {\n                // console.log(\"Handling '\" + msg_type + \"' message: \", msg);\n                callback(fig, msg);\n            } catch (e) {\n                console.log(\n                    \"Exception inside the 'handler_\" + msg_type + \"' callback:\",\n                    e,\n                    e.stack,\n                    msg\n                );\n            }\n        }\n    };\n};\n\nfunction getModifiers(event) {\n    var mods = [];\n    if (event.ctrlKey) {\n        mods.push('ctrl');\n    }\n    if (event.altKey) {\n        mods.push('alt');\n    }\n    if (event.shiftKey) {\n        mods.push('shift');\n    }\n    if (event.metaKey) {\n        mods.push('meta');\n    }\n    return mods;\n}\n\n/*\n * return a copy of an object with only non-object keys\n * we need this to avoid circular references\n * https://stackoverflow.com/a/24161582/3208463\n */\nfunction simpleKeys(original) {\n    return Object.keys(original).reduce(function (obj, key) {\n        if (typeof original[key] !== 'object') {\n            obj[key] = original[key];\n        }\n        return obj;\n    }, {});\n}\n\nmpl.figure.prototype.mouse_event = function (event, name) {\n    if (name === 'button_press') {\n        this.canvas.focus();\n        this.canvas_div.focus();\n    }\n\n    // from https://stackoverflow.com/q/1114465\n    var boundingRect = this.canvas.getBoundingClientRect();\n    var x = (event.clientX - boundingRect.left) * this.ratio;\n    var y = (event.clientY - boundingRect.top) * this.ratio;\n\n    this.send_message(name, {\n        x: x,\n        y: y,\n        button: event.button,\n        step: event.step,\n        modifiers: getModifiers(event),\n        guiEvent: simpleKeys(event),\n    });\n\n    return false;\n};\n\nmpl.figure.prototype._key_event_extra = function (_event, _name) {\n    // Handle any extra behaviour associated with a key event\n};\n\nmpl.figure.prototype.key_event = function (event, name) {\n    // Prevent repeat events\n    if (name === 'key_press') {\n        if (event.key === this._key) {\n            return;\n        } else {\n            this._key = event.key;\n        }\n    }\n    if (name === 'key_release') {\n        this._key = null;\n    }\n\n    var value = '';\n    if (event.ctrlKey && event.key !== 'Control') {\n        value += 'ctrl+';\n    }\n    else if (event.altKey && event.key !== 'Alt') {\n        value += 'alt+';\n    }\n    else if (event.shiftKey && event.key !== 'Shift') {\n        value += 'shift+';\n    }\n\n    value += 'k' + event.key;\n\n    this._key_event_extra(event, name);\n\n    this.send_message(name, { key: value, guiEvent: simpleKeys(event) });\n    return false;\n};\n\nmpl.figure.prototype.toolbar_button_onclick = function (name) {\n    if (name === 'download') {\n        this.handle_save(this, null);\n    } else {\n        this.send_message('toolbar_button', { name: name });\n    }\n};\n\nmpl.figure.prototype.toolbar_button_onmouseover = function (tooltip) {\n    this.message.textContent = tooltip;\n};\n\n///////////////// REMAINING CONTENT GENERATED BY embed_js.py /////////////////\n// prettier-ignore\nvar _JSXTOOLS_RESIZE_OBSERVER=function(A){var t,i=new WeakMap,n=new WeakMap,a=new WeakMap,r=new WeakMap,o=new Set;function s(e){if(!(this instanceof s))throw new TypeError(\"Constructor requires 'new' operator\");i.set(this,e)}function h(){throw new TypeError(\"Function is not a constructor\")}function c(e,t,i,n){e=0 in arguments?Number(arguments[0]):0,t=1 in arguments?Number(arguments[1]):0,i=2 in arguments?Number(arguments[2]):0,n=3 in arguments?Number(arguments[3]):0,this.right=(this.x=this.left=e)+(this.width=i),this.bottom=(this.y=this.top=t)+(this.height=n),Object.freeze(this)}function d(){t=requestAnimationFrame(d);var s=new WeakMap,p=new Set;o.forEach((function(t){r.get(t).forEach((function(i){var r=t instanceof window.SVGElement,o=a.get(t),d=r?0:parseFloat(o.paddingTop),f=r?0:parseFloat(o.paddingRight),l=r?0:parseFloat(o.paddingBottom),u=r?0:parseFloat(o.paddingLeft),g=r?0:parseFloat(o.borderTopWidth),m=r?0:parseFloat(o.borderRightWidth),w=r?0:parseFloat(o.borderBottomWidth),b=u+f,F=d+l,v=(r?0:parseFloat(o.borderLeftWidth))+m,W=g+w,y=r?0:t.offsetHeight-W-t.clientHeight,E=r?0:t.offsetWidth-v-t.clientWidth,R=b+v,z=F+W,M=r?t.width:parseFloat(o.width)-R-E,O=r?t.height:parseFloat(o.height)-z-y;if(n.has(t)){var k=n.get(t);if(k[0]===M&&k[1]===O)return}n.set(t,[M,O]);var S=Object.create(h.prototype);S.target=t,S.contentRect=new c(u,d,M,O),s.has(i)||(s.set(i,[]),p.add(i)),s.get(i).push(S)}))})),p.forEach((function(e){i.get(e).call(e,s.get(e),e)}))}return s.prototype.observe=function(i){if(i instanceof window.Element){r.has(i)||(r.set(i,new Set),o.add(i),a.set(i,window.getComputedStyle(i)));var n=r.get(i);n.has(this)||n.add(this),cancelAnimationFrame(t),t=requestAnimationFrame(d)}},s.prototype.unobserve=function(i){if(i instanceof window.Element&&r.has(i)){var n=r.get(i);n.has(this)&&(n.delete(this),n.size||(r.delete(i),o.delete(i))),n.size||r.delete(i),o.size||cancelAnimationFrame(t)}},A.DOMRectReadOnly=c,A.ResizeObserver=s,A.ResizeObserverEntry=h,A}; // eslint-disable-line\nmpl.toolbar_items = [[\"Home\", \"Reset original view\", \"fa fa-home\", \"home\"], [\"Back\", \"Back to previous view\", \"fa fa-arrow-left\", \"back\"], [\"Forward\", \"Forward to next view\", \"fa fa-arrow-right\", \"forward\"], [\"\", \"\", \"\", \"\"], [\"Pan\", \"Left button pans, Right button zooms\\nx/y fixes axis, CTRL fixes aspect\", \"fa fa-arrows\", \"pan\"], [\"Zoom\", \"Zoom to rectangle\\nx/y fixes axis\", \"fa fa-square-o\", \"zoom\"], [\"\", \"\", \"\", \"\"], [\"Download\", \"Download plot\", \"fa fa-floppy-o\", \"download\"]];\n\nmpl.extensions = [\"eps\", \"jpeg\", \"pgf\", \"pdf\", \"png\", \"ps\", \"raw\", \"svg\", \"tif\", \"webp\"];\n\nmpl.default_extension = \"png\";/* global mpl */\n\nvar comm_websocket_adapter = function (comm) {\n    // Create a \"websocket\"-like object which calls the given IPython comm\n    // object with the appropriate methods. Currently this is a non binary\n    // socket, so there is still some room for performance tuning.\n    var ws = {};\n\n    ws.binaryType = comm.kernel.ws.binaryType;\n    ws.readyState = comm.kernel.ws.readyState;\n    function updateReadyState(_event) {\n        if (comm.kernel.ws) {\n            ws.readyState = comm.kernel.ws.readyState;\n        } else {\n            ws.readyState = 3; // Closed state.\n        }\n    }\n    comm.kernel.ws.addEventListener('open', updateReadyState);\n    comm.kernel.ws.addEventListener('close', updateReadyState);\n    comm.kernel.ws.addEventListener('error', updateReadyState);\n\n    ws.close = function () {\n        comm.close();\n    };\n    ws.send = function (m) {\n        //console.log('sending', m);\n        comm.send(m);\n    };\n    // Register the callback with on_msg.\n    comm.on_msg(function (msg) {\n        //console.log('receiving', msg['content']['data'], msg);\n        var data = msg['content']['data'];\n        if (data['blob'] !== undefined) {\n            data = {\n                data: new Blob(msg['buffers'], { type: data['blob'] }),\n            };\n        }\n        // Pass the mpl event to the overridden (by mpl) onmessage function.\n        ws.onmessage(data);\n    });\n    return ws;\n};\n\nmpl.mpl_figure_comm = function (comm, msg) {\n    // This is the function which gets called when the mpl process\n    // starts-up an IPython Comm through the \"matplotlib\" channel.\n\n    var id = msg.content.data.id;\n    // Get hold of the div created by the display call when the Comm\n    // socket was opened in Python.\n    var element = document.getElementById(id);\n    var ws_proxy = comm_websocket_adapter(comm);\n\n    function ondownload(figure, _format) {\n        window.open(figure.canvas.toDataURL());\n    }\n\n    var fig = new mpl.figure(id, ws_proxy, ondownload, element);\n\n    // Call onopen now - mpl needs it, as it is assuming we've passed it a real\n    // web socket which is closed, not our websocket->open comm proxy.\n    ws_proxy.onopen();\n\n    fig.parent_element = element;\n    fig.cell_info = mpl.find_output_cell(\"<div id='\" + id + \"'></div>\");\n    if (!fig.cell_info) {\n        console.error('Failed to find cell for figure', id, fig);\n        return;\n    }\n    fig.cell_info[0].output_area.element.on(\n        'cleared',\n        { fig: fig },\n        fig._remove_fig_handler\n    );\n};\n\nmpl.figure.prototype.handle_close = function (fig, msg) {\n    var width = fig.canvas.width / fig.ratio;\n    fig.cell_info[0].output_area.element.off(\n        'cleared',\n        fig._remove_fig_handler\n    );\n    fig.resizeObserverInstance.unobserve(fig.canvas_div);\n\n    // Update the output cell to use the data from the current canvas.\n    fig.push_to_output();\n    var dataURL = fig.canvas.toDataURL();\n    // Re-enable the keyboard manager in IPython - without this line, in FF,\n    // the notebook keyboard shortcuts fail.\n    IPython.keyboard_manager.enable();\n    fig.parent_element.innerHTML =\n        '<img src=\"' + dataURL + '\" width=\"' + width + '\">';\n    fig.close_ws(fig, msg);\n};\n\nmpl.figure.prototype.close_ws = function (fig, msg) {\n    fig.send_message('closing', msg);\n    // fig.ws.close()\n};\n\nmpl.figure.prototype.push_to_output = function (_remove_interactive) {\n    // Turn the data on the canvas into data in the output cell.\n    var width = this.canvas.width / this.ratio;\n    var dataURL = this.canvas.toDataURL();\n    this.cell_info[1]['text/html'] =\n        '<img src=\"' + dataURL + '\" width=\"' + width + '\">';\n};\n\nmpl.figure.prototype.updated_canvas_event = function () {\n    // Tell IPython that the notebook contents must change.\n    IPython.notebook.set_dirty(true);\n    this.send_message('ack', {});\n    var fig = this;\n    // Wait a second, then push the new image to the DOM so\n    // that it is saved nicely (might be nice to debounce this).\n    setTimeout(function () {\n        fig.push_to_output();\n    }, 1000);\n};\n\nmpl.figure.prototype._init_toolbar = function () {\n    var fig = this;\n\n    var toolbar = document.createElement('div');\n    toolbar.classList = 'btn-toolbar';\n    this.root.appendChild(toolbar);\n\n    function on_click_closure(name) {\n        return function (_event) {\n            return fig.toolbar_button_onclick(name);\n        };\n    }\n\n    function on_mouseover_closure(tooltip) {\n        return function (event) {\n            if (!event.currentTarget.disabled) {\n                return fig.toolbar_button_onmouseover(tooltip);\n            }\n        };\n    }\n\n    fig.buttons = {};\n    var buttonGroup = document.createElement('div');\n    buttonGroup.classList = 'btn-group';\n    var button;\n    for (var toolbar_ind in mpl.toolbar_items) {\n        var name = mpl.toolbar_items[toolbar_ind][0];\n        var tooltip = mpl.toolbar_items[toolbar_ind][1];\n        var image = mpl.toolbar_items[toolbar_ind][2];\n        var method_name = mpl.toolbar_items[toolbar_ind][3];\n\n        if (!name) {\n            /* Instead of a spacer, we start a new button group. */\n            if (buttonGroup.hasChildNodes()) {\n                toolbar.appendChild(buttonGroup);\n            }\n            buttonGroup = document.createElement('div');\n            buttonGroup.classList = 'btn-group';\n            continue;\n        }\n\n        button = fig.buttons[name] = document.createElement('button');\n        button.classList = 'btn btn-default';\n        button.href = '#';\n        button.title = name;\n        button.innerHTML = '<i class=\"fa ' + image + ' fa-lg\"></i>';\n        button.addEventListener('click', on_click_closure(method_name));\n        button.addEventListener('mouseover', on_mouseover_closure(tooltip));\n        buttonGroup.appendChild(button);\n    }\n\n    if (buttonGroup.hasChildNodes()) {\n        toolbar.appendChild(buttonGroup);\n    }\n\n    // Add the status bar.\n    var status_bar = document.createElement('span');\n    status_bar.classList = 'mpl-message pull-right';\n    toolbar.appendChild(status_bar);\n    this.message = status_bar;\n\n    // Add the close button to the window.\n    var buttongrp = document.createElement('div');\n    buttongrp.classList = 'btn-group inline pull-right';\n    button = document.createElement('button');\n    button.classList = 'btn btn-mini btn-primary';\n    button.href = '#';\n    button.title = 'Stop Interaction';\n    button.innerHTML = '<i class=\"fa fa-power-off icon-remove icon-large\"></i>';\n    button.addEventListener('click', function (_evt) {\n        fig.handle_close(fig, {});\n    });\n    button.addEventListener(\n        'mouseover',\n        on_mouseover_closure('Stop Interaction')\n    );\n    buttongrp.appendChild(button);\n    var titlebar = this.root.querySelector('.ui-dialog-titlebar');\n    titlebar.insertBefore(buttongrp, titlebar.firstChild);\n};\n\nmpl.figure.prototype._remove_fig_handler = function (event) {\n    var fig = event.data.fig;\n    if (event.target !== this) {\n        // Ignore bubbled events from children.\n        return;\n    }\n    fig.close_ws(fig, {});\n};\n\nmpl.figure.prototype._root_extra_style = function (el) {\n    el.style.boxSizing = 'content-box'; // override notebook setting of border-box.\n};\n\nmpl.figure.prototype._canvas_extra_style = function (el) {\n    // this is important to make the div 'focusable\n    el.setAttribute('tabindex', 0);\n    // reach out to IPython and tell the keyboard manager to turn it's self\n    // off when our div gets focus\n\n    // location in version 3\n    if (IPython.notebook.keyboard_manager) {\n        IPython.notebook.keyboard_manager.register_events(el);\n    } else {\n        // location in version 2\n        IPython.keyboard_manager.register_events(el);\n    }\n};\n\nmpl.figure.prototype._key_event_extra = function (event, _name) {\n    // Check for shift+enter\n    if (event.shiftKey && event.which === 13) {\n        this.canvas_div.blur();\n        // select the cell after this one\n        var index = IPython.notebook.find_cell_index(this.cell_info[0]);\n        IPython.notebook.select(index + 1);\n    }\n};\n\nmpl.figure.prototype.handle_save = function (fig, _msg) {\n    fig.ondownload(fig, null);\n};\n\nmpl.find_output_cell = function (html_output) {\n    // Return the cell and output element which can be found *uniquely* in the notebook.\n    // Note - this is a bit hacky, but it is done because the \"notebook_saving.Notebook\"\n    // IPython event is triggered only after the cells have been serialised, which for\n    // our purposes (turning an active figure into a static one), is too late.\n    var cells = IPython.notebook.get_cells();\n    var ncells = cells.length;\n    for (var i = 0; i < ncells; i++) {\n        var cell = cells[i];\n        if (cell.cell_type === 'code') {\n            for (var j = 0; j < cell.output_area.outputs.length; j++) {\n                var data = cell.output_area.outputs[j];\n                if (data.data) {\n                    // IPython >= 3 moved mimebundle to data attribute of output\n                    data = data.data;\n                }\n                if (data['text/html'] === html_output) {\n                    return [cell, data, j];\n                }\n            }\n        }\n    }\n};\n\n// Register the function which deals with the matplotlib target/channel.\n// The kernel may be null if the page has been refreshed.\nif (IPython.notebook.kernel !== null) {\n    IPython.notebook.kernel.comm_manager.register_target(\n        'matplotlib',\n        mpl.mpl_figure_comm\n    );\n}\n",
      "text/plain": [
       "<IPython.core.display.Javascript object>"
      ]
     },
     "metadata": {},
     "output_type": "display_data"
    },
    {
     "data": {
      "text/html": [
       "<div id='02241398-a1df-4a3f-be65-a810027dbe10'></div>"
      ],
      "text/plain": [
       "<IPython.core.display.HTML object>"
      ]
     },
     "metadata": {},
     "output_type": "display_data"
    },
    {
     "name": "stdout",
     "output_type": "stream",
     "text": [
      "収束までの繰り返し回数: 96\n"
     ]
    },
    {
     "name": "stderr",
     "output_type": "stream",
     "text": [
      "c:\\Users\\field-lab\\anaconda3\\envs\\study\\lib\\site-packages\\matplotlib\\animation.py:884: UserWarning: Animation was deleted without rendering anything. This is most likely not intended. To prevent deletion, assign the Animation to a variable, e.g. `anim`, that exists until you output the Animation using `plt.show()` or `anim.save()`.\n",
      "  warnings.warn(\n"
     ]
    }
   ],
   "source": [
    "fig, ax = plt.subplots()\n",
    "ims = []\n",
    "ax.set_ylim(-0.25, 2)\n",
    "ax.set_xlabel(X.columns[0])\n",
    "ax.set_ylabel(X.columns[1])\n",
    "ax.scatter(X.iloc[:, 0][y==0], X.iloc[:, 1][y==0], color='lightskyblue', label=data.target_names[0])\n",
    "ax.scatter(X.iloc[:, 0][y==1], X.iloc[:, 1][y==1], color='sandybrown', label=data.target_names[1])\n",
    "for n,w in enumerate(model.W):\n",
    "    w_0,w_1,w_2 = w\n",
    "    x1 = np.linspace(0, 6, 30)\n",
    "    x2 = (-w_1 * x1 - w_0) / w_2\n",
    "    # 決定境界およびデータ点を描画\n",
    "    img = ax.plot(x1, x2, color='gray')\n",
    "    img2=ax.text(2.5, 2.1,f\"n={n}\")\n",
    "    ims.append(img+[img2])\n",
    "print(\"収束までの繰り返し回数:\",len(model.W))\n",
    "ani = animation.ArtistAnimation(fig, ims, interval=100)\n",
    "#ani.save('MyLogisticRegression.gif', writer='imagemagick')"
   ]
  },
  {
   "attachments": {},
   "cell_type": "markdown",
   "metadata": {},
   "source": [
    "続いてニュートン法を利用した場合"
   ]
  },
  {
   "cell_type": "code",
   "execution_count": 13,
   "metadata": {},
   "outputs": [
    {
     "name": "stdout",
     "output_type": "stream",
     "text": [
      "1.0\n"
     ]
    }
   ],
   "source": [
    "model = MyLogisticRegression()\n",
    "model.newton_fit(X_train, y_train)\n",
    "y_pred = model.predict(X_test)\n",
    "print(metrics.accuracy_score(y_test, y_pred))"
   ]
  },
  {
   "cell_type": "code",
   "execution_count": 14,
   "metadata": {},
   "outputs": [
    {
     "data": {
      "application/javascript": "/* Put everything inside the global mpl namespace */\n/* global mpl */\nwindow.mpl = {};\n\nmpl.get_websocket_type = function () {\n    if (typeof WebSocket !== 'undefined') {\n        return WebSocket;\n    } else if (typeof MozWebSocket !== 'undefined') {\n        return MozWebSocket;\n    } else {\n        alert(\n            'Your browser does not have WebSocket support. ' +\n                'Please try Chrome, Safari or Firefox ≥ 6. ' +\n                'Firefox 4 and 5 are also supported but you ' +\n                'have to enable WebSockets in about:config.'\n        );\n    }\n};\n\nmpl.figure = function (figure_id, websocket, ondownload, parent_element) {\n    this.id = figure_id;\n\n    this.ws = websocket;\n\n    this.supports_binary = this.ws.binaryType !== undefined;\n\n    if (!this.supports_binary) {\n        var warnings = document.getElementById('mpl-warnings');\n        if (warnings) {\n            warnings.style.display = 'block';\n            warnings.textContent =\n                'This browser does not support binary websocket messages. ' +\n                'Performance may be slow.';\n        }\n    }\n\n    this.imageObj = new Image();\n\n    this.context = undefined;\n    this.message = undefined;\n    this.canvas = undefined;\n    this.rubberband_canvas = undefined;\n    this.rubberband_context = undefined;\n    this.format_dropdown = undefined;\n\n    this.image_mode = 'full';\n\n    this.root = document.createElement('div');\n    this.root.setAttribute('style', 'display: inline-block');\n    this._root_extra_style(this.root);\n\n    parent_element.appendChild(this.root);\n\n    this._init_header(this);\n    this._init_canvas(this);\n    this._init_toolbar(this);\n\n    var fig = this;\n\n    this.waiting = false;\n\n    this.ws.onopen = function () {\n        fig.send_message('supports_binary', { value: fig.supports_binary });\n        fig.send_message('send_image_mode', {});\n        if (fig.ratio !== 1) {\n            fig.send_message('set_device_pixel_ratio', {\n                device_pixel_ratio: fig.ratio,\n            });\n        }\n        fig.send_message('refresh', {});\n    };\n\n    this.imageObj.onload = function () {\n        if (fig.image_mode === 'full') {\n            // Full images could contain transparency (where diff images\n            // almost always do), so we need to clear the canvas so that\n            // there is no ghosting.\n            fig.context.clearRect(0, 0, fig.canvas.width, fig.canvas.height);\n        }\n        fig.context.drawImage(fig.imageObj, 0, 0);\n    };\n\n    this.imageObj.onunload = function () {\n        fig.ws.close();\n    };\n\n    this.ws.onmessage = this._make_on_message_function(this);\n\n    this.ondownload = ondownload;\n};\n\nmpl.figure.prototype._init_header = function () {\n    var titlebar = document.createElement('div');\n    titlebar.classList =\n        'ui-dialog-titlebar ui-widget-header ui-corner-all ui-helper-clearfix';\n    var titletext = document.createElement('div');\n    titletext.classList = 'ui-dialog-title';\n    titletext.setAttribute(\n        'style',\n        'width: 100%; text-align: center; padding: 3px;'\n    );\n    titlebar.appendChild(titletext);\n    this.root.appendChild(titlebar);\n    this.header = titletext;\n};\n\nmpl.figure.prototype._canvas_extra_style = function (_canvas_div) {};\n\nmpl.figure.prototype._root_extra_style = function (_canvas_div) {};\n\nmpl.figure.prototype._init_canvas = function () {\n    var fig = this;\n\n    var canvas_div = (this.canvas_div = document.createElement('div'));\n    canvas_div.setAttribute('tabindex', '0');\n    canvas_div.setAttribute(\n        'style',\n        'border: 1px solid #ddd;' +\n            'box-sizing: content-box;' +\n            'clear: both;' +\n            'min-height: 1px;' +\n            'min-width: 1px;' +\n            'outline: 0;' +\n            'overflow: hidden;' +\n            'position: relative;' +\n            'resize: both;' +\n            'z-index: 2;'\n    );\n\n    function on_keyboard_event_closure(name) {\n        return function (event) {\n            return fig.key_event(event, name);\n        };\n    }\n\n    canvas_div.addEventListener(\n        'keydown',\n        on_keyboard_event_closure('key_press')\n    );\n    canvas_div.addEventListener(\n        'keyup',\n        on_keyboard_event_closure('key_release')\n    );\n\n    this._canvas_extra_style(canvas_div);\n    this.root.appendChild(canvas_div);\n\n    var canvas = (this.canvas = document.createElement('canvas'));\n    canvas.classList.add('mpl-canvas');\n    canvas.setAttribute(\n        'style',\n        'box-sizing: content-box;' +\n            'pointer-events: none;' +\n            'position: relative;' +\n            'z-index: 0;'\n    );\n\n    this.context = canvas.getContext('2d');\n\n    var backingStore =\n        this.context.backingStorePixelRatio ||\n        this.context.webkitBackingStorePixelRatio ||\n        this.context.mozBackingStorePixelRatio ||\n        this.context.msBackingStorePixelRatio ||\n        this.context.oBackingStorePixelRatio ||\n        this.context.backingStorePixelRatio ||\n        1;\n\n    this.ratio = (window.devicePixelRatio || 1) / backingStore;\n\n    var rubberband_canvas = (this.rubberband_canvas = document.createElement(\n        'canvas'\n    ));\n    rubberband_canvas.setAttribute(\n        'style',\n        'box-sizing: content-box;' +\n            'left: 0;' +\n            'pointer-events: none;' +\n            'position: absolute;' +\n            'top: 0;' +\n            'z-index: 1;'\n    );\n\n    // Apply a ponyfill if ResizeObserver is not implemented by browser.\n    if (this.ResizeObserver === undefined) {\n        if (window.ResizeObserver !== undefined) {\n            this.ResizeObserver = window.ResizeObserver;\n        } else {\n            var obs = _JSXTOOLS_RESIZE_OBSERVER({});\n            this.ResizeObserver = obs.ResizeObserver;\n        }\n    }\n\n    this.resizeObserverInstance = new this.ResizeObserver(function (entries) {\n        var nentries = entries.length;\n        for (var i = 0; i < nentries; i++) {\n            var entry = entries[i];\n            var width, height;\n            if (entry.contentBoxSize) {\n                if (entry.contentBoxSize instanceof Array) {\n                    // Chrome 84 implements new version of spec.\n                    width = entry.contentBoxSize[0].inlineSize;\n                    height = entry.contentBoxSize[0].blockSize;\n                } else {\n                    // Firefox implements old version of spec.\n                    width = entry.contentBoxSize.inlineSize;\n                    height = entry.contentBoxSize.blockSize;\n                }\n            } else {\n                // Chrome <84 implements even older version of spec.\n                width = entry.contentRect.width;\n                height = entry.contentRect.height;\n            }\n\n            // Keep the size of the canvas and rubber band canvas in sync with\n            // the canvas container.\n            if (entry.devicePixelContentBoxSize) {\n                // Chrome 84 implements new version of spec.\n                canvas.setAttribute(\n                    'width',\n                    entry.devicePixelContentBoxSize[0].inlineSize\n                );\n                canvas.setAttribute(\n                    'height',\n                    entry.devicePixelContentBoxSize[0].blockSize\n                );\n            } else {\n                canvas.setAttribute('width', width * fig.ratio);\n                canvas.setAttribute('height', height * fig.ratio);\n            }\n            /* This rescales the canvas back to display pixels, so that it\n             * appears correct on HiDPI screens. */\n            canvas.style.width = width + 'px';\n            canvas.style.height = height + 'px';\n\n            rubberband_canvas.setAttribute('width', width);\n            rubberband_canvas.setAttribute('height', height);\n\n            // And update the size in Python. We ignore the initial 0/0 size\n            // that occurs as the element is placed into the DOM, which should\n            // otherwise not happen due to the minimum size styling.\n            if (fig.ws.readyState == 1 && width != 0 && height != 0) {\n                fig.request_resize(width, height);\n            }\n        }\n    });\n    this.resizeObserverInstance.observe(canvas_div);\n\n    function on_mouse_event_closure(name) {\n        /* User Agent sniffing is bad, but WebKit is busted:\n         * https://bugs.webkit.org/show_bug.cgi?id=144526\n         * https://bugs.webkit.org/show_bug.cgi?id=181818\n         * The worst that happens here is that they get an extra browser\n         * selection when dragging, if this check fails to catch them.\n         */\n        var UA = navigator.userAgent;\n        var isWebKit = /AppleWebKit/.test(UA) && !/Chrome/.test(UA);\n        if(isWebKit) {\n            return function (event) {\n                /* This prevents the web browser from automatically changing to\n                 * the text insertion cursor when the button is pressed. We\n                 * want to control all of the cursor setting manually through\n                 * the 'cursor' event from matplotlib */\n                event.preventDefault()\n                return fig.mouse_event(event, name);\n            };\n        } else {\n            return function (event) {\n                return fig.mouse_event(event, name);\n            };\n        }\n    }\n\n    canvas_div.addEventListener(\n        'mousedown',\n        on_mouse_event_closure('button_press')\n    );\n    canvas_div.addEventListener(\n        'mouseup',\n        on_mouse_event_closure('button_release')\n    );\n    canvas_div.addEventListener(\n        'dblclick',\n        on_mouse_event_closure('dblclick')\n    );\n    // Throttle sequential mouse events to 1 every 20ms.\n    canvas_div.addEventListener(\n        'mousemove',\n        on_mouse_event_closure('motion_notify')\n    );\n\n    canvas_div.addEventListener(\n        'mouseenter',\n        on_mouse_event_closure('figure_enter')\n    );\n    canvas_div.addEventListener(\n        'mouseleave',\n        on_mouse_event_closure('figure_leave')\n    );\n\n    canvas_div.addEventListener('wheel', function (event) {\n        if (event.deltaY < 0) {\n            event.step = 1;\n        } else {\n            event.step = -1;\n        }\n        on_mouse_event_closure('scroll')(event);\n    });\n\n    canvas_div.appendChild(canvas);\n    canvas_div.appendChild(rubberband_canvas);\n\n    this.rubberband_context = rubberband_canvas.getContext('2d');\n    this.rubberband_context.strokeStyle = '#000000';\n\n    this._resize_canvas = function (width, height, forward) {\n        if (forward) {\n            canvas_div.style.width = width + 'px';\n            canvas_div.style.height = height + 'px';\n        }\n    };\n\n    // Disable right mouse context menu.\n    canvas_div.addEventListener('contextmenu', function (_e) {\n        event.preventDefault();\n        return false;\n    });\n\n    function set_focus() {\n        canvas.focus();\n        canvas_div.focus();\n    }\n\n    window.setTimeout(set_focus, 100);\n};\n\nmpl.figure.prototype._init_toolbar = function () {\n    var fig = this;\n\n    var toolbar = document.createElement('div');\n    toolbar.classList = 'mpl-toolbar';\n    this.root.appendChild(toolbar);\n\n    function on_click_closure(name) {\n        return function (_event) {\n            return fig.toolbar_button_onclick(name);\n        };\n    }\n\n    function on_mouseover_closure(tooltip) {\n        return function (event) {\n            if (!event.currentTarget.disabled) {\n                return fig.toolbar_button_onmouseover(tooltip);\n            }\n        };\n    }\n\n    fig.buttons = {};\n    var buttonGroup = document.createElement('div');\n    buttonGroup.classList = 'mpl-button-group';\n    for (var toolbar_ind in mpl.toolbar_items) {\n        var name = mpl.toolbar_items[toolbar_ind][0];\n        var tooltip = mpl.toolbar_items[toolbar_ind][1];\n        var image = mpl.toolbar_items[toolbar_ind][2];\n        var method_name = mpl.toolbar_items[toolbar_ind][3];\n\n        if (!name) {\n            /* Instead of a spacer, we start a new button group. */\n            if (buttonGroup.hasChildNodes()) {\n                toolbar.appendChild(buttonGroup);\n            }\n            buttonGroup = document.createElement('div');\n            buttonGroup.classList = 'mpl-button-group';\n            continue;\n        }\n\n        var button = (fig.buttons[name] = document.createElement('button'));\n        button.classList = 'mpl-widget';\n        button.setAttribute('role', 'button');\n        button.setAttribute('aria-disabled', 'false');\n        button.addEventListener('click', on_click_closure(method_name));\n        button.addEventListener('mouseover', on_mouseover_closure(tooltip));\n\n        var icon_img = document.createElement('img');\n        icon_img.src = '_images/' + image + '.png';\n        icon_img.srcset = '_images/' + image + '_large.png 2x';\n        icon_img.alt = tooltip;\n        button.appendChild(icon_img);\n\n        buttonGroup.appendChild(button);\n    }\n\n    if (buttonGroup.hasChildNodes()) {\n        toolbar.appendChild(buttonGroup);\n    }\n\n    var fmt_picker = document.createElement('select');\n    fmt_picker.classList = 'mpl-widget';\n    toolbar.appendChild(fmt_picker);\n    this.format_dropdown = fmt_picker;\n\n    for (var ind in mpl.extensions) {\n        var fmt = mpl.extensions[ind];\n        var option = document.createElement('option');\n        option.selected = fmt === mpl.default_extension;\n        option.innerHTML = fmt;\n        fmt_picker.appendChild(option);\n    }\n\n    var status_bar = document.createElement('span');\n    status_bar.classList = 'mpl-message';\n    toolbar.appendChild(status_bar);\n    this.message = status_bar;\n};\n\nmpl.figure.prototype.request_resize = function (x_pixels, y_pixels) {\n    // Request matplotlib to resize the figure. Matplotlib will then trigger a resize in the client,\n    // which will in turn request a refresh of the image.\n    this.send_message('resize', { width: x_pixels, height: y_pixels });\n};\n\nmpl.figure.prototype.send_message = function (type, properties) {\n    properties['type'] = type;\n    properties['figure_id'] = this.id;\n    this.ws.send(JSON.stringify(properties));\n};\n\nmpl.figure.prototype.send_draw_message = function () {\n    if (!this.waiting) {\n        this.waiting = true;\n        this.ws.send(JSON.stringify({ type: 'draw', figure_id: this.id }));\n    }\n};\n\nmpl.figure.prototype.handle_save = function (fig, _msg) {\n    var format_dropdown = fig.format_dropdown;\n    var format = format_dropdown.options[format_dropdown.selectedIndex].value;\n    fig.ondownload(fig, format);\n};\n\nmpl.figure.prototype.handle_resize = function (fig, msg) {\n    var size = msg['size'];\n    if (size[0] !== fig.canvas.width || size[1] !== fig.canvas.height) {\n        fig._resize_canvas(size[0], size[1], msg['forward']);\n        fig.send_message('refresh', {});\n    }\n};\n\nmpl.figure.prototype.handle_rubberband = function (fig, msg) {\n    var x0 = msg['x0'] / fig.ratio;\n    var y0 = (fig.canvas.height - msg['y0']) / fig.ratio;\n    var x1 = msg['x1'] / fig.ratio;\n    var y1 = (fig.canvas.height - msg['y1']) / fig.ratio;\n    x0 = Math.floor(x0) + 0.5;\n    y0 = Math.floor(y0) + 0.5;\n    x1 = Math.floor(x1) + 0.5;\n    y1 = Math.floor(y1) + 0.5;\n    var min_x = Math.min(x0, x1);\n    var min_y = Math.min(y0, y1);\n    var width = Math.abs(x1 - x0);\n    var height = Math.abs(y1 - y0);\n\n    fig.rubberband_context.clearRect(\n        0,\n        0,\n        fig.canvas.width / fig.ratio,\n        fig.canvas.height / fig.ratio\n    );\n\n    fig.rubberband_context.strokeRect(min_x, min_y, width, height);\n};\n\nmpl.figure.prototype.handle_figure_label = function (fig, msg) {\n    // Updates the figure title.\n    fig.header.textContent = msg['label'];\n};\n\nmpl.figure.prototype.handle_cursor = function (fig, msg) {\n    fig.canvas_div.style.cursor = msg['cursor'];\n};\n\nmpl.figure.prototype.handle_message = function (fig, msg) {\n    fig.message.textContent = msg['message'];\n};\n\nmpl.figure.prototype.handle_draw = function (fig, _msg) {\n    // Request the server to send over a new figure.\n    fig.send_draw_message();\n};\n\nmpl.figure.prototype.handle_image_mode = function (fig, msg) {\n    fig.image_mode = msg['mode'];\n};\n\nmpl.figure.prototype.handle_history_buttons = function (fig, msg) {\n    for (var key in msg) {\n        if (!(key in fig.buttons)) {\n            continue;\n        }\n        fig.buttons[key].disabled = !msg[key];\n        fig.buttons[key].setAttribute('aria-disabled', !msg[key]);\n    }\n};\n\nmpl.figure.prototype.handle_navigate_mode = function (fig, msg) {\n    if (msg['mode'] === 'PAN') {\n        fig.buttons['Pan'].classList.add('active');\n        fig.buttons['Zoom'].classList.remove('active');\n    } else if (msg['mode'] === 'ZOOM') {\n        fig.buttons['Pan'].classList.remove('active');\n        fig.buttons['Zoom'].classList.add('active');\n    } else {\n        fig.buttons['Pan'].classList.remove('active');\n        fig.buttons['Zoom'].classList.remove('active');\n    }\n};\n\nmpl.figure.prototype.updated_canvas_event = function () {\n    // Called whenever the canvas gets updated.\n    this.send_message('ack', {});\n};\n\n// A function to construct a web socket function for onmessage handling.\n// Called in the figure constructor.\nmpl.figure.prototype._make_on_message_function = function (fig) {\n    return function socket_on_message(evt) {\n        if (evt.data instanceof Blob) {\n            var img = evt.data;\n            if (img.type !== 'image/png') {\n                /* FIXME: We get \"Resource interpreted as Image but\n                 * transferred with MIME type text/plain:\" errors on\n                 * Chrome.  But how to set the MIME type?  It doesn't seem\n                 * to be part of the websocket stream */\n                img.type = 'image/png';\n            }\n\n            /* Free the memory for the previous frames */\n            if (fig.imageObj.src) {\n                (window.URL || window.webkitURL).revokeObjectURL(\n                    fig.imageObj.src\n                );\n            }\n\n            fig.imageObj.src = (window.URL || window.webkitURL).createObjectURL(\n                img\n            );\n            fig.updated_canvas_event();\n            fig.waiting = false;\n            return;\n        } else if (\n            typeof evt.data === 'string' &&\n            evt.data.slice(0, 21) === 'data:image/png;base64'\n        ) {\n            fig.imageObj.src = evt.data;\n            fig.updated_canvas_event();\n            fig.waiting = false;\n            return;\n        }\n\n        var msg = JSON.parse(evt.data);\n        var msg_type = msg['type'];\n\n        // Call the  \"handle_{type}\" callback, which takes\n        // the figure and JSON message as its only arguments.\n        try {\n            var callback = fig['handle_' + msg_type];\n        } catch (e) {\n            console.log(\n                \"No handler for the '\" + msg_type + \"' message type: \",\n                msg\n            );\n            return;\n        }\n\n        if (callback) {\n            try {\n                // console.log(\"Handling '\" + msg_type + \"' message: \", msg);\n                callback(fig, msg);\n            } catch (e) {\n                console.log(\n                    \"Exception inside the 'handler_\" + msg_type + \"' callback:\",\n                    e,\n                    e.stack,\n                    msg\n                );\n            }\n        }\n    };\n};\n\nfunction getModifiers(event) {\n    var mods = [];\n    if (event.ctrlKey) {\n        mods.push('ctrl');\n    }\n    if (event.altKey) {\n        mods.push('alt');\n    }\n    if (event.shiftKey) {\n        mods.push('shift');\n    }\n    if (event.metaKey) {\n        mods.push('meta');\n    }\n    return mods;\n}\n\n/*\n * return a copy of an object with only non-object keys\n * we need this to avoid circular references\n * https://stackoverflow.com/a/24161582/3208463\n */\nfunction simpleKeys(original) {\n    return Object.keys(original).reduce(function (obj, key) {\n        if (typeof original[key] !== 'object') {\n            obj[key] = original[key];\n        }\n        return obj;\n    }, {});\n}\n\nmpl.figure.prototype.mouse_event = function (event, name) {\n    if (name === 'button_press') {\n        this.canvas.focus();\n        this.canvas_div.focus();\n    }\n\n    // from https://stackoverflow.com/q/1114465\n    var boundingRect = this.canvas.getBoundingClientRect();\n    var x = (event.clientX - boundingRect.left) * this.ratio;\n    var y = (event.clientY - boundingRect.top) * this.ratio;\n\n    this.send_message(name, {\n        x: x,\n        y: y,\n        button: event.button,\n        step: event.step,\n        modifiers: getModifiers(event),\n        guiEvent: simpleKeys(event),\n    });\n\n    return false;\n};\n\nmpl.figure.prototype._key_event_extra = function (_event, _name) {\n    // Handle any extra behaviour associated with a key event\n};\n\nmpl.figure.prototype.key_event = function (event, name) {\n    // Prevent repeat events\n    if (name === 'key_press') {\n        if (event.key === this._key) {\n            return;\n        } else {\n            this._key = event.key;\n        }\n    }\n    if (name === 'key_release') {\n        this._key = null;\n    }\n\n    var value = '';\n    if (event.ctrlKey && event.key !== 'Control') {\n        value += 'ctrl+';\n    }\n    else if (event.altKey && event.key !== 'Alt') {\n        value += 'alt+';\n    }\n    else if (event.shiftKey && event.key !== 'Shift') {\n        value += 'shift+';\n    }\n\n    value += 'k' + event.key;\n\n    this._key_event_extra(event, name);\n\n    this.send_message(name, { key: value, guiEvent: simpleKeys(event) });\n    return false;\n};\n\nmpl.figure.prototype.toolbar_button_onclick = function (name) {\n    if (name === 'download') {\n        this.handle_save(this, null);\n    } else {\n        this.send_message('toolbar_button', { name: name });\n    }\n};\n\nmpl.figure.prototype.toolbar_button_onmouseover = function (tooltip) {\n    this.message.textContent = tooltip;\n};\n\n///////////////// REMAINING CONTENT GENERATED BY embed_js.py /////////////////\n// prettier-ignore\nvar _JSXTOOLS_RESIZE_OBSERVER=function(A){var t,i=new WeakMap,n=new WeakMap,a=new WeakMap,r=new WeakMap,o=new Set;function s(e){if(!(this instanceof s))throw new TypeError(\"Constructor requires 'new' operator\");i.set(this,e)}function h(){throw new TypeError(\"Function is not a constructor\")}function c(e,t,i,n){e=0 in arguments?Number(arguments[0]):0,t=1 in arguments?Number(arguments[1]):0,i=2 in arguments?Number(arguments[2]):0,n=3 in arguments?Number(arguments[3]):0,this.right=(this.x=this.left=e)+(this.width=i),this.bottom=(this.y=this.top=t)+(this.height=n),Object.freeze(this)}function d(){t=requestAnimationFrame(d);var s=new WeakMap,p=new Set;o.forEach((function(t){r.get(t).forEach((function(i){var r=t instanceof window.SVGElement,o=a.get(t),d=r?0:parseFloat(o.paddingTop),f=r?0:parseFloat(o.paddingRight),l=r?0:parseFloat(o.paddingBottom),u=r?0:parseFloat(o.paddingLeft),g=r?0:parseFloat(o.borderTopWidth),m=r?0:parseFloat(o.borderRightWidth),w=r?0:parseFloat(o.borderBottomWidth),b=u+f,F=d+l,v=(r?0:parseFloat(o.borderLeftWidth))+m,W=g+w,y=r?0:t.offsetHeight-W-t.clientHeight,E=r?0:t.offsetWidth-v-t.clientWidth,R=b+v,z=F+W,M=r?t.width:parseFloat(o.width)-R-E,O=r?t.height:parseFloat(o.height)-z-y;if(n.has(t)){var k=n.get(t);if(k[0]===M&&k[1]===O)return}n.set(t,[M,O]);var S=Object.create(h.prototype);S.target=t,S.contentRect=new c(u,d,M,O),s.has(i)||(s.set(i,[]),p.add(i)),s.get(i).push(S)}))})),p.forEach((function(e){i.get(e).call(e,s.get(e),e)}))}return s.prototype.observe=function(i){if(i instanceof window.Element){r.has(i)||(r.set(i,new Set),o.add(i),a.set(i,window.getComputedStyle(i)));var n=r.get(i);n.has(this)||n.add(this),cancelAnimationFrame(t),t=requestAnimationFrame(d)}},s.prototype.unobserve=function(i){if(i instanceof window.Element&&r.has(i)){var n=r.get(i);n.has(this)&&(n.delete(this),n.size||(r.delete(i),o.delete(i))),n.size||r.delete(i),o.size||cancelAnimationFrame(t)}},A.DOMRectReadOnly=c,A.ResizeObserver=s,A.ResizeObserverEntry=h,A}; // eslint-disable-line\nmpl.toolbar_items = [[\"Home\", \"Reset original view\", \"fa fa-home\", \"home\"], [\"Back\", \"Back to previous view\", \"fa fa-arrow-left\", \"back\"], [\"Forward\", \"Forward to next view\", \"fa fa-arrow-right\", \"forward\"], [\"\", \"\", \"\", \"\"], [\"Pan\", \"Left button pans, Right button zooms\\nx/y fixes axis, CTRL fixes aspect\", \"fa fa-arrows\", \"pan\"], [\"Zoom\", \"Zoom to rectangle\\nx/y fixes axis\", \"fa fa-square-o\", \"zoom\"], [\"\", \"\", \"\", \"\"], [\"Download\", \"Download plot\", \"fa fa-floppy-o\", \"download\"]];\n\nmpl.extensions = [\"eps\", \"jpeg\", \"pgf\", \"pdf\", \"png\", \"ps\", \"raw\", \"svg\", \"tif\", \"webp\"];\n\nmpl.default_extension = \"png\";/* global mpl */\n\nvar comm_websocket_adapter = function (comm) {\n    // Create a \"websocket\"-like object which calls the given IPython comm\n    // object with the appropriate methods. Currently this is a non binary\n    // socket, so there is still some room for performance tuning.\n    var ws = {};\n\n    ws.binaryType = comm.kernel.ws.binaryType;\n    ws.readyState = comm.kernel.ws.readyState;\n    function updateReadyState(_event) {\n        if (comm.kernel.ws) {\n            ws.readyState = comm.kernel.ws.readyState;\n        } else {\n            ws.readyState = 3; // Closed state.\n        }\n    }\n    comm.kernel.ws.addEventListener('open', updateReadyState);\n    comm.kernel.ws.addEventListener('close', updateReadyState);\n    comm.kernel.ws.addEventListener('error', updateReadyState);\n\n    ws.close = function () {\n        comm.close();\n    };\n    ws.send = function (m) {\n        //console.log('sending', m);\n        comm.send(m);\n    };\n    // Register the callback with on_msg.\n    comm.on_msg(function (msg) {\n        //console.log('receiving', msg['content']['data'], msg);\n        var data = msg['content']['data'];\n        if (data['blob'] !== undefined) {\n            data = {\n                data: new Blob(msg['buffers'], { type: data['blob'] }),\n            };\n        }\n        // Pass the mpl event to the overridden (by mpl) onmessage function.\n        ws.onmessage(data);\n    });\n    return ws;\n};\n\nmpl.mpl_figure_comm = function (comm, msg) {\n    // This is the function which gets called when the mpl process\n    // starts-up an IPython Comm through the \"matplotlib\" channel.\n\n    var id = msg.content.data.id;\n    // Get hold of the div created by the display call when the Comm\n    // socket was opened in Python.\n    var element = document.getElementById(id);\n    var ws_proxy = comm_websocket_adapter(comm);\n\n    function ondownload(figure, _format) {\n        window.open(figure.canvas.toDataURL());\n    }\n\n    var fig = new mpl.figure(id, ws_proxy, ondownload, element);\n\n    // Call onopen now - mpl needs it, as it is assuming we've passed it a real\n    // web socket which is closed, not our websocket->open comm proxy.\n    ws_proxy.onopen();\n\n    fig.parent_element = element;\n    fig.cell_info = mpl.find_output_cell(\"<div id='\" + id + \"'></div>\");\n    if (!fig.cell_info) {\n        console.error('Failed to find cell for figure', id, fig);\n        return;\n    }\n    fig.cell_info[0].output_area.element.on(\n        'cleared',\n        { fig: fig },\n        fig._remove_fig_handler\n    );\n};\n\nmpl.figure.prototype.handle_close = function (fig, msg) {\n    var width = fig.canvas.width / fig.ratio;\n    fig.cell_info[0].output_area.element.off(\n        'cleared',\n        fig._remove_fig_handler\n    );\n    fig.resizeObserverInstance.unobserve(fig.canvas_div);\n\n    // Update the output cell to use the data from the current canvas.\n    fig.push_to_output();\n    var dataURL = fig.canvas.toDataURL();\n    // Re-enable the keyboard manager in IPython - without this line, in FF,\n    // the notebook keyboard shortcuts fail.\n    IPython.keyboard_manager.enable();\n    fig.parent_element.innerHTML =\n        '<img src=\"' + dataURL + '\" width=\"' + width + '\">';\n    fig.close_ws(fig, msg);\n};\n\nmpl.figure.prototype.close_ws = function (fig, msg) {\n    fig.send_message('closing', msg);\n    // fig.ws.close()\n};\n\nmpl.figure.prototype.push_to_output = function (_remove_interactive) {\n    // Turn the data on the canvas into data in the output cell.\n    var width = this.canvas.width / this.ratio;\n    var dataURL = this.canvas.toDataURL();\n    this.cell_info[1]['text/html'] =\n        '<img src=\"' + dataURL + '\" width=\"' + width + '\">';\n};\n\nmpl.figure.prototype.updated_canvas_event = function () {\n    // Tell IPython that the notebook contents must change.\n    IPython.notebook.set_dirty(true);\n    this.send_message('ack', {});\n    var fig = this;\n    // Wait a second, then push the new image to the DOM so\n    // that it is saved nicely (might be nice to debounce this).\n    setTimeout(function () {\n        fig.push_to_output();\n    }, 1000);\n};\n\nmpl.figure.prototype._init_toolbar = function () {\n    var fig = this;\n\n    var toolbar = document.createElement('div');\n    toolbar.classList = 'btn-toolbar';\n    this.root.appendChild(toolbar);\n\n    function on_click_closure(name) {\n        return function (_event) {\n            return fig.toolbar_button_onclick(name);\n        };\n    }\n\n    function on_mouseover_closure(tooltip) {\n        return function (event) {\n            if (!event.currentTarget.disabled) {\n                return fig.toolbar_button_onmouseover(tooltip);\n            }\n        };\n    }\n\n    fig.buttons = {};\n    var buttonGroup = document.createElement('div');\n    buttonGroup.classList = 'btn-group';\n    var button;\n    for (var toolbar_ind in mpl.toolbar_items) {\n        var name = mpl.toolbar_items[toolbar_ind][0];\n        var tooltip = mpl.toolbar_items[toolbar_ind][1];\n        var image = mpl.toolbar_items[toolbar_ind][2];\n        var method_name = mpl.toolbar_items[toolbar_ind][3];\n\n        if (!name) {\n            /* Instead of a spacer, we start a new button group. */\n            if (buttonGroup.hasChildNodes()) {\n                toolbar.appendChild(buttonGroup);\n            }\n            buttonGroup = document.createElement('div');\n            buttonGroup.classList = 'btn-group';\n            continue;\n        }\n\n        button = fig.buttons[name] = document.createElement('button');\n        button.classList = 'btn btn-default';\n        button.href = '#';\n        button.title = name;\n        button.innerHTML = '<i class=\"fa ' + image + ' fa-lg\"></i>';\n        button.addEventListener('click', on_click_closure(method_name));\n        button.addEventListener('mouseover', on_mouseover_closure(tooltip));\n        buttonGroup.appendChild(button);\n    }\n\n    if (buttonGroup.hasChildNodes()) {\n        toolbar.appendChild(buttonGroup);\n    }\n\n    // Add the status bar.\n    var status_bar = document.createElement('span');\n    status_bar.classList = 'mpl-message pull-right';\n    toolbar.appendChild(status_bar);\n    this.message = status_bar;\n\n    // Add the close button to the window.\n    var buttongrp = document.createElement('div');\n    buttongrp.classList = 'btn-group inline pull-right';\n    button = document.createElement('button');\n    button.classList = 'btn btn-mini btn-primary';\n    button.href = '#';\n    button.title = 'Stop Interaction';\n    button.innerHTML = '<i class=\"fa fa-power-off icon-remove icon-large\"></i>';\n    button.addEventListener('click', function (_evt) {\n        fig.handle_close(fig, {});\n    });\n    button.addEventListener(\n        'mouseover',\n        on_mouseover_closure('Stop Interaction')\n    );\n    buttongrp.appendChild(button);\n    var titlebar = this.root.querySelector('.ui-dialog-titlebar');\n    titlebar.insertBefore(buttongrp, titlebar.firstChild);\n};\n\nmpl.figure.prototype._remove_fig_handler = function (event) {\n    var fig = event.data.fig;\n    if (event.target !== this) {\n        // Ignore bubbled events from children.\n        return;\n    }\n    fig.close_ws(fig, {});\n};\n\nmpl.figure.prototype._root_extra_style = function (el) {\n    el.style.boxSizing = 'content-box'; // override notebook setting of border-box.\n};\n\nmpl.figure.prototype._canvas_extra_style = function (el) {\n    // this is important to make the div 'focusable\n    el.setAttribute('tabindex', 0);\n    // reach out to IPython and tell the keyboard manager to turn it's self\n    // off when our div gets focus\n\n    // location in version 3\n    if (IPython.notebook.keyboard_manager) {\n        IPython.notebook.keyboard_manager.register_events(el);\n    } else {\n        // location in version 2\n        IPython.keyboard_manager.register_events(el);\n    }\n};\n\nmpl.figure.prototype._key_event_extra = function (event, _name) {\n    // Check for shift+enter\n    if (event.shiftKey && event.which === 13) {\n        this.canvas_div.blur();\n        // select the cell after this one\n        var index = IPython.notebook.find_cell_index(this.cell_info[0]);\n        IPython.notebook.select(index + 1);\n    }\n};\n\nmpl.figure.prototype.handle_save = function (fig, _msg) {\n    fig.ondownload(fig, null);\n};\n\nmpl.find_output_cell = function (html_output) {\n    // Return the cell and output element which can be found *uniquely* in the notebook.\n    // Note - this is a bit hacky, but it is done because the \"notebook_saving.Notebook\"\n    // IPython event is triggered only after the cells have been serialised, which for\n    // our purposes (turning an active figure into a static one), is too late.\n    var cells = IPython.notebook.get_cells();\n    var ncells = cells.length;\n    for (var i = 0; i < ncells; i++) {\n        var cell = cells[i];\n        if (cell.cell_type === 'code') {\n            for (var j = 0; j < cell.output_area.outputs.length; j++) {\n                var data = cell.output_area.outputs[j];\n                if (data.data) {\n                    // IPython >= 3 moved mimebundle to data attribute of output\n                    data = data.data;\n                }\n                if (data['text/html'] === html_output) {\n                    return [cell, data, j];\n                }\n            }\n        }\n    }\n};\n\n// Register the function which deals with the matplotlib target/channel.\n// The kernel may be null if the page has been refreshed.\nif (IPython.notebook.kernel !== null) {\n    IPython.notebook.kernel.comm_manager.register_target(\n        'matplotlib',\n        mpl.mpl_figure_comm\n    );\n}\n",
      "text/plain": [
       "<IPython.core.display.Javascript object>"
      ]
     },
     "metadata": {},
     "output_type": "display_data"
    },
    {
     "data": {
      "text/html": [
       "<div id='6d2494d2-8bc2-4fae-b3de-f588346b20ed'></div>"
      ],
      "text/plain": [
       "<IPython.core.display.HTML object>"
      ]
     },
     "metadata": {},
     "output_type": "display_data"
    },
    {
     "name": "stdout",
     "output_type": "stream",
     "text": [
      "収束までの繰り返し回数: 7\n"
     ]
    },
    {
     "name": "stderr",
     "output_type": "stream",
     "text": [
      "c:\\Users\\field-lab\\anaconda3\\envs\\study\\lib\\site-packages\\matplotlib\\animation.py:884: UserWarning: Animation was deleted without rendering anything. This is most likely not intended. To prevent deletion, assign the Animation to a variable, e.g. `anim`, that exists until you output the Animation using `plt.show()` or `anim.save()`.\n",
      "  warnings.warn(\n"
     ]
    }
   ],
   "source": [
    "fig, ax = plt.subplots()\n",
    "ims = []\n",
    "ax.set_ylim(-0.25, 2)\n",
    "ax.set_xlabel(X.columns[0])\n",
    "ax.set_ylabel(X.columns[1])\n",
    "ax.scatter(X.iloc[:, 0][y==0], X.iloc[:, 1][y==0], color='lightskyblue', label=data.target_names[0])\n",
    "ax.scatter(X.iloc[:, 0][y==1], X.iloc[:, 1][y==1], color='sandybrown', label=data.target_names[1])\n",
    "for n,w in enumerate(model.W):\n",
    "    w_0,w_1,w_2 = w\n",
    "    x1 = np.linspace(0, 6, 30)\n",
    "    x2 = (-w_1 * x1 - w_0) / w_2\n",
    "    # 決定境界およびデータ点を描画\n",
    "    img = ax.plot(x1, x2, color='gray')\n",
    "    img2=ax.text(2.5, 2.1,f\"n={n}\")\n",
    "    ims.append(img+[img2])\n",
    "print(\"収束までの繰り返し回数:\",len(model.W))\n",
    "ani = animation.ArtistAnimation(fig, ims, interval=500)\n",
    "#ani.save('MyLogisticRegression.gif', writer='imagemagick')"
   ]
  },
  {
   "cell_type": "code",
   "execution_count": null,
   "metadata": {},
   "outputs": [],
   "source": []
  }
 ],
 "metadata": {
  "kernelspec": {
   "display_name": "Python 3 (ipykernel)",
   "language": "python",
   "name": "python3"
  },
  "language_info": {
   "codemirror_mode": {
    "name": "ipython",
    "version": 3
   },
   "file_extension": ".py",
   "mimetype": "text/x-python",
   "name": "python",
   "nbconvert_exporter": "python",
   "pygments_lexer": "ipython3",
   "version": "3.8.11"
  }
 },
 "nbformat": 4,
 "nbformat_minor": 4
}
